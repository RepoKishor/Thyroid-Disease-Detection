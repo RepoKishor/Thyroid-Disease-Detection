{
 "cells": [
  {
   "cell_type": "code",
   "execution_count": 3,
   "metadata": {},
   "outputs": [],
   "source": [
    "import pandas as pd\n",
    "import numpy as np\n",
    "import matplotlib.pyplot as plot\n",
    "import seaborn as sns\n",
    "from sklearn.utils import resample\n",
    "from imblearn.over_sampling import SMOTENC,RandomOverSampler,KMeansSMOTE\n",
    "from sklearn.impute import KNNImputer\n",
    "from sklearn.preprocessing import LabelEncoder\n",
    "sns.set()\n",
    "from sklearn.model_selection import train_test_split\n",
    "# importing the SMOTE library\n",
    "from imblearn.over_sampling import SMOTE\n",
    "# importing the important libraries\n",
    "from sklearn.ensemble import RandomForestClassifier\n",
    "from sklearn.datasets import make_classification\n",
    "from sklearn.preprocessing import StandardScaler, MinMaxScaler,RobustScaler\n",
    "# import scikit-learn metrics module for accuracy calculation\n",
    "from sklearn import metrics\n",
    "from sklearn.pipeline import Pipeline\n",
    "from sklearn.linear_model import LogisticRegression\n",
    "from sklearn import metrics \n",
    "from sklearn.model_selection import  train_test_split, RepeatedStratifiedKFold, cross_val_score\n",
    "from statistics import mean"
   ]
  },
  {
   "cell_type": "code",
   "execution_count": 4,
   "metadata": {},
   "outputs": [],
   "source": [
    "# Load csv file\n",
    "df = pd.read_csv('/config/workspace/hypothyroid.csv', na_values=\"na\")"
   ]
  },
  {
   "cell_type": "code",
   "execution_count": 5,
   "metadata": {},
   "outputs": [
    {
     "data": {
      "text/plain": [
       "(3772, 30)"
      ]
     },
     "execution_count": 5,
     "metadata": {},
     "output_type": "execute_result"
    }
   ],
   "source": [
    "df.shape"
   ]
  },
  {
   "cell_type": "code",
   "execution_count": 6,
   "metadata": {},
   "outputs": [
    {
     "data": {
      "text/plain": [
       "negative                   3481\n",
       "compensated_hypothyroid     194\n",
       "primary_hypothyroid          95\n",
       "secondary_hypothyroid         2\n",
       "Name: Class, dtype: int64"
      ]
     },
     "execution_count": 6,
     "metadata": {},
     "output_type": "execute_result"
    }
   ],
   "source": [
    "# Check unique values of target varaible\n",
    "df['Class'].value_counts()"
   ]
  },
  {
   "cell_type": "code",
   "execution_count": 7,
   "metadata": {},
   "outputs": [
    {
     "name": "stdout",
     "output_type": "stream",
     "text": [
      "We have 0 numerical features : []\n",
      "\n",
      "We have 30 categorical features : ['age', 'sex', 'on_thyroxine', 'query_on_thyroxine', 'on_antithyroid_medication', 'sick', 'pregnant', 'thyroid_surgery', 'I131_treatment', 'query_hypothyroid', 'query_hyperthyroid', 'lithium', 'goitre', 'tumor', 'hypopituitary', 'psych', 'TSH_measured', 'TSH', 'T3_measured', 'T3', 'TT4_measured', 'TT4', 'T4U_measured', 'T4U', 'FTI_measured', 'FTI', 'TBG_measured', 'TBG', 'referral_source', 'Class']\n"
     ]
    }
   ],
   "source": [
    "# define numerical & categorical columns\n",
    "numeric_features = [feature for feature in df.columns if df[feature].dtype != 'O']\n",
    "categorical_features = [feature for feature in df.columns if df[feature].dtype == 'O']\n",
    "\n",
    "# print columns\n",
    "print('We have {} numerical features : {}'.format(len(numeric_features), numeric_features))\n",
    "print('\\nWe have {} categorical features : {}'.format(len(categorical_features), categorical_features))"
   ]
  },
  {
   "cell_type": "code",
   "execution_count": 8,
   "metadata": {},
   "outputs": [
    {
     "data": {
      "text/html": [
       "<div>\n",
       "<style scoped>\n",
       "    .dataframe tbody tr th:only-of-type {\n",
       "        vertical-align: middle;\n",
       "    }\n",
       "\n",
       "    .dataframe tbody tr th {\n",
       "        vertical-align: top;\n",
       "    }\n",
       "\n",
       "    .dataframe thead th {\n",
       "        text-align: right;\n",
       "    }\n",
       "</style>\n",
       "<table border=\"1\" class=\"dataframe\">\n",
       "  <thead>\n",
       "    <tr style=\"text-align: right;\">\n",
       "      <th></th>\n",
       "      <th>age</th>\n",
       "      <th>sex</th>\n",
       "      <th>on_thyroxine</th>\n",
       "      <th>query_on_thyroxine</th>\n",
       "      <th>on_antithyroid_medication</th>\n",
       "      <th>sick</th>\n",
       "      <th>pregnant</th>\n",
       "      <th>thyroid_surgery</th>\n",
       "      <th>I131_treatment</th>\n",
       "      <th>query_hypothyroid</th>\n",
       "      <th>...</th>\n",
       "      <th>TT4_measured</th>\n",
       "      <th>TT4</th>\n",
       "      <th>T4U_measured</th>\n",
       "      <th>T4U</th>\n",
       "      <th>FTI_measured</th>\n",
       "      <th>FTI</th>\n",
       "      <th>TBG_measured</th>\n",
       "      <th>TBG</th>\n",
       "      <th>referral_source</th>\n",
       "      <th>Class</th>\n",
       "    </tr>\n",
       "  </thead>\n",
       "  <tbody>\n",
       "    <tr>\n",
       "      <th>count</th>\n",
       "      <td>3772</td>\n",
       "      <td>3772</td>\n",
       "      <td>3772</td>\n",
       "      <td>3772</td>\n",
       "      <td>3772</td>\n",
       "      <td>3772</td>\n",
       "      <td>3772</td>\n",
       "      <td>3772</td>\n",
       "      <td>3772</td>\n",
       "      <td>3772</td>\n",
       "      <td>...</td>\n",
       "      <td>3772</td>\n",
       "      <td>3772</td>\n",
       "      <td>3772</td>\n",
       "      <td>3772</td>\n",
       "      <td>3772</td>\n",
       "      <td>3772</td>\n",
       "      <td>3772</td>\n",
       "      <td>3772</td>\n",
       "      <td>3772</td>\n",
       "      <td>3772</td>\n",
       "    </tr>\n",
       "    <tr>\n",
       "      <th>unique</th>\n",
       "      <td>94</td>\n",
       "      <td>3</td>\n",
       "      <td>2</td>\n",
       "      <td>2</td>\n",
       "      <td>2</td>\n",
       "      <td>2</td>\n",
       "      <td>2</td>\n",
       "      <td>2</td>\n",
       "      <td>2</td>\n",
       "      <td>2</td>\n",
       "      <td>...</td>\n",
       "      <td>2</td>\n",
       "      <td>242</td>\n",
       "      <td>2</td>\n",
       "      <td>147</td>\n",
       "      <td>2</td>\n",
       "      <td>235</td>\n",
       "      <td>1</td>\n",
       "      <td>1</td>\n",
       "      <td>5</td>\n",
       "      <td>4</td>\n",
       "    </tr>\n",
       "    <tr>\n",
       "      <th>top</th>\n",
       "      <td>59</td>\n",
       "      <td>F</td>\n",
       "      <td>f</td>\n",
       "      <td>f</td>\n",
       "      <td>f</td>\n",
       "      <td>f</td>\n",
       "      <td>f</td>\n",
       "      <td>f</td>\n",
       "      <td>f</td>\n",
       "      <td>f</td>\n",
       "      <td>...</td>\n",
       "      <td>t</td>\n",
       "      <td>?</td>\n",
       "      <td>t</td>\n",
       "      <td>?</td>\n",
       "      <td>t</td>\n",
       "      <td>?</td>\n",
       "      <td>f</td>\n",
       "      <td>?</td>\n",
       "      <td>other</td>\n",
       "      <td>negative</td>\n",
       "    </tr>\n",
       "    <tr>\n",
       "      <th>freq</th>\n",
       "      <td>95</td>\n",
       "      <td>2480</td>\n",
       "      <td>3308</td>\n",
       "      <td>3722</td>\n",
       "      <td>3729</td>\n",
       "      <td>3625</td>\n",
       "      <td>3719</td>\n",
       "      <td>3719</td>\n",
       "      <td>3713</td>\n",
       "      <td>3538</td>\n",
       "      <td>...</td>\n",
       "      <td>3541</td>\n",
       "      <td>231</td>\n",
       "      <td>3385</td>\n",
       "      <td>387</td>\n",
       "      <td>3387</td>\n",
       "      <td>385</td>\n",
       "      <td>3772</td>\n",
       "      <td>3772</td>\n",
       "      <td>2201</td>\n",
       "      <td>3481</td>\n",
       "    </tr>\n",
       "  </tbody>\n",
       "</table>\n",
       "<p>4 rows × 30 columns</p>\n",
       "</div>"
      ],
      "text/plain": [
       "         age   sex on_thyroxine query_on_thyroxine on_antithyroid_medication  \\\n",
       "count   3772  3772         3772               3772                      3772   \n",
       "unique    94     3            2                  2                         2   \n",
       "top       59     F            f                  f                         f   \n",
       "freq      95  2480         3308               3722                      3729   \n",
       "\n",
       "        sick pregnant thyroid_surgery I131_treatment query_hypothyroid  ...  \\\n",
       "count   3772     3772            3772           3772              3772  ...   \n",
       "unique     2        2               2              2                 2  ...   \n",
       "top        f        f               f              f                 f  ...   \n",
       "freq    3625     3719            3719           3713              3538  ...   \n",
       "\n",
       "       TT4_measured   TT4 T4U_measured   T4U FTI_measured   FTI TBG_measured  \\\n",
       "count          3772  3772         3772  3772         3772  3772         3772   \n",
       "unique            2   242            2   147            2   235            1   \n",
       "top               t     ?            t     ?            t     ?            f   \n",
       "freq           3541   231         3385   387         3387   385         3772   \n",
       "\n",
       "         TBG referral_source     Class  \n",
       "count   3772            3772      3772  \n",
       "unique     1               5         4  \n",
       "top        ?           other  negative  \n",
       "freq    3772            2201      3481  \n",
       "\n",
       "[4 rows x 30 columns]"
      ]
     },
     "execution_count": 8,
     "metadata": {},
     "output_type": "execute_result"
    }
   ],
   "source": [
    "df.describe()"
   ]
  },
  {
   "cell_type": "code",
   "execution_count": 9,
   "metadata": {},
   "outputs": [
    {
     "data": {
      "text/html": [
       "<div>\n",
       "<style scoped>\n",
       "    .dataframe tbody tr th:only-of-type {\n",
       "        vertical-align: middle;\n",
       "    }\n",
       "\n",
       "    .dataframe tbody tr th {\n",
       "        vertical-align: top;\n",
       "    }\n",
       "\n",
       "    .dataframe thead th {\n",
       "        text-align: right;\n",
       "    }\n",
       "</style>\n",
       "<table border=\"1\" class=\"dataframe\">\n",
       "  <thead>\n",
       "    <tr style=\"text-align: right;\">\n",
       "      <th></th>\n",
       "      <th>age</th>\n",
       "      <th>sex</th>\n",
       "      <th>on_thyroxine</th>\n",
       "      <th>query_on_thyroxine</th>\n",
       "      <th>on_antithyroid_medication</th>\n",
       "      <th>sick</th>\n",
       "      <th>pregnant</th>\n",
       "      <th>thyroid_surgery</th>\n",
       "      <th>I131_treatment</th>\n",
       "      <th>query_hypothyroid</th>\n",
       "      <th>...</th>\n",
       "      <th>TT4_measured</th>\n",
       "      <th>TT4</th>\n",
       "      <th>T4U_measured</th>\n",
       "      <th>T4U</th>\n",
       "      <th>FTI_measured</th>\n",
       "      <th>FTI</th>\n",
       "      <th>TBG_measured</th>\n",
       "      <th>TBG</th>\n",
       "      <th>referral_source</th>\n",
       "      <th>Class</th>\n",
       "    </tr>\n",
       "  </thead>\n",
       "  <tbody>\n",
       "    <tr>\n",
       "      <th>0</th>\n",
       "      <td>41</td>\n",
       "      <td>F</td>\n",
       "      <td>f</td>\n",
       "      <td>f</td>\n",
       "      <td>f</td>\n",
       "      <td>f</td>\n",
       "      <td>f</td>\n",
       "      <td>f</td>\n",
       "      <td>f</td>\n",
       "      <td>f</td>\n",
       "      <td>...</td>\n",
       "      <td>t</td>\n",
       "      <td>125</td>\n",
       "      <td>t</td>\n",
       "      <td>1.14</td>\n",
       "      <td>t</td>\n",
       "      <td>109</td>\n",
       "      <td>f</td>\n",
       "      <td>?</td>\n",
       "      <td>SVHC</td>\n",
       "      <td>negative</td>\n",
       "    </tr>\n",
       "    <tr>\n",
       "      <th>1</th>\n",
       "      <td>23</td>\n",
       "      <td>F</td>\n",
       "      <td>f</td>\n",
       "      <td>f</td>\n",
       "      <td>f</td>\n",
       "      <td>f</td>\n",
       "      <td>f</td>\n",
       "      <td>f</td>\n",
       "      <td>f</td>\n",
       "      <td>f</td>\n",
       "      <td>...</td>\n",
       "      <td>t</td>\n",
       "      <td>102</td>\n",
       "      <td>f</td>\n",
       "      <td>?</td>\n",
       "      <td>f</td>\n",
       "      <td>?</td>\n",
       "      <td>f</td>\n",
       "      <td>?</td>\n",
       "      <td>other</td>\n",
       "      <td>negative</td>\n",
       "    </tr>\n",
       "    <tr>\n",
       "      <th>2</th>\n",
       "      <td>46</td>\n",
       "      <td>M</td>\n",
       "      <td>f</td>\n",
       "      <td>f</td>\n",
       "      <td>f</td>\n",
       "      <td>f</td>\n",
       "      <td>f</td>\n",
       "      <td>f</td>\n",
       "      <td>f</td>\n",
       "      <td>f</td>\n",
       "      <td>...</td>\n",
       "      <td>t</td>\n",
       "      <td>109</td>\n",
       "      <td>t</td>\n",
       "      <td>0.91</td>\n",
       "      <td>t</td>\n",
       "      <td>120</td>\n",
       "      <td>f</td>\n",
       "      <td>?</td>\n",
       "      <td>other</td>\n",
       "      <td>negative</td>\n",
       "    </tr>\n",
       "    <tr>\n",
       "      <th>3</th>\n",
       "      <td>70</td>\n",
       "      <td>F</td>\n",
       "      <td>t</td>\n",
       "      <td>f</td>\n",
       "      <td>f</td>\n",
       "      <td>f</td>\n",
       "      <td>f</td>\n",
       "      <td>f</td>\n",
       "      <td>f</td>\n",
       "      <td>f</td>\n",
       "      <td>...</td>\n",
       "      <td>t</td>\n",
       "      <td>175</td>\n",
       "      <td>f</td>\n",
       "      <td>?</td>\n",
       "      <td>f</td>\n",
       "      <td>?</td>\n",
       "      <td>f</td>\n",
       "      <td>?</td>\n",
       "      <td>other</td>\n",
       "      <td>negative</td>\n",
       "    </tr>\n",
       "    <tr>\n",
       "      <th>4</th>\n",
       "      <td>70</td>\n",
       "      <td>F</td>\n",
       "      <td>f</td>\n",
       "      <td>f</td>\n",
       "      <td>f</td>\n",
       "      <td>f</td>\n",
       "      <td>f</td>\n",
       "      <td>f</td>\n",
       "      <td>f</td>\n",
       "      <td>f</td>\n",
       "      <td>...</td>\n",
       "      <td>t</td>\n",
       "      <td>61</td>\n",
       "      <td>t</td>\n",
       "      <td>0.87</td>\n",
       "      <td>t</td>\n",
       "      <td>70</td>\n",
       "      <td>f</td>\n",
       "      <td>?</td>\n",
       "      <td>SVI</td>\n",
       "      <td>negative</td>\n",
       "    </tr>\n",
       "  </tbody>\n",
       "</table>\n",
       "<p>5 rows × 30 columns</p>\n",
       "</div>"
      ],
      "text/plain": [
       "  age sex on_thyroxine query_on_thyroxine on_antithyroid_medication sick  \\\n",
       "0  41   F            f                  f                         f    f   \n",
       "1  23   F            f                  f                         f    f   \n",
       "2  46   M            f                  f                         f    f   \n",
       "3  70   F            t                  f                         f    f   \n",
       "4  70   F            f                  f                         f    f   \n",
       "\n",
       "  pregnant thyroid_surgery I131_treatment query_hypothyroid  ... TT4_measured  \\\n",
       "0        f               f              f                 f  ...            t   \n",
       "1        f               f              f                 f  ...            t   \n",
       "2        f               f              f                 f  ...            t   \n",
       "3        f               f              f                 f  ...            t   \n",
       "4        f               f              f                 f  ...            t   \n",
       "\n",
       "   TT4 T4U_measured   T4U FTI_measured  FTI TBG_measured TBG referral_source  \\\n",
       "0  125            t  1.14            t  109            f   ?            SVHC   \n",
       "1  102            f     ?            f    ?            f   ?           other   \n",
       "2  109            t  0.91            t  120            f   ?           other   \n",
       "3  175            f     ?            f    ?            f   ?           other   \n",
       "4   61            t  0.87            t   70            f   ?             SVI   \n",
       "\n",
       "      Class  \n",
       "0  negative  \n",
       "1  negative  \n",
       "2  negative  \n",
       "3  negative  \n",
       "4  negative  \n",
       "\n",
       "[5 rows x 30 columns]"
      ]
     },
     "execution_count": 9,
     "metadata": {},
     "output_type": "execute_result"
    }
   ],
   "source": [
    "df.head()"
   ]
  },
  {
   "cell_type": "code",
   "execution_count": 10,
   "metadata": {},
   "outputs": [
    {
     "name": "stdout",
     "output_type": "stream",
     "text": [
      "age 1\n",
      "sex 150\n",
      "TSH 369\n",
      "T3 769\n",
      "TT4 231\n",
      "T4U 387\n",
      "FTI 385\n",
      "TBG 3772\n"
     ]
    }
   ],
   "source": [
    "for column in df.columns:\n",
    "    count = df[column][df[column]=='?'].count()\n",
    "    if count!=0:\n",
    "        print(column, df[column][df[column]=='?'].count())"
   ]
  },
  {
   "cell_type": "code",
   "execution_count": 11,
   "metadata": {},
   "outputs": [
    {
     "data": {
      "text/plain": [
       "(3772, 23)"
      ]
     },
     "execution_count": 11,
     "metadata": {},
     "output_type": "execute_result"
    }
   ],
   "source": [
    "df = df.drop(['TBG','TSH_measured','T3_measured','TT4_measured','T4U_measured','FTI_measured','TBG_measured'],axis =1)\n",
    "df.shape"
   ]
  },
  {
   "cell_type": "code",
   "execution_count": 12,
   "metadata": {},
   "outputs": [],
   "source": [
    "# Now let's replace the '?' values with numpy nan\n",
    "for column in df.columns:\n",
    "    count = df[column][df[column]=='?'].count()\n",
    "    if count!=0:\n",
    "        df[column] = df[column].replace('?',np.nan)"
   ]
  },
  {
   "cell_type": "code",
   "execution_count": 13,
   "metadata": {},
   "outputs": [
    {
     "data": {
      "text/plain": [
       "age                            1\n",
       "sex                          150\n",
       "on_thyroxine                   0\n",
       "query_on_thyroxine             0\n",
       "on_antithyroid_medication      0\n",
       "sick                           0\n",
       "pregnant                       0\n",
       "thyroid_surgery                0\n",
       "I131_treatment                 0\n",
       "query_hypothyroid              0\n",
       "query_hyperthyroid             0\n",
       "lithium                        0\n",
       "goitre                         0\n",
       "tumor                          0\n",
       "hypopituitary                  0\n",
       "psych                          0\n",
       "TSH                          369\n",
       "T3                           769\n",
       "TT4                          231\n",
       "T4U                          387\n",
       "FTI                          385\n",
       "referral_source                0\n",
       "Class                          0\n",
       "dtype: int64"
      ]
     },
     "execution_count": 13,
     "metadata": {},
     "output_type": "execute_result"
    }
   ],
   "source": [
    "df.isnull().sum()"
   ]
  },
  {
   "cell_type": "code",
   "execution_count": 14,
   "metadata": {},
   "outputs": [],
   "source": [
    "for column in df.columns:\n",
    "    if  len(df[column].unique())==2:\n",
    "        df[column] = df[column].map({'f' : 0, 't' : 1})"
   ]
  },
  {
   "cell_type": "code",
   "execution_count": 15,
   "metadata": {},
   "outputs": [
    {
     "data": {
      "text/html": [
       "<div>\n",
       "<style scoped>\n",
       "    .dataframe tbody tr th:only-of-type {\n",
       "        vertical-align: middle;\n",
       "    }\n",
       "\n",
       "    .dataframe tbody tr th {\n",
       "        vertical-align: top;\n",
       "    }\n",
       "\n",
       "    .dataframe thead th {\n",
       "        text-align: right;\n",
       "    }\n",
       "</style>\n",
       "<table border=\"1\" class=\"dataframe\">\n",
       "  <thead>\n",
       "    <tr style=\"text-align: right;\">\n",
       "      <th></th>\n",
       "      <th>age</th>\n",
       "      <th>sex</th>\n",
       "      <th>on_thyroxine</th>\n",
       "      <th>query_on_thyroxine</th>\n",
       "      <th>on_antithyroid_medication</th>\n",
       "      <th>sick</th>\n",
       "      <th>pregnant</th>\n",
       "      <th>thyroid_surgery</th>\n",
       "      <th>I131_treatment</th>\n",
       "      <th>query_hypothyroid</th>\n",
       "      <th>...</th>\n",
       "      <th>tumor</th>\n",
       "      <th>hypopituitary</th>\n",
       "      <th>psych</th>\n",
       "      <th>TSH</th>\n",
       "      <th>T3</th>\n",
       "      <th>TT4</th>\n",
       "      <th>T4U</th>\n",
       "      <th>FTI</th>\n",
       "      <th>referral_source</th>\n",
       "      <th>Class</th>\n",
       "    </tr>\n",
       "  </thead>\n",
       "  <tbody>\n",
       "    <tr>\n",
       "      <th>0</th>\n",
       "      <td>41</td>\n",
       "      <td>F</td>\n",
       "      <td>0</td>\n",
       "      <td>0</td>\n",
       "      <td>0</td>\n",
       "      <td>0</td>\n",
       "      <td>0</td>\n",
       "      <td>0</td>\n",
       "      <td>0</td>\n",
       "      <td>0</td>\n",
       "      <td>...</td>\n",
       "      <td>0</td>\n",
       "      <td>0</td>\n",
       "      <td>0</td>\n",
       "      <td>1.3</td>\n",
       "      <td>2.5</td>\n",
       "      <td>125</td>\n",
       "      <td>1.14</td>\n",
       "      <td>109</td>\n",
       "      <td>SVHC</td>\n",
       "      <td>negative</td>\n",
       "    </tr>\n",
       "    <tr>\n",
       "      <th>1</th>\n",
       "      <td>23</td>\n",
       "      <td>F</td>\n",
       "      <td>0</td>\n",
       "      <td>0</td>\n",
       "      <td>0</td>\n",
       "      <td>0</td>\n",
       "      <td>0</td>\n",
       "      <td>0</td>\n",
       "      <td>0</td>\n",
       "      <td>0</td>\n",
       "      <td>...</td>\n",
       "      <td>0</td>\n",
       "      <td>0</td>\n",
       "      <td>0</td>\n",
       "      <td>4.1</td>\n",
       "      <td>2</td>\n",
       "      <td>102</td>\n",
       "      <td>NaN</td>\n",
       "      <td>NaN</td>\n",
       "      <td>other</td>\n",
       "      <td>negative</td>\n",
       "    </tr>\n",
       "    <tr>\n",
       "      <th>2</th>\n",
       "      <td>46</td>\n",
       "      <td>M</td>\n",
       "      <td>0</td>\n",
       "      <td>0</td>\n",
       "      <td>0</td>\n",
       "      <td>0</td>\n",
       "      <td>0</td>\n",
       "      <td>0</td>\n",
       "      <td>0</td>\n",
       "      <td>0</td>\n",
       "      <td>...</td>\n",
       "      <td>0</td>\n",
       "      <td>0</td>\n",
       "      <td>0</td>\n",
       "      <td>0.98</td>\n",
       "      <td>NaN</td>\n",
       "      <td>109</td>\n",
       "      <td>0.91</td>\n",
       "      <td>120</td>\n",
       "      <td>other</td>\n",
       "      <td>negative</td>\n",
       "    </tr>\n",
       "    <tr>\n",
       "      <th>3</th>\n",
       "      <td>70</td>\n",
       "      <td>F</td>\n",
       "      <td>1</td>\n",
       "      <td>0</td>\n",
       "      <td>0</td>\n",
       "      <td>0</td>\n",
       "      <td>0</td>\n",
       "      <td>0</td>\n",
       "      <td>0</td>\n",
       "      <td>0</td>\n",
       "      <td>...</td>\n",
       "      <td>0</td>\n",
       "      <td>0</td>\n",
       "      <td>0</td>\n",
       "      <td>0.16</td>\n",
       "      <td>1.9</td>\n",
       "      <td>175</td>\n",
       "      <td>NaN</td>\n",
       "      <td>NaN</td>\n",
       "      <td>other</td>\n",
       "      <td>negative</td>\n",
       "    </tr>\n",
       "    <tr>\n",
       "      <th>4</th>\n",
       "      <td>70</td>\n",
       "      <td>F</td>\n",
       "      <td>0</td>\n",
       "      <td>0</td>\n",
       "      <td>0</td>\n",
       "      <td>0</td>\n",
       "      <td>0</td>\n",
       "      <td>0</td>\n",
       "      <td>0</td>\n",
       "      <td>0</td>\n",
       "      <td>...</td>\n",
       "      <td>0</td>\n",
       "      <td>0</td>\n",
       "      <td>0</td>\n",
       "      <td>0.72</td>\n",
       "      <td>1.2</td>\n",
       "      <td>61</td>\n",
       "      <td>0.87</td>\n",
       "      <td>70</td>\n",
       "      <td>SVI</td>\n",
       "      <td>negative</td>\n",
       "    </tr>\n",
       "  </tbody>\n",
       "</table>\n",
       "<p>5 rows × 23 columns</p>\n",
       "</div>"
      ],
      "text/plain": [
       "  age sex  on_thyroxine  query_on_thyroxine  on_antithyroid_medication  sick  \\\n",
       "0  41   F             0                   0                          0     0   \n",
       "1  23   F             0                   0                          0     0   \n",
       "2  46   M             0                   0                          0     0   \n",
       "3  70   F             1                   0                          0     0   \n",
       "4  70   F             0                   0                          0     0   \n",
       "\n",
       "   pregnant  thyroid_surgery  I131_treatment  query_hypothyroid  ...  tumor  \\\n",
       "0         0                0               0                  0  ...      0   \n",
       "1         0                0               0                  0  ...      0   \n",
       "2         0                0               0                  0  ...      0   \n",
       "3         0                0               0                  0  ...      0   \n",
       "4         0                0               0                  0  ...      0   \n",
       "\n",
       "   hypopituitary  psych   TSH   T3  TT4   T4U  FTI referral_source     Class  \n",
       "0              0      0   1.3  2.5  125  1.14  109            SVHC  negative  \n",
       "1              0      0   4.1    2  102   NaN  NaN           other  negative  \n",
       "2              0      0  0.98  NaN  109  0.91  120           other  negative  \n",
       "3              0      0  0.16  1.9  175   NaN  NaN           other  negative  \n",
       "4              0      0  0.72  1.2   61  0.87   70             SVI  negative  \n",
       "\n",
       "[5 rows x 23 columns]"
      ]
     },
     "execution_count": 15,
     "metadata": {},
     "output_type": "execute_result"
    }
   ],
   "source": [
    "df.head()"
   ]
  },
  {
   "cell_type": "code",
   "execution_count": 16,
   "metadata": {},
   "outputs": [],
   "source": [
    "df['sex'] = df['sex'].map({'F' : 0, 'M' : 1})"
   ]
  },
  {
   "cell_type": "code",
   "execution_count": 17,
   "metadata": {},
   "outputs": [
    {
     "data": {
      "text/html": [
       "<div>\n",
       "<style scoped>\n",
       "    .dataframe tbody tr th:only-of-type {\n",
       "        vertical-align: middle;\n",
       "    }\n",
       "\n",
       "    .dataframe tbody tr th {\n",
       "        vertical-align: top;\n",
       "    }\n",
       "\n",
       "    .dataframe thead th {\n",
       "        text-align: right;\n",
       "    }\n",
       "</style>\n",
       "<table border=\"1\" class=\"dataframe\">\n",
       "  <thead>\n",
       "    <tr style=\"text-align: right;\">\n",
       "      <th></th>\n",
       "      <th>age</th>\n",
       "      <th>sex</th>\n",
       "      <th>on_thyroxine</th>\n",
       "      <th>query_on_thyroxine</th>\n",
       "      <th>on_antithyroid_medication</th>\n",
       "      <th>sick</th>\n",
       "      <th>pregnant</th>\n",
       "      <th>thyroid_surgery</th>\n",
       "      <th>I131_treatment</th>\n",
       "      <th>query_hypothyroid</th>\n",
       "      <th>...</th>\n",
       "      <th>tumor</th>\n",
       "      <th>hypopituitary</th>\n",
       "      <th>psych</th>\n",
       "      <th>TSH</th>\n",
       "      <th>T3</th>\n",
       "      <th>TT4</th>\n",
       "      <th>T4U</th>\n",
       "      <th>FTI</th>\n",
       "      <th>referral_source</th>\n",
       "      <th>Class</th>\n",
       "    </tr>\n",
       "  </thead>\n",
       "  <tbody>\n",
       "    <tr>\n",
       "      <th>0</th>\n",
       "      <td>41</td>\n",
       "      <td>0.0</td>\n",
       "      <td>0</td>\n",
       "      <td>0</td>\n",
       "      <td>0</td>\n",
       "      <td>0</td>\n",
       "      <td>0</td>\n",
       "      <td>0</td>\n",
       "      <td>0</td>\n",
       "      <td>0</td>\n",
       "      <td>...</td>\n",
       "      <td>0</td>\n",
       "      <td>0</td>\n",
       "      <td>0</td>\n",
       "      <td>1.3</td>\n",
       "      <td>2.5</td>\n",
       "      <td>125</td>\n",
       "      <td>1.14</td>\n",
       "      <td>109</td>\n",
       "      <td>SVHC</td>\n",
       "      <td>negative</td>\n",
       "    </tr>\n",
       "    <tr>\n",
       "      <th>1</th>\n",
       "      <td>23</td>\n",
       "      <td>0.0</td>\n",
       "      <td>0</td>\n",
       "      <td>0</td>\n",
       "      <td>0</td>\n",
       "      <td>0</td>\n",
       "      <td>0</td>\n",
       "      <td>0</td>\n",
       "      <td>0</td>\n",
       "      <td>0</td>\n",
       "      <td>...</td>\n",
       "      <td>0</td>\n",
       "      <td>0</td>\n",
       "      <td>0</td>\n",
       "      <td>4.1</td>\n",
       "      <td>2</td>\n",
       "      <td>102</td>\n",
       "      <td>NaN</td>\n",
       "      <td>NaN</td>\n",
       "      <td>other</td>\n",
       "      <td>negative</td>\n",
       "    </tr>\n",
       "    <tr>\n",
       "      <th>2</th>\n",
       "      <td>46</td>\n",
       "      <td>1.0</td>\n",
       "      <td>0</td>\n",
       "      <td>0</td>\n",
       "      <td>0</td>\n",
       "      <td>0</td>\n",
       "      <td>0</td>\n",
       "      <td>0</td>\n",
       "      <td>0</td>\n",
       "      <td>0</td>\n",
       "      <td>...</td>\n",
       "      <td>0</td>\n",
       "      <td>0</td>\n",
       "      <td>0</td>\n",
       "      <td>0.98</td>\n",
       "      <td>NaN</td>\n",
       "      <td>109</td>\n",
       "      <td>0.91</td>\n",
       "      <td>120</td>\n",
       "      <td>other</td>\n",
       "      <td>negative</td>\n",
       "    </tr>\n",
       "    <tr>\n",
       "      <th>3</th>\n",
       "      <td>70</td>\n",
       "      <td>0.0</td>\n",
       "      <td>1</td>\n",
       "      <td>0</td>\n",
       "      <td>0</td>\n",
       "      <td>0</td>\n",
       "      <td>0</td>\n",
       "      <td>0</td>\n",
       "      <td>0</td>\n",
       "      <td>0</td>\n",
       "      <td>...</td>\n",
       "      <td>0</td>\n",
       "      <td>0</td>\n",
       "      <td>0</td>\n",
       "      <td>0.16</td>\n",
       "      <td>1.9</td>\n",
       "      <td>175</td>\n",
       "      <td>NaN</td>\n",
       "      <td>NaN</td>\n",
       "      <td>other</td>\n",
       "      <td>negative</td>\n",
       "    </tr>\n",
       "    <tr>\n",
       "      <th>4</th>\n",
       "      <td>70</td>\n",
       "      <td>0.0</td>\n",
       "      <td>0</td>\n",
       "      <td>0</td>\n",
       "      <td>0</td>\n",
       "      <td>0</td>\n",
       "      <td>0</td>\n",
       "      <td>0</td>\n",
       "      <td>0</td>\n",
       "      <td>0</td>\n",
       "      <td>...</td>\n",
       "      <td>0</td>\n",
       "      <td>0</td>\n",
       "      <td>0</td>\n",
       "      <td>0.72</td>\n",
       "      <td>1.2</td>\n",
       "      <td>61</td>\n",
       "      <td>0.87</td>\n",
       "      <td>70</td>\n",
       "      <td>SVI</td>\n",
       "      <td>negative</td>\n",
       "    </tr>\n",
       "  </tbody>\n",
       "</table>\n",
       "<p>5 rows × 23 columns</p>\n",
       "</div>"
      ],
      "text/plain": [
       "  age  sex  on_thyroxine  query_on_thyroxine  on_antithyroid_medication  sick  \\\n",
       "0  41  0.0             0                   0                          0     0   \n",
       "1  23  0.0             0                   0                          0     0   \n",
       "2  46  1.0             0                   0                          0     0   \n",
       "3  70  0.0             1                   0                          0     0   \n",
       "4  70  0.0             0                   0                          0     0   \n",
       "\n",
       "   pregnant  thyroid_surgery  I131_treatment  query_hypothyroid  ...  tumor  \\\n",
       "0         0                0               0                  0  ...      0   \n",
       "1         0                0               0                  0  ...      0   \n",
       "2         0                0               0                  0  ...      0   \n",
       "3         0                0               0                  0  ...      0   \n",
       "4         0                0               0                  0  ...      0   \n",
       "\n",
       "   hypopituitary  psych   TSH   T3  TT4   T4U  FTI referral_source     Class  \n",
       "0              0      0   1.3  2.5  125  1.14  109            SVHC  negative  \n",
       "1              0      0   4.1    2  102   NaN  NaN           other  negative  \n",
       "2              0      0  0.98  NaN  109  0.91  120           other  negative  \n",
       "3              0      0  0.16  1.9  175   NaN  NaN           other  negative  \n",
       "4              0      0  0.72  1.2   61  0.87   70             SVI  negative  \n",
       "\n",
       "[5 rows x 23 columns]"
      ]
     },
     "execution_count": 17,
     "metadata": {},
     "output_type": "execute_result"
    }
   ],
   "source": [
    "df.head()"
   ]
  },
  {
   "cell_type": "code",
   "execution_count": 18,
   "metadata": {},
   "outputs": [
    {
     "data": {
      "text/plain": [
       "array(['SVHC', 'other', 'SVI', 'STMW', 'SVHD'], dtype=object)"
      ]
     },
     "execution_count": 18,
     "metadata": {},
     "output_type": "execute_result"
    }
   ],
   "source": [
    "df['referral_source'].unique()"
   ]
  },
  {
   "cell_type": "code",
   "execution_count": 19,
   "metadata": {},
   "outputs": [],
   "source": [
    "df = pd.get_dummies(df, columns=['referral_source'])"
   ]
  },
  {
   "cell_type": "code",
   "execution_count": 20,
   "metadata": {},
   "outputs": [
    {
     "data": {
      "text/plain": [
       "array(['negative', 'compensated_hypothyroid', 'primary_hypothyroid',\n",
       "       'secondary_hypothyroid'], dtype=object)"
      ]
     },
     "execution_count": 20,
     "metadata": {},
     "output_type": "execute_result"
    }
   ],
   "source": [
    "df['Class'].unique()"
   ]
  },
  {
   "cell_type": "code",
   "execution_count": 21,
   "metadata": {},
   "outputs": [],
   "source": [
    "# lets use label encoder\n",
    "lblEn = LabelEncoder()\n",
    "df['Class'] =lblEn.fit_transform(df['Class'])"
   ]
  },
  {
   "cell_type": "code",
   "execution_count": 66,
   "metadata": {},
   "outputs": [
    {
     "data": {
      "text/html": [
       "<div>\n",
       "<style scoped>\n",
       "    .dataframe tbody tr th:only-of-type {\n",
       "        vertical-align: middle;\n",
       "    }\n",
       "\n",
       "    .dataframe tbody tr th {\n",
       "        vertical-align: top;\n",
       "    }\n",
       "\n",
       "    .dataframe thead th {\n",
       "        text-align: right;\n",
       "    }\n",
       "</style>\n",
       "<table border=\"1\" class=\"dataframe\">\n",
       "  <thead>\n",
       "    <tr style=\"text-align: right;\">\n",
       "      <th></th>\n",
       "      <th>age</th>\n",
       "      <th>sex</th>\n",
       "      <th>on_thyroxine</th>\n",
       "      <th>query_on_thyroxine</th>\n",
       "      <th>on_antithyroid_medication</th>\n",
       "      <th>sick</th>\n",
       "      <th>pregnant</th>\n",
       "      <th>thyroid_surgery</th>\n",
       "      <th>I131_treatment</th>\n",
       "      <th>query_hypothyroid</th>\n",
       "      <th>...</th>\n",
       "      <th>T3</th>\n",
       "      <th>TT4</th>\n",
       "      <th>T4U</th>\n",
       "      <th>FTI</th>\n",
       "      <th>Class</th>\n",
       "      <th>referral_source_STMW</th>\n",
       "      <th>referral_source_SVHC</th>\n",
       "      <th>referral_source_SVHD</th>\n",
       "      <th>referral_source_SVI</th>\n",
       "      <th>referral_source_other</th>\n",
       "    </tr>\n",
       "  </thead>\n",
       "  <tbody>\n",
       "    <tr>\n",
       "      <th>0</th>\n",
       "      <td>41</td>\n",
       "      <td>0.0</td>\n",
       "      <td>0</td>\n",
       "      <td>0</td>\n",
       "      <td>0</td>\n",
       "      <td>0</td>\n",
       "      <td>0</td>\n",
       "      <td>0</td>\n",
       "      <td>0</td>\n",
       "      <td>0</td>\n",
       "      <td>...</td>\n",
       "      <td>2.5</td>\n",
       "      <td>125</td>\n",
       "      <td>1.14</td>\n",
       "      <td>109</td>\n",
       "      <td>1</td>\n",
       "      <td>0</td>\n",
       "      <td>1</td>\n",
       "      <td>0</td>\n",
       "      <td>0</td>\n",
       "      <td>0</td>\n",
       "    </tr>\n",
       "    <tr>\n",
       "      <th>1</th>\n",
       "      <td>23</td>\n",
       "      <td>0.0</td>\n",
       "      <td>0</td>\n",
       "      <td>0</td>\n",
       "      <td>0</td>\n",
       "      <td>0</td>\n",
       "      <td>0</td>\n",
       "      <td>0</td>\n",
       "      <td>0</td>\n",
       "      <td>0</td>\n",
       "      <td>...</td>\n",
       "      <td>2</td>\n",
       "      <td>102</td>\n",
       "      <td>NaN</td>\n",
       "      <td>NaN</td>\n",
       "      <td>1</td>\n",
       "      <td>0</td>\n",
       "      <td>0</td>\n",
       "      <td>0</td>\n",
       "      <td>0</td>\n",
       "      <td>1</td>\n",
       "    </tr>\n",
       "    <tr>\n",
       "      <th>2</th>\n",
       "      <td>46</td>\n",
       "      <td>1.0</td>\n",
       "      <td>0</td>\n",
       "      <td>0</td>\n",
       "      <td>0</td>\n",
       "      <td>0</td>\n",
       "      <td>0</td>\n",
       "      <td>0</td>\n",
       "      <td>0</td>\n",
       "      <td>0</td>\n",
       "      <td>...</td>\n",
       "      <td>NaN</td>\n",
       "      <td>109</td>\n",
       "      <td>0.91</td>\n",
       "      <td>120</td>\n",
       "      <td>1</td>\n",
       "      <td>0</td>\n",
       "      <td>0</td>\n",
       "      <td>0</td>\n",
       "      <td>0</td>\n",
       "      <td>1</td>\n",
       "    </tr>\n",
       "    <tr>\n",
       "      <th>3</th>\n",
       "      <td>70</td>\n",
       "      <td>0.0</td>\n",
       "      <td>1</td>\n",
       "      <td>0</td>\n",
       "      <td>0</td>\n",
       "      <td>0</td>\n",
       "      <td>0</td>\n",
       "      <td>0</td>\n",
       "      <td>0</td>\n",
       "      <td>0</td>\n",
       "      <td>...</td>\n",
       "      <td>1.9</td>\n",
       "      <td>175</td>\n",
       "      <td>NaN</td>\n",
       "      <td>NaN</td>\n",
       "      <td>1</td>\n",
       "      <td>0</td>\n",
       "      <td>0</td>\n",
       "      <td>0</td>\n",
       "      <td>0</td>\n",
       "      <td>1</td>\n",
       "    </tr>\n",
       "    <tr>\n",
       "      <th>4</th>\n",
       "      <td>70</td>\n",
       "      <td>0.0</td>\n",
       "      <td>0</td>\n",
       "      <td>0</td>\n",
       "      <td>0</td>\n",
       "      <td>0</td>\n",
       "      <td>0</td>\n",
       "      <td>0</td>\n",
       "      <td>0</td>\n",
       "      <td>0</td>\n",
       "      <td>...</td>\n",
       "      <td>1.2</td>\n",
       "      <td>61</td>\n",
       "      <td>0.87</td>\n",
       "      <td>70</td>\n",
       "      <td>1</td>\n",
       "      <td>0</td>\n",
       "      <td>0</td>\n",
       "      <td>0</td>\n",
       "      <td>1</td>\n",
       "      <td>0</td>\n",
       "    </tr>\n",
       "  </tbody>\n",
       "</table>\n",
       "<p>5 rows × 27 columns</p>\n",
       "</div>"
      ],
      "text/plain": [
       "  age  sex  on_thyroxine  query_on_thyroxine  on_antithyroid_medication  sick  \\\n",
       "0  41  0.0             0                   0                          0     0   \n",
       "1  23  0.0             0                   0                          0     0   \n",
       "2  46  1.0             0                   0                          0     0   \n",
       "3  70  0.0             1                   0                          0     0   \n",
       "4  70  0.0             0                   0                          0     0   \n",
       "\n",
       "   pregnant  thyroid_surgery  I131_treatment  query_hypothyroid  ...   T3  \\\n",
       "0         0                0               0                  0  ...  2.5   \n",
       "1         0                0               0                  0  ...    2   \n",
       "2         0                0               0                  0  ...  NaN   \n",
       "3         0                0               0                  0  ...  1.9   \n",
       "4         0                0               0                  0  ...  1.2   \n",
       "\n",
       "   TT4   T4U  FTI  Class  referral_source_STMW referral_source_SVHC  \\\n",
       "0  125  1.14  109      1                     0                    1   \n",
       "1  102   NaN  NaN      1                     0                    0   \n",
       "2  109  0.91  120      1                     0                    0   \n",
       "3  175   NaN  NaN      1                     0                    0   \n",
       "4   61  0.87   70      1                     0                    0   \n",
       "\n",
       "  referral_source_SVHD referral_source_SVI referral_source_other  \n",
       "0                    0                   0                     0  \n",
       "1                    0                   0                     1  \n",
       "2                    0                   0                     1  \n",
       "3                    0                   0                     1  \n",
       "4                    0                   1                     0  \n",
       "\n",
       "[5 rows x 27 columns]"
      ]
     },
     "execution_count": 66,
     "metadata": {},
     "output_type": "execute_result"
    }
   ],
   "source": [
    "df.head()"
   ]
  },
  {
   "cell_type": "code",
   "execution_count": 22,
   "metadata": {},
   "outputs": [
    {
     "data": {
      "text/plain": [
       "(3772, 27)"
      ]
     },
     "execution_count": 22,
     "metadata": {},
     "output_type": "execute_result"
    }
   ],
   "source": [
    "df.shape"
   ]
  },
  {
   "cell_type": "code",
   "execution_count": 23,
   "metadata": {},
   "outputs": [],
   "source": [
    "# Splitting X and y for all Experiments\n",
    "X= df.drop('Class', axis=1)\n",
    "y = df['Class']"
   ]
  },
  {
   "cell_type": "code",
   "execution_count": 24,
   "metadata": {},
   "outputs": [
    {
     "data": {
      "text/plain": [
       "0    1\n",
       "1    1\n",
       "2    1\n",
       "3    1\n",
       "4    1\n",
       "Name: Class, dtype: int64"
      ]
     },
     "execution_count": 24,
     "metadata": {},
     "output_type": "execute_result"
    }
   ],
   "source": [
    "y.head()"
   ]
  },
  {
   "cell_type": "code",
   "execution_count": 25,
   "metadata": {},
   "outputs": [],
   "source": [
    "# Fit with robust scaler for KNN best K-selection experminet\n",
    "robustscaler = RobustScaler()\n",
    "X1 = robustscaler.fit_transform(X)"
   ]
  },
  {
   "cell_type": "code",
   "execution_count": 26,
   "metadata": {},
   "outputs": [
    {
     "name": "stderr",
     "output_type": "stream",
     "text": [
      "/config/.local/lib/python3.8/site-packages/sklearn/linear_model/_logistic.py:458: ConvergenceWarning: lbfgs failed to converge (status=1):\n",
      "STOP: TOTAL NO. of ITERATIONS REACHED LIMIT.\n",
      "\n",
      "Increase the number of iterations (max_iter) or scale the data as shown in:\n",
      "    https://scikit-learn.org/stable/modules/preprocessing.html\n",
      "Please also refer to the documentation for alternative solver options:\n",
      "    https://scikit-learn.org/stable/modules/linear_model.html#logistic-regression\n",
      "  n_iter_i = _check_optimize_result(\n",
      "/config/.local/lib/python3.8/site-packages/sklearn/linear_model/_logistic.py:458: ConvergenceWarning: lbfgs failed to converge (status=1):\n",
      "STOP: TOTAL NO. of ITERATIONS REACHED LIMIT.\n",
      "\n",
      "Increase the number of iterations (max_iter) or scale the data as shown in:\n",
      "    https://scikit-learn.org/stable/modules/preprocessing.html\n",
      "Please also refer to the documentation for alternative solver options:\n",
      "    https://scikit-learn.org/stable/modules/linear_model.html#logistic-regression\n",
      "  n_iter_i = _check_optimize_result(\n"
     ]
    },
    {
     "name": "stdout",
     "output_type": "stream",
     "text": [
      "n_neighbors= 1 || accuracy (0.9435)\n"
     ]
    },
    {
     "name": "stderr",
     "output_type": "stream",
     "text": [
      "/config/.local/lib/python3.8/site-packages/sklearn/linear_model/_logistic.py:458: ConvergenceWarning: lbfgs failed to converge (status=1):\n",
      "STOP: TOTAL NO. of ITERATIONS REACHED LIMIT.\n",
      "\n",
      "Increase the number of iterations (max_iter) or scale the data as shown in:\n",
      "    https://scikit-learn.org/stable/modules/preprocessing.html\n",
      "Please also refer to the documentation for alternative solver options:\n",
      "    https://scikit-learn.org/stable/modules/linear_model.html#logistic-regression\n",
      "  n_iter_i = _check_optimize_result(\n",
      "/config/.local/lib/python3.8/site-packages/sklearn/linear_model/_logistic.py:458: ConvergenceWarning: lbfgs failed to converge (status=1):\n",
      "STOP: TOTAL NO. of ITERATIONS REACHED LIMIT.\n",
      "\n",
      "Increase the number of iterations (max_iter) or scale the data as shown in:\n",
      "    https://scikit-learn.org/stable/modules/preprocessing.html\n",
      "Please also refer to the documentation for alternative solver options:\n",
      "    https://scikit-learn.org/stable/modules/linear_model.html#logistic-regression\n",
      "  n_iter_i = _check_optimize_result(\n"
     ]
    },
    {
     "name": "stdout",
     "output_type": "stream",
     "text": [
      "n_neighbors= 3 || accuracy (0.9478)\n"
     ]
    },
    {
     "name": "stderr",
     "output_type": "stream",
     "text": [
      "/config/.local/lib/python3.8/site-packages/sklearn/linear_model/_logistic.py:458: ConvergenceWarning: lbfgs failed to converge (status=1):\n",
      "STOP: TOTAL NO. of ITERATIONS REACHED LIMIT.\n",
      "\n",
      "Increase the number of iterations (max_iter) or scale the data as shown in:\n",
      "    https://scikit-learn.org/stable/modules/preprocessing.html\n",
      "Please also refer to the documentation for alternative solver options:\n",
      "    https://scikit-learn.org/stable/modules/linear_model.html#logistic-regression\n",
      "  n_iter_i = _check_optimize_result(\n",
      "/config/.local/lib/python3.8/site-packages/sklearn/linear_model/_logistic.py:458: ConvergenceWarning: lbfgs failed to converge (status=1):\n",
      "STOP: TOTAL NO. of ITERATIONS REACHED LIMIT.\n",
      "\n",
      "Increase the number of iterations (max_iter) or scale the data as shown in:\n",
      "    https://scikit-learn.org/stable/modules/preprocessing.html\n",
      "Please also refer to the documentation for alternative solver options:\n",
      "    https://scikit-learn.org/stable/modules/linear_model.html#logistic-regression\n",
      "  n_iter_i = _check_optimize_result(\n"
     ]
    },
    {
     "name": "stdout",
     "output_type": "stream",
     "text": [
      "n_neighbors= 5 || accuracy (0.9425)\n"
     ]
    },
    {
     "name": "stderr",
     "output_type": "stream",
     "text": [
      "/config/.local/lib/python3.8/site-packages/sklearn/linear_model/_logistic.py:458: ConvergenceWarning: lbfgs failed to converge (status=1):\n",
      "STOP: TOTAL NO. of ITERATIONS REACHED LIMIT.\n",
      "\n",
      "Increase the number of iterations (max_iter) or scale the data as shown in:\n",
      "    https://scikit-learn.org/stable/modules/preprocessing.html\n",
      "Please also refer to the documentation for alternative solver options:\n",
      "    https://scikit-learn.org/stable/modules/linear_model.html#logistic-regression\n",
      "  n_iter_i = _check_optimize_result(\n",
      "/config/.local/lib/python3.8/site-packages/sklearn/linear_model/_logistic.py:458: ConvergenceWarning: lbfgs failed to converge (status=1):\n",
      "STOP: TOTAL NO. of ITERATIONS REACHED LIMIT.\n",
      "\n",
      "Increase the number of iterations (max_iter) or scale the data as shown in:\n",
      "    https://scikit-learn.org/stable/modules/preprocessing.html\n",
      "Please also refer to the documentation for alternative solver options:\n",
      "    https://scikit-learn.org/stable/modules/linear_model.html#logistic-regression\n",
      "  n_iter_i = _check_optimize_result(\n"
     ]
    },
    {
     "name": "stdout",
     "output_type": "stream",
     "text": [
      "n_neighbors= 7 || accuracy (0.9425)\n",
      "n_neighbors= 9 || accuracy (0.9425)\n"
     ]
    },
    {
     "name": "stderr",
     "output_type": "stream",
     "text": [
      "/config/.local/lib/python3.8/site-packages/sklearn/linear_model/_logistic.py:458: ConvergenceWarning: lbfgs failed to converge (status=1):\n",
      "STOP: TOTAL NO. of ITERATIONS REACHED LIMIT.\n",
      "\n",
      "Increase the number of iterations (max_iter) or scale the data as shown in:\n",
      "    https://scikit-learn.org/stable/modules/preprocessing.html\n",
      "Please also refer to the documentation for alternative solver options:\n",
      "    https://scikit-learn.org/stable/modules/linear_model.html#logistic-regression\n",
      "  n_iter_i = _check_optimize_result(\n",
      "/config/.local/lib/python3.8/site-packages/sklearn/linear_model/_logistic.py:458: ConvergenceWarning: lbfgs failed to converge (status=1):\n",
      "STOP: TOTAL NO. of ITERATIONS REACHED LIMIT.\n",
      "\n",
      "Increase the number of iterations (max_iter) or scale the data as shown in:\n",
      "    https://scikit-learn.org/stable/modules/preprocessing.html\n",
      "Please also refer to the documentation for alternative solver options:\n",
      "    https://scikit-learn.org/stable/modules/linear_model.html#logistic-regression\n",
      "  n_iter_i = _check_optimize_result(\n"
     ]
    }
   ],
   "source": [
    "results=[]\n",
    "# define imputer\n",
    "imputer = KNNImputer(n_neighbors=5, weights='uniform', metric='nan_euclidean')\n",
    "strategies = [str(i) for i in [1,3,5,7,9]]\n",
    "for s in strategies:\n",
    "    pipeline = Pipeline(steps=[('i', KNNImputer(n_neighbors=int(s))), ('m', LogisticRegression())])\n",
    "    scores = cross_val_score(pipeline, X1, y, scoring='accuracy', cv=2, n_jobs=-1)\n",
    "    results.append(scores)\n",
    "    print('n_neighbors= %s || accuracy (%.4f)' % (s , mean(scores)))"
   ]
  },
  {
   "cell_type": "code",
   "execution_count": null,
   "metadata": {},
   "outputs": [],
   "source": [
    "# n_neighbors= 3 || accuracy (0.9478) having the highest accuracy"
   ]
  },
  {
   "cell_type": "code",
   "execution_count": 27,
   "metadata": {},
   "outputs": [],
   "source": [
    "imputer=KNNImputer(n_neighbors=3, weights='uniform',missing_values=np.nan)\n",
    "new_array=imputer.fit_transform(df) # impute the missing values\n",
    "    # convert the nd-array returned in the step above to a Dataframe\n",
    "new_data=pd.DataFrame(data=np.round(new_array), columns=df.columns)"
   ]
  },
  {
   "cell_type": "code",
   "execution_count": 80,
   "metadata": {},
   "outputs": [
    {
     "name": "stderr",
     "output_type": "stream",
     "text": [
      "/tmp/ipykernel_1138/2870868188.py:9: UserWarning: \n",
      "\n",
      "`distplot` is a deprecated function and will be removed in seaborn v0.14.0.\n",
      "\n",
      "Please adapt your code to use either `displot` (a figure-level function with\n",
      "similar flexibility) or `histplot` (an axes-level function for histograms).\n",
      "\n",
      "For a guide to updating your code to use the new functions, please see\n",
      "https://gist.github.com/mwaskom/de44147ed2974457ad6372750bbe5751\n",
      "\n",
      "  sns.distplot(new_data[column])\n",
      "/tmp/ipykernel_1138/2870868188.py:9: UserWarning: \n",
      "\n",
      "`distplot` is a deprecated function and will be removed in seaborn v0.14.0.\n",
      "\n",
      "Please adapt your code to use either `displot` (a figure-level function with\n",
      "similar flexibility) or `histplot` (an axes-level function for histograms).\n",
      "\n",
      "For a guide to updating your code to use the new functions, please see\n",
      "https://gist.github.com/mwaskom/de44147ed2974457ad6372750bbe5751\n",
      "\n",
      "  sns.distplot(new_data[column])\n",
      "/tmp/ipykernel_1138/2870868188.py:9: UserWarning: \n",
      "\n",
      "`distplot` is a deprecated function and will be removed in seaborn v0.14.0.\n",
      "\n",
      "Please adapt your code to use either `displot` (a figure-level function with\n",
      "similar flexibility) or `histplot` (an axes-level function for histograms).\n",
      "\n",
      "For a guide to updating your code to use the new functions, please see\n",
      "https://gist.github.com/mwaskom/de44147ed2974457ad6372750bbe5751\n",
      "\n",
      "  sns.distplot(new_data[column])\n",
      "/tmp/ipykernel_1138/2870868188.py:9: UserWarning: \n",
      "\n",
      "`distplot` is a deprecated function and will be removed in seaborn v0.14.0.\n",
      "\n",
      "Please adapt your code to use either `displot` (a figure-level function with\n",
      "similar flexibility) or `histplot` (an axes-level function for histograms).\n",
      "\n",
      "For a guide to updating your code to use the new functions, please see\n",
      "https://gist.github.com/mwaskom/de44147ed2974457ad6372750bbe5751\n",
      "\n",
      "  sns.distplot(new_data[column])\n",
      "/tmp/ipykernel_1138/2870868188.py:9: UserWarning: \n",
      "\n",
      "`distplot` is a deprecated function and will be removed in seaborn v0.14.0.\n",
      "\n",
      "Please adapt your code to use either `displot` (a figure-level function with\n",
      "similar flexibility) or `histplot` (an axes-level function for histograms).\n",
      "\n",
      "For a guide to updating your code to use the new functions, please see\n",
      "https://gist.github.com/mwaskom/de44147ed2974457ad6372750bbe5751\n",
      "\n",
      "  sns.distplot(new_data[column])\n",
      "/tmp/ipykernel_1138/2870868188.py:9: UserWarning: \n",
      "\n",
      "`distplot` is a deprecated function and will be removed in seaborn v0.14.0.\n",
      "\n",
      "Please adapt your code to use either `displot` (a figure-level function with\n",
      "similar flexibility) or `histplot` (an axes-level function for histograms).\n",
      "\n",
      "For a guide to updating your code to use the new functions, please see\n",
      "https://gist.github.com/mwaskom/de44147ed2974457ad6372750bbe5751\n",
      "\n",
      "  sns.distplot(new_data[column])\n"
     ]
    },
    {
     "data": {
      "image/png": "[encoded data removed]",
      "text/plain": [
       "<Figure size 1000x1500 with 6 Axes>"
      ]
     },
     "metadata": {},
     "output_type": "display_data"
    }
   ],
   "source": [
    "# checking the distribution of the continuous data\n",
    "columns = ['age','TSH','T3','TT4','T4U','FTI']\n",
    "\n",
    "plot.figure(figsize=(10,15),facecolor='white')\n",
    "plotnumber = 1\n",
    "\n",
    "for column in columns:\n",
    "    ax = plot.subplot(3,2,plotnumber)\n",
    "    sns.distplot(new_data[column])\n",
    "    plot.xlabel(column,fontsize=10)\n",
    "    plotnumber+=1\n",
    "plot.show()"
   ]
  },
  {
   "cell_type": "code",
   "execution_count": 28,
   "metadata": {},
   "outputs": [
    {
     "data": {
      "text/plain": [
       "1.0    3481\n",
       "0.0     194\n",
       "2.0      95\n",
       "3.0       2\n",
       "Name: Class, dtype: int64"
      ]
     },
     "execution_count": 28,
     "metadata": {},
     "output_type": "execute_result"
    }
   ],
   "source": [
    "new_data['Class'].value_counts()"
   ]
  },
  {
   "cell_type": "markdown",
   "metadata": {},
   "source": [
    "Highly imbalanced dataset we have."
   ]
  },
  {
   "cell_type": "code",
   "execution_count": 35,
   "metadata": {},
   "outputs": [],
   "source": [
    "x = new_data.drop(['Class'],axis=1)\n",
    "y = new_data['Class']\n",
    "rdsmple = RandomOverSampler()\n",
    "x_sampled,y_sampled  = rdsmple.fit_resample(x,y)"
   ]
  },
  {
   "cell_type": "code",
   "execution_count": 36,
   "metadata": {},
   "outputs": [],
   "source": [
    "x_sampled = pd.DataFrame(data = x_sampled, columns = x.columns)"
   ]
  },
  {
   "cell_type": "code",
   "execution_count": 37,
   "metadata": {},
   "outputs": [
    {
     "data": {
      "text/plain": [
       "(13924, 26)"
      ]
     },
     "execution_count": 37,
     "metadata": {},
     "output_type": "execute_result"
    }
   ],
   "source": [
    "x_sampled.shape"
   ]
  },
  {
   "cell_type": "code",
   "execution_count": 38,
   "metadata": {},
   "outputs": [
    {
     "data": {
      "text/plain": [
       "1.0    3481\n",
       "0.0    3481\n",
       "2.0    3481\n",
       "3.0    3481\n",
       "Name: Class, dtype: int64"
      ]
     },
     "execution_count": 38,
     "metadata": {},
     "output_type": "execute_result"
    }
   ],
   "source": [
    "y_sampled.value_counts()"
   ]
  },
  {
   "cell_type": "code",
   "execution_count": 39,
   "metadata": {},
   "outputs": [],
   "source": [
    "# spliting the dataset into training and testing\n",
    "\n",
    "X_train, X_test, y_train, y_test = train_test_split(x, y, test_size = 0.30, random_state = 149) "
   ]
  },
  {
   "cell_type": "code",
   "execution_count": 40,
   "metadata": {},
   "outputs": [],
   "source": [
    "# create an instance of a Random Forest classifier\n",
    "random_forest_model = RandomForestClassifier(n_estimators = 10, criterion = 'entropy', random_state = 42)\n",
    "\n",
    "# training the Random Forest model on the sampled train dataset\n",
    "random_forest_model.fit(np.array(x_sampled), y_sampled)\n",
    "\n",
    "# pedicting the labels on the test set\n",
    "y_predicted_randomforest = random_forest_model.predict(np.array(X_test))"
   ]
  },
  {
   "cell_type": "code",
   "execution_count": 41,
   "metadata": {},
   "outputs": [
    {
     "name": "stdout",
     "output_type": "stream",
     "text": [
      "Accuracy Score on train data:  0.9997845446710716\n",
      "Accuracy Score on test data:  1.0\n"
     ]
    },
    {
     "name": "stderr",
     "output_type": "stream",
     "text": [
      "/config/.local/lib/python3.8/site-packages/sklearn/base.py:402: UserWarning: X has feature names, but RandomForestClassifier was fitted without feature names\n",
      "  warnings.warn(\n"
     ]
    }
   ],
   "source": [
    "from sklearn import metrics\n",
    "\n",
    "# calculating the accuracy on train data\n",
    "print('Accuracy Score on train data: ', metrics.accuracy_score(y_true = y_sampled, y_pred = random_forest_model.predict(x_sampled)))\n",
    "\n",
    "# calculating the accuracy on test data\n",
    "print('Accuracy Score on test data: ', metrics.accuracy_score(y_true = y_test, y_pred = y_predicted_randomforest))"
   ]
  },
  {
   "cell_type": "code",
   "execution_count": 45,
   "metadata": {},
   "outputs": [],
   "source": [
    "from sklearn.ensemble import RandomForestClassifier\n",
    "from sklearn.model_selection import GridSearchCV\n",
    "from sklearn.metrics  import roc_auc_score,accuracy_score\n",
    "from sklearn.neighbors import KNeighborsClassifier\n",
    "knn = KNeighborsClassifier()\n",
    "param_grid_knn = {\n",
    "                'algorithm' : ['ball_tree', 'kd_tree', 'brute'],\n",
    "                'leaf_size' : [10,17,24,28,30,35],\n",
    "                'n_neighbors':[4,5,8,10,11],\n",
    "                'p':[1,2]\n",
    "            }\n",
    "grid = GridSearchCV(knn, param_grid_knn, verbose=3,\n",
    "                                     cv=5)"
   ]
  },
  {
   "cell_type": "code",
   "execution_count": 46,
   "metadata": {},
   "outputs": [
    {
     "name": "stdout",
     "output_type": "stream",
     "text": [
      "Fitting 5 folds for each of 180 candidates, totalling 900 fits\n",
      "[CV 1/5] END algorithm=ball_tree, leaf_size=10, n_neighbors=4, p=1;, score=0.960 total time=   0.1s\n",
      "[CV 2/5] END algorithm=ball_tree, leaf_size=10, n_neighbors=4, p=1;, score=0.951 total time=   0.1s\n",
      "[CV 3/5] END algorithm=ball_tree, leaf_size=10, n_neighbors=4, p=1;, score=0.947 total time=   0.1s\n"
     ]
    },
    {
     "name": "stderr",
     "output_type": "stream",
     "text": [
      "/config/.local/lib/python3.8/site-packages/sklearn/model_selection/_split.py:700: UserWarning: The least populated class in y has only 2 members, which is less than n_splits=5.\n",
      "  warnings.warn(\n"
     ]
    },
    {
     "name": "stdout",
     "output_type": "stream",
     "text": [
      "[CV 4/5] END algorithm=ball_tree, leaf_size=10, n_neighbors=4, p=1;, score=0.945 total time=   0.1s\n",
      "[CV 5/5] END algorithm=ball_tree, leaf_size=10, n_neighbors=4, p=1;, score=0.947 total time=   0.0s\n",
      "[CV 1/5] END algorithm=ball_tree, leaf_size=10, n_neighbors=4, p=2;, score=0.956 total time=   0.0s\n",
      "[CV 2/5] END algorithm=ball_tree, leaf_size=10, n_neighbors=4, p=2;, score=0.955 total time=   0.0s\n",
      "[CV 3/5] END algorithm=ball_tree, leaf_size=10, n_neighbors=4, p=2;, score=0.945 total time=   0.0s\n",
      "[CV 4/5] END algorithm=ball_tree, leaf_size=10, n_neighbors=4, p=2;, score=0.941 total time=   0.0s\n",
      "[CV 5/5] END algorithm=ball_tree, leaf_size=10, n_neighbors=4, p=2;, score=0.947 total time=   0.0s\n",
      "[CV 1/5] END algorithm=ball_tree, leaf_size=10, n_neighbors=5, p=1;, score=0.947 total time=   0.0s\n",
      "[CV 2/5] END algorithm=ball_tree, leaf_size=10, n_neighbors=5, p=1;, score=0.955 total time=   0.0s\n",
      "[CV 3/5] END algorithm=ball_tree, leaf_size=10, n_neighbors=5, p=1;, score=0.943 total time=   0.0s\n",
      "[CV 4/5] END algorithm=ball_tree, leaf_size=10, n_neighbors=5, p=1;, score=0.941 total time=   0.0s\n",
      "[CV 5/5] END algorithm=ball_tree, leaf_size=10, n_neighbors=5, p=1;, score=0.947 total time=   0.0s\n",
      "[CV 1/5] END algorithm=ball_tree, leaf_size=10, n_neighbors=5, p=2;, score=0.955 total time=   0.1s\n",
      "[CV 2/5] END algorithm=ball_tree, leaf_size=10, n_neighbors=5, p=2;, score=0.953 total time=   0.0s\n",
      "[CV 3/5] END algorithm=ball_tree, leaf_size=10, n_neighbors=5, p=2;, score=0.951 total time=   0.0s\n",
      "[CV 4/5] END algorithm=ball_tree, leaf_size=10, n_neighbors=5, p=2;, score=0.941 total time=   0.0s\n",
      "[CV 5/5] END algorithm=ball_tree, leaf_size=10, n_neighbors=5, p=2;, score=0.955 total time=   0.0s\n",
      "[CV 1/5] END algorithm=ball_tree, leaf_size=10, n_neighbors=8, p=1;, score=0.951 total time=   0.1s\n",
      "[CV 2/5] END algorithm=ball_tree, leaf_size=10, n_neighbors=8, p=1;, score=0.951 total time=   0.1s\n",
      "[CV 3/5] END algorithm=ball_tree, leaf_size=10, n_neighbors=8, p=1;, score=0.943 total time=   0.1s\n",
      "[CV 4/5] END algorithm=ball_tree, leaf_size=10, n_neighbors=8, p=1;, score=0.939 total time=   0.1s\n",
      "[CV 5/5] END algorithm=ball_tree, leaf_size=10, n_neighbors=8, p=1;, score=0.947 total time=   0.0s\n",
      "[CV 1/5] END algorithm=ball_tree, leaf_size=10, n_neighbors=8, p=2;, score=0.949 total time=   0.0s\n",
      "[CV 2/5] END algorithm=ball_tree, leaf_size=10, n_neighbors=8, p=2;, score=0.951 total time=   0.1s\n",
      "[CV 3/5] END algorithm=ball_tree, leaf_size=10, n_neighbors=8, p=2;, score=0.945 total time=   0.0s\n",
      "[CV 4/5] END algorithm=ball_tree, leaf_size=10, n_neighbors=8, p=2;, score=0.941 total time=   0.1s\n",
      "[CV 5/5] END algorithm=ball_tree, leaf_size=10, n_neighbors=8, p=2;, score=0.949 total time=   0.0s\n",
      "[CV 1/5] END algorithm=ball_tree, leaf_size=10, n_neighbors=10, p=1;, score=0.947 total time=   0.1s\n",
      "[CV 2/5] END algorithm=ball_tree, leaf_size=10, n_neighbors=10, p=1;, score=0.949 total time=   0.1s\n",
      "[CV 3/5] END algorithm=ball_tree, leaf_size=10, n_neighbors=10, p=1;, score=0.939 total time=   0.1s\n",
      "[CV 4/5] END algorithm=ball_tree, leaf_size=10, n_neighbors=10, p=1;, score=0.939 total time=   0.1s\n",
      "[CV 5/5] END algorithm=ball_tree, leaf_size=10, n_neighbors=10, p=1;, score=0.945 total time=   0.1s\n",
      "[CV 1/5] END algorithm=ball_tree, leaf_size=10, n_neighbors=10, p=2;, score=0.945 total time=   0.1s\n",
      "[CV 2/5] END algorithm=ball_tree, leaf_size=10, n_neighbors=10, p=2;, score=0.951 total time=   0.1s\n",
      "[CV 3/5] END algorithm=ball_tree, leaf_size=10, n_neighbors=10, p=2;, score=0.941 total time=   0.1s\n",
      "[CV 4/5] END algorithm=ball_tree, leaf_size=10, n_neighbors=10, p=2;, score=0.939 total time=   0.1s\n",
      "[CV 5/5] END algorithm=ball_tree, leaf_size=10, n_neighbors=10, p=2;, score=0.949 total time=   0.1s\n",
      "[CV 1/5] END algorithm=ball_tree, leaf_size=10, n_neighbors=11, p=1;, score=0.945 total time=   0.1s\n",
      "[CV 2/5] END algorithm=ball_tree, leaf_size=10, n_neighbors=11, p=1;, score=0.949 total time=   0.1s\n",
      "[CV 3/5] END algorithm=ball_tree, leaf_size=10, n_neighbors=11, p=1;, score=0.934 total time=   0.1s\n",
      "[CV 4/5] END algorithm=ball_tree, leaf_size=10, n_neighbors=11, p=1;, score=0.936 total time=   0.1s\n",
      "[CV 5/5] END algorithm=ball_tree, leaf_size=10, n_neighbors=11, p=1;, score=0.941 total time=   0.1s\n",
      "[CV 1/5] END algorithm=ball_tree, leaf_size=10, n_neighbors=11, p=2;, score=0.945 total time=   0.1s\n",
      "[CV 2/5] END algorithm=ball_tree, leaf_size=10, n_neighbors=11, p=2;, score=0.949 total time=   0.1s\n",
      "[CV 3/5] END algorithm=ball_tree, leaf_size=10, n_neighbors=11, p=2;, score=0.938 total time=   0.1s\n",
      "[CV 4/5] END algorithm=ball_tree, leaf_size=10, n_neighbors=11, p=2;, score=0.939 total time=   0.1s\n",
      "[CV 5/5] END algorithm=ball_tree, leaf_size=10, n_neighbors=11, p=2;, score=0.949 total time=   0.1s\n",
      "[CV 1/5] END algorithm=ball_tree, leaf_size=17, n_neighbors=4, p=1;, score=0.960 total time=   0.1s\n",
      "[CV 2/5] END algorithm=ball_tree, leaf_size=17, n_neighbors=4, p=1;, score=0.951 total time=   0.1s\n",
      "[CV 3/5] END algorithm=ball_tree, leaf_size=17, n_neighbors=4, p=1;, score=0.947 total time=   0.1s\n",
      "[CV 4/5] END algorithm=ball_tree, leaf_size=17, n_neighbors=4, p=1;, score=0.943 total time=   0.1s\n",
      "[CV 5/5] END algorithm=ball_tree, leaf_size=17, n_neighbors=4, p=1;, score=0.947 total time=   0.1s\n",
      "[CV 1/5] END algorithm=ball_tree, leaf_size=17, n_neighbors=4, p=2;, score=0.956 total time=   0.1s\n",
      "[CV 2/5] END algorithm=ball_tree, leaf_size=17, n_neighbors=4, p=2;, score=0.955 total time=   0.1s\n",
      "[CV 3/5] END algorithm=ball_tree, leaf_size=17, n_neighbors=4, p=2;, score=0.945 total time=   0.1s\n",
      "[CV 4/5] END algorithm=ball_tree, leaf_size=17, n_neighbors=4, p=2;, score=0.941 total time=   0.1s\n",
      "[CV 5/5] END algorithm=ball_tree, leaf_size=17, n_neighbors=4, p=2;, score=0.947 total time=   0.1s\n",
      "[CV 1/5] END algorithm=ball_tree, leaf_size=17, n_neighbors=5, p=1;, score=0.949 total time=   0.1s\n",
      "[CV 2/5] END algorithm=ball_tree, leaf_size=17, n_neighbors=5, p=1;, score=0.955 total time=   0.1s\n",
      "[CV 3/5] END algorithm=ball_tree, leaf_size=17, n_neighbors=5, p=1;, score=0.943 total time=   0.1s\n",
      "[CV 4/5] END algorithm=ball_tree, leaf_size=17, n_neighbors=5, p=1;, score=0.941 total time=   0.1s\n",
      "[CV 5/5] END algorithm=ball_tree, leaf_size=17, n_neighbors=5, p=1;, score=0.947 total time=   0.1s\n",
      "[CV 1/5] END algorithm=ball_tree, leaf_size=17, n_neighbors=5, p=2;, score=0.955 total time=   0.1s\n",
      "[CV 2/5] END algorithm=ball_tree, leaf_size=17, n_neighbors=5, p=2;, score=0.953 total time=   0.1s\n",
      "[CV 3/5] END algorithm=ball_tree, leaf_size=17, n_neighbors=5, p=2;, score=0.951 total time=   0.1s\n",
      "[CV 4/5] END algorithm=ball_tree, leaf_size=17, n_neighbors=5, p=2;, score=0.941 total time=   0.1s\n",
      "[CV 5/5] END algorithm=ball_tree, leaf_size=17, n_neighbors=5, p=2;, score=0.955 total time=   0.1s\n",
      "[CV 1/5] END algorithm=ball_tree, leaf_size=17, n_neighbors=8, p=1;, score=0.953 total time=   0.1s\n",
      "[CV 2/5] END algorithm=ball_tree, leaf_size=17, n_neighbors=8, p=1;, score=0.953 total time=   0.1s\n",
      "[CV 3/5] END algorithm=ball_tree, leaf_size=17, n_neighbors=8, p=1;, score=0.943 total time=   0.1s\n",
      "[CV 4/5] END algorithm=ball_tree, leaf_size=17, n_neighbors=8, p=1;, score=0.939 total time=   0.1s\n",
      "[CV 5/5] END algorithm=ball_tree, leaf_size=17, n_neighbors=8, p=1;, score=0.947 total time=   0.1s\n",
      "[CV 1/5] END algorithm=ball_tree, leaf_size=17, n_neighbors=8, p=2;, score=0.949 total time=   0.1s\n",
      "[CV 2/5] END algorithm=ball_tree, leaf_size=17, n_neighbors=8, p=2;, score=0.951 total time=   0.1s\n",
      "[CV 3/5] END algorithm=ball_tree, leaf_size=17, n_neighbors=8, p=2;, score=0.945 total time=   0.1s\n",
      "[CV 4/5] END algorithm=ball_tree, leaf_size=17, n_neighbors=8, p=2;, score=0.941 total time=   0.1s\n",
      "[CV 5/5] END algorithm=ball_tree, leaf_size=17, n_neighbors=8, p=2;, score=0.949 total time=   0.1s\n",
      "[CV 1/5] END algorithm=ball_tree, leaf_size=17, n_neighbors=10, p=1;, score=0.947 total time=   0.1s\n",
      "[CV 2/5] END algorithm=ball_tree, leaf_size=17, n_neighbors=10, p=1;, score=0.951 total time=   0.1s\n",
      "[CV 3/5] END algorithm=ball_tree, leaf_size=17, n_neighbors=10, p=1;, score=0.939 total time=   0.1s\n",
      "[CV 4/5] END algorithm=ball_tree, leaf_size=17, n_neighbors=10, p=1;, score=0.939 total time=   0.1s\n",
      "[CV 5/5] END algorithm=ball_tree, leaf_size=17, n_neighbors=10, p=1;, score=0.945 total time=   0.1s\n",
      "[CV 1/5] END algorithm=ball_tree, leaf_size=17, n_neighbors=10, p=2;, score=0.945 total time=   0.1s\n",
      "[CV 2/5] END algorithm=ball_tree, leaf_size=17, n_neighbors=10, p=2;, score=0.951 total time=   0.1s\n",
      "[CV 3/5] END algorithm=ball_tree, leaf_size=17, n_neighbors=10, p=2;, score=0.941 total time=   0.1s\n",
      "[CV 4/5] END algorithm=ball_tree, leaf_size=17, n_neighbors=10, p=2;, score=0.939 total time=   0.1s\n",
      "[CV 5/5] END algorithm=ball_tree, leaf_size=17, n_neighbors=10, p=2;, score=0.949 total time=   0.1s\n",
      "[CV 1/5] END algorithm=ball_tree, leaf_size=17, n_neighbors=11, p=1;, score=0.945 total time=   0.1s\n",
      "[CV 2/5] END algorithm=ball_tree, leaf_size=17, n_neighbors=11, p=1;, score=0.949 total time=   0.1s\n",
      "[CV 3/5] END algorithm=ball_tree, leaf_size=17, n_neighbors=11, p=1;, score=0.934 total time=   0.1s\n",
      "[CV 4/5] END algorithm=ball_tree, leaf_size=17, n_neighbors=11, p=1;, score=0.936 total time=   0.1s\n",
      "[CV 5/5] END algorithm=ball_tree, leaf_size=17, n_neighbors=11, p=1;, score=0.941 total time=   0.1s\n",
      "[CV 1/5] END algorithm=ball_tree, leaf_size=17, n_neighbors=11, p=2;, score=0.945 total time=   0.1s\n",
      "[CV 2/5] END algorithm=ball_tree, leaf_size=17, n_neighbors=11, p=2;, score=0.949 total time=   0.1s\n",
      "[CV 3/5] END algorithm=ball_tree, leaf_size=17, n_neighbors=11, p=2;, score=0.938 total time=   0.1s\n",
      "[CV 4/5] END algorithm=ball_tree, leaf_size=17, n_neighbors=11, p=2;, score=0.939 total time=   0.1s\n",
      "[CV 5/5] END algorithm=ball_tree, leaf_size=17, n_neighbors=11, p=2;, score=0.949 total time=   0.1s\n",
      "[CV 1/5] END algorithm=ball_tree, leaf_size=24, n_neighbors=4, p=1;, score=0.960 total time=   0.1s\n",
      "[CV 2/5] END algorithm=ball_tree, leaf_size=24, n_neighbors=4, p=1;, score=0.951 total time=   0.1s\n",
      "[CV 3/5] END algorithm=ball_tree, leaf_size=24, n_neighbors=4, p=1;, score=0.947 total time=   0.1s\n",
      "[CV 4/5] END algorithm=ball_tree, leaf_size=24, n_neighbors=4, p=1;, score=0.943 total time=   0.1s\n",
      "[CV 5/5] END algorithm=ball_tree, leaf_size=24, n_neighbors=4, p=1;, score=0.947 total time=   0.1s\n",
      "[CV 1/5] END algorithm=ball_tree, leaf_size=24, n_neighbors=4, p=2;, score=0.956 total time=   0.1s\n",
      "[CV 2/5] END algorithm=ball_tree, leaf_size=24, n_neighbors=4, p=2;, score=0.955 total time=   0.1s\n",
      "[CV 3/5] END algorithm=ball_tree, leaf_size=24, n_neighbors=4, p=2;, score=0.945 total time=   0.1s\n",
      "[CV 4/5] END algorithm=ball_tree, leaf_size=24, n_neighbors=4, p=2;, score=0.941 total time=   0.1s\n",
      "[CV 5/5] END algorithm=ball_tree, leaf_size=24, n_neighbors=4, p=2;, score=0.947 total time=   0.1s\n",
      "[CV 1/5] END algorithm=ball_tree, leaf_size=24, n_neighbors=5, p=1;, score=0.949 total time=   0.1s\n",
      "[CV 2/5] END algorithm=ball_tree, leaf_size=24, n_neighbors=5, p=1;, score=0.955 total time=   0.1s\n",
      "[CV 3/5] END algorithm=ball_tree, leaf_size=24, n_neighbors=5, p=1;, score=0.943 total time=   0.1s\n",
      "[CV 4/5] END algorithm=ball_tree, leaf_size=24, n_neighbors=5, p=1;, score=0.941 total time=   0.1s\n",
      "[CV 5/5] END algorithm=ball_tree, leaf_size=24, n_neighbors=5, p=1;, score=0.947 total time=   0.1s\n",
      "[CV 1/5] END algorithm=ball_tree, leaf_size=24, n_neighbors=5, p=2;, score=0.955 total time=   0.1s\n",
      "[CV 2/5] END algorithm=ball_tree, leaf_size=24, n_neighbors=5, p=2;, score=0.953 total time=   0.1s\n",
      "[CV 3/5] END algorithm=ball_tree, leaf_size=24, n_neighbors=5, p=2;, score=0.951 total time=   0.1s\n",
      "[CV 4/5] END algorithm=ball_tree, leaf_size=24, n_neighbors=5, p=2;, score=0.941 total time=   0.1s\n",
      "[CV 5/5] END algorithm=ball_tree, leaf_size=24, n_neighbors=5, p=2;, score=0.955 total time=   0.1s\n",
      "[CV 1/5] END algorithm=ball_tree, leaf_size=24, n_neighbors=8, p=1;, score=0.953 total time=   0.1s\n",
      "[CV 2/5] END algorithm=ball_tree, leaf_size=24, n_neighbors=8, p=1;, score=0.953 total time=   0.1s\n",
      "[CV 3/5] END algorithm=ball_tree, leaf_size=24, n_neighbors=8, p=1;, score=0.943 total time=   0.1s\n",
      "[CV 4/5] END algorithm=ball_tree, leaf_size=24, n_neighbors=8, p=1;, score=0.939 total time=   0.1s\n",
      "[CV 5/5] END algorithm=ball_tree, leaf_size=24, n_neighbors=8, p=1;, score=0.947 total time=   0.1s\n",
      "[CV 1/5] END algorithm=ball_tree, leaf_size=24, n_neighbors=8, p=2;, score=0.949 total time=   0.1s\n",
      "[CV 2/5] END algorithm=ball_tree, leaf_size=24, n_neighbors=8, p=2;, score=0.951 total time=   0.1s\n",
      "[CV 3/5] END algorithm=ball_tree, leaf_size=24, n_neighbors=8, p=2;, score=0.945 total time=   0.1s\n",
      "[CV 4/5] END algorithm=ball_tree, leaf_size=24, n_neighbors=8, p=2;, score=0.941 total time=   0.1s\n",
      "[CV 5/5] END algorithm=ball_tree, leaf_size=24, n_neighbors=8, p=2;, score=0.949 total time=   0.1s\n",
      "[CV 1/5] END algorithm=ball_tree, leaf_size=24, n_neighbors=10, p=1;, score=0.947 total time=   0.1s\n",
      "[CV 2/5] END algorithm=ball_tree, leaf_size=24, n_neighbors=10, p=1;, score=0.951 total time=   0.1s\n",
      "[CV 3/5] END algorithm=ball_tree, leaf_size=24, n_neighbors=10, p=1;, score=0.939 total time=   0.1s\n",
      "[CV 4/5] END algorithm=ball_tree, leaf_size=24, n_neighbors=10, p=1;, score=0.939 total time=   0.1s\n",
      "[CV 5/5] END algorithm=ball_tree, leaf_size=24, n_neighbors=10, p=1;, score=0.945 total time=   0.1s\n",
      "[CV 1/5] END algorithm=ball_tree, leaf_size=24, n_neighbors=10, p=2;, score=0.945 total time=   0.1s\n",
      "[CV 2/5] END algorithm=ball_tree, leaf_size=24, n_neighbors=10, p=2;, score=0.951 total time=   0.1s\n",
      "[CV 3/5] END algorithm=ball_tree, leaf_size=24, n_neighbors=10, p=2;, score=0.941 total time=   0.1s\n",
      "[CV 4/5] END algorithm=ball_tree, leaf_size=24, n_neighbors=10, p=2;, score=0.939 total time=   0.1s\n",
      "[CV 5/5] END algorithm=ball_tree, leaf_size=24, n_neighbors=10, p=2;, score=0.949 total time=   0.1s\n",
      "[CV 1/5] END algorithm=ball_tree, leaf_size=24, n_neighbors=11, p=1;, score=0.945 total time=   0.1s\n",
      "[CV 2/5] END algorithm=ball_tree, leaf_size=24, n_neighbors=11, p=1;, score=0.949 total time=   0.1s\n",
      "[CV 3/5] END algorithm=ball_tree, leaf_size=24, n_neighbors=11, p=1;, score=0.934 total time=   0.1s\n",
      "[CV 4/5] END algorithm=ball_tree, leaf_size=24, n_neighbors=11, p=1;, score=0.936 total time=   0.1s\n",
      "[CV 5/5] END algorithm=ball_tree, leaf_size=24, n_neighbors=11, p=1;, score=0.941 total time=   0.1s\n",
      "[CV 1/5] END algorithm=ball_tree, leaf_size=24, n_neighbors=11, p=2;, score=0.945 total time=   0.1s\n",
      "[CV 2/5] END algorithm=ball_tree, leaf_size=24, n_neighbors=11, p=2;, score=0.949 total time=   0.1s\n",
      "[CV 3/5] END algorithm=ball_tree, leaf_size=24, n_neighbors=11, p=2;, score=0.938 total time=   0.1s\n",
      "[CV 4/5] END algorithm=ball_tree, leaf_size=24, n_neighbors=11, p=2;, score=0.939 total time=   0.1s\n",
      "[CV 5/5] END algorithm=ball_tree, leaf_size=24, n_neighbors=11, p=2;, score=0.949 total time=   0.1s\n",
      "[CV 1/5] END algorithm=ball_tree, leaf_size=28, n_neighbors=4, p=1;, score=0.960 total time=   0.1s\n",
      "[CV 2/5] END algorithm=ball_tree, leaf_size=28, n_neighbors=4, p=1;, score=0.951 total time=   0.1s\n",
      "[CV 3/5] END algorithm=ball_tree, leaf_size=28, n_neighbors=4, p=1;, score=0.947 total time=   0.1s\n",
      "[CV 4/5] END algorithm=ball_tree, leaf_size=28, n_neighbors=4, p=1;, score=0.943 total time=   0.1s\n",
      "[CV 5/5] END algorithm=ball_tree, leaf_size=28, n_neighbors=4, p=1;, score=0.947 total time=   0.1s\n",
      "[CV 1/5] END algorithm=ball_tree, leaf_size=28, n_neighbors=4, p=2;, score=0.956 total time=   0.1s\n",
      "[CV 2/5] END algorithm=ball_tree, leaf_size=28, n_neighbors=4, p=2;, score=0.955 total time=   0.1s\n",
      "[CV 3/5] END algorithm=ball_tree, leaf_size=28, n_neighbors=4, p=2;, score=0.945 total time=   0.1s\n",
      "[CV 4/5] END algorithm=ball_tree, leaf_size=28, n_neighbors=4, p=2;, score=0.941 total time=   0.1s\n",
      "[CV 5/5] END algorithm=ball_tree, leaf_size=28, n_neighbors=4, p=2;, score=0.947 total time=   0.1s\n",
      "[CV 1/5] END algorithm=ball_tree, leaf_size=28, n_neighbors=5, p=1;, score=0.949 total time=   0.1s\n",
      "[CV 2/5] END algorithm=ball_tree, leaf_size=28, n_neighbors=5, p=1;, score=0.955 total time=   0.1s\n",
      "[CV 3/5] END algorithm=ball_tree, leaf_size=28, n_neighbors=5, p=1;, score=0.943 total time=   0.1s\n",
      "[CV 4/5] END algorithm=ball_tree, leaf_size=28, n_neighbors=5, p=1;, score=0.941 total time=   0.1s\n",
      "[CV 5/5] END algorithm=ball_tree, leaf_size=28, n_neighbors=5, p=1;, score=0.947 total time=   0.1s\n",
      "[CV 1/5] END algorithm=ball_tree, leaf_size=28, n_neighbors=5, p=2;, score=0.955 total time=   0.1s\n",
      "[CV 2/5] END algorithm=ball_tree, leaf_size=28, n_neighbors=5, p=2;, score=0.953 total time=   0.1s\n",
      "[CV 3/5] END algorithm=ball_tree, leaf_size=28, n_neighbors=5, p=2;, score=0.951 total time=   0.1s\n",
      "[CV 4/5] END algorithm=ball_tree, leaf_size=28, n_neighbors=5, p=2;, score=0.941 total time=   0.1s\n",
      "[CV 5/5] END algorithm=ball_tree, leaf_size=28, n_neighbors=5, p=2;, score=0.955 total time=   0.1s\n",
      "[CV 1/5] END algorithm=ball_tree, leaf_size=28, n_neighbors=8, p=1;, score=0.953 total time=   0.1s\n",
      "[CV 2/5] END algorithm=ball_tree, leaf_size=28, n_neighbors=8, p=1;, score=0.953 total time=   0.1s\n",
      "[CV 3/5] END algorithm=ball_tree, leaf_size=28, n_neighbors=8, p=1;, score=0.943 total time=   0.1s\n",
      "[CV 4/5] END algorithm=ball_tree, leaf_size=28, n_neighbors=8, p=1;, score=0.939 total time=   0.1s\n",
      "[CV 5/5] END algorithm=ball_tree, leaf_size=28, n_neighbors=8, p=1;, score=0.947 total time=   0.1s\n",
      "[CV 1/5] END algorithm=ball_tree, leaf_size=28, n_neighbors=8, p=2;, score=0.949 total time=   0.1s\n",
      "[CV 2/5] END algorithm=ball_tree, leaf_size=28, n_neighbors=8, p=2;, score=0.951 total time=   0.1s\n",
      "[CV 3/5] END algorithm=ball_tree, leaf_size=28, n_neighbors=8, p=2;, score=0.945 total time=   0.1s\n",
      "[CV 4/5] END algorithm=ball_tree, leaf_size=28, n_neighbors=8, p=2;, score=0.941 total time=   0.1s\n",
      "[CV 5/5] END algorithm=ball_tree, leaf_size=28, n_neighbors=8, p=2;, score=0.949 total time=   0.1s\n",
      "[CV 1/5] END algorithm=ball_tree, leaf_size=28, n_neighbors=10, p=1;, score=0.947 total time=   0.1s\n",
      "[CV 2/5] END algorithm=ball_tree, leaf_size=28, n_neighbors=10, p=1;, score=0.951 total time=   0.1s\n",
      "[CV 3/5] END algorithm=ball_tree, leaf_size=28, n_neighbors=10, p=1;, score=0.939 total time=   0.1s\n",
      "[CV 4/5] END algorithm=ball_tree, leaf_size=28, n_neighbors=10, p=1;, score=0.939 total time=   0.1s\n",
      "[CV 5/5] END algorithm=ball_tree, leaf_size=28, n_neighbors=10, p=1;, score=0.945 total time=   0.1s\n",
      "[CV 1/5] END algorithm=ball_tree, leaf_size=28, n_neighbors=10, p=2;, score=0.945 total time=   0.1s\n",
      "[CV 2/5] END algorithm=ball_tree, leaf_size=28, n_neighbors=10, p=2;, score=0.951 total time=   0.1s\n",
      "[CV 3/5] END algorithm=ball_tree, leaf_size=28, n_neighbors=10, p=2;, score=0.941 total time=   0.1s\n",
      "[CV 4/5] END algorithm=ball_tree, leaf_size=28, n_neighbors=10, p=2;, score=0.939 total time=   0.1s\n",
      "[CV 5/5] END algorithm=ball_tree, leaf_size=28, n_neighbors=10, p=2;, score=0.949 total time=   0.1s\n",
      "[CV 1/5] END algorithm=ball_tree, leaf_size=28, n_neighbors=11, p=1;, score=0.945 total time=   0.1s\n",
      "[CV 2/5] END algorithm=ball_tree, leaf_size=28, n_neighbors=11, p=1;, score=0.949 total time=   0.1s\n",
      "[CV 3/5] END algorithm=ball_tree, leaf_size=28, n_neighbors=11, p=1;, score=0.934 total time=   0.1s\n",
      "[CV 4/5] END algorithm=ball_tree, leaf_size=28, n_neighbors=11, p=1;, score=0.936 total time=   0.1s\n",
      "[CV 5/5] END algorithm=ball_tree, leaf_size=28, n_neighbors=11, p=1;, score=0.941 total time=   0.1s\n",
      "[CV 1/5] END algorithm=ball_tree, leaf_size=28, n_neighbors=11, p=2;, score=0.945 total time=   0.1s\n",
      "[CV 2/5] END algorithm=ball_tree, leaf_size=28, n_neighbors=11, p=2;, score=0.949 total time=   0.1s\n",
      "[CV 3/5] END algorithm=ball_tree, leaf_size=28, n_neighbors=11, p=2;, score=0.938 total time=   0.1s\n",
      "[CV 4/5] END algorithm=ball_tree, leaf_size=28, n_neighbors=11, p=2;, score=0.939 total time=   0.1s\n",
      "[CV 5/5] END algorithm=ball_tree, leaf_size=28, n_neighbors=11, p=2;, score=0.949 total time=   0.1s\n",
      "[CV 1/5] END algorithm=ball_tree, leaf_size=30, n_neighbors=4, p=1;, score=0.960 total time=   0.1s\n",
      "[CV 2/5] END algorithm=ball_tree, leaf_size=30, n_neighbors=4, p=1;, score=0.951 total time=   0.1s\n",
      "[CV 3/5] END algorithm=ball_tree, leaf_size=30, n_neighbors=4, p=1;, score=0.947 total time=   0.1s\n",
      "[CV 4/5] END algorithm=ball_tree, leaf_size=30, n_neighbors=4, p=1;, score=0.943 total time=   0.1s\n",
      "[CV 5/5] END algorithm=ball_tree, leaf_size=30, n_neighbors=4, p=1;, score=0.947 total time=   0.1s\n",
      "[CV 1/5] END algorithm=ball_tree, leaf_size=30, n_neighbors=4, p=2;, score=0.956 total time=   0.1s\n",
      "[CV 2/5] END algorithm=ball_tree, leaf_size=30, n_neighbors=4, p=2;, score=0.955 total time=   0.1s\n",
      "[CV 3/5] END algorithm=ball_tree, leaf_size=30, n_neighbors=4, p=2;, score=0.945 total time=   0.1s\n",
      "[CV 4/5] END algorithm=ball_tree, leaf_size=30, n_neighbors=4, p=2;, score=0.941 total time=   0.1s\n",
      "[CV 5/5] END algorithm=ball_tree, leaf_size=30, n_neighbors=4, p=2;, score=0.947 total time=   0.1s\n",
      "[CV 1/5] END algorithm=ball_tree, leaf_size=30, n_neighbors=5, p=1;, score=0.949 total time=   0.1s\n",
      "[CV 2/5] END algorithm=ball_tree, leaf_size=30, n_neighbors=5, p=1;, score=0.955 total time=   0.1s\n",
      "[CV 3/5] END algorithm=ball_tree, leaf_size=30, n_neighbors=5, p=1;, score=0.943 total time=   0.1s\n",
      "[CV 4/5] END algorithm=ball_tree, leaf_size=30, n_neighbors=5, p=1;, score=0.941 total time=   0.1s\n",
      "[CV 5/5] END algorithm=ball_tree, leaf_size=30, n_neighbors=5, p=1;, score=0.947 total time=   0.1s\n",
      "[CV 1/5] END algorithm=ball_tree, leaf_size=30, n_neighbors=5, p=2;, score=0.955 total time=   0.1s\n",
      "[CV 2/5] END algorithm=ball_tree, leaf_size=30, n_neighbors=5, p=2;, score=0.953 total time=   0.1s\n",
      "[CV 3/5] END algorithm=ball_tree, leaf_size=30, n_neighbors=5, p=2;, score=0.951 total time=   0.1s\n",
      "[CV 4/5] END algorithm=ball_tree, leaf_size=30, n_neighbors=5, p=2;, score=0.941 total time=   0.1s\n",
      "[CV 5/5] END algorithm=ball_tree, leaf_size=30, n_neighbors=5, p=2;, score=0.955 total time=   0.1s\n",
      "[CV 1/5] END algorithm=ball_tree, leaf_size=30, n_neighbors=8, p=1;, score=0.953 total time=   0.1s\n",
      "[CV 2/5] END algorithm=ball_tree, leaf_size=30, n_neighbors=8, p=1;, score=0.953 total time=   0.1s\n",
      "[CV 3/5] END algorithm=ball_tree, leaf_size=30, n_neighbors=8, p=1;, score=0.943 total time=   0.1s\n",
      "[CV 4/5] END algorithm=ball_tree, leaf_size=30, n_neighbors=8, p=1;, score=0.939 total time=   0.1s\n",
      "[CV 5/5] END algorithm=ball_tree, leaf_size=30, n_neighbors=8, p=1;, score=0.947 total time=   0.1s\n",
      "[CV 1/5] END algorithm=ball_tree, leaf_size=30, n_neighbors=8, p=2;, score=0.949 total time=   0.1s\n",
      "[CV 2/5] END algorithm=ball_tree, leaf_size=30, n_neighbors=8, p=2;, score=0.951 total time=   0.1s\n",
      "[CV 3/5] END algorithm=ball_tree, leaf_size=30, n_neighbors=8, p=2;, score=0.945 total time=   0.1s\n",
      "[CV 4/5] END algorithm=ball_tree, leaf_size=30, n_neighbors=8, p=2;, score=0.941 total time=   0.1s\n",
      "[CV 5/5] END algorithm=ball_tree, leaf_size=30, n_neighbors=8, p=2;, score=0.949 total time=   0.1s\n",
      "[CV 1/5] END algorithm=ball_tree, leaf_size=30, n_neighbors=10, p=1;, score=0.947 total time=   0.1s\n",
      "[CV 2/5] END algorithm=ball_tree, leaf_size=30, n_neighbors=10, p=1;, score=0.951 total time=   0.1s\n",
      "[CV 3/5] END algorithm=ball_tree, leaf_size=30, n_neighbors=10, p=1;, score=0.939 total time=   0.1s\n",
      "[CV 4/5] END algorithm=ball_tree, leaf_size=30, n_neighbors=10, p=1;, score=0.939 total time=   0.1s\n",
      "[CV 5/5] END algorithm=ball_tree, leaf_size=30, n_neighbors=10, p=1;, score=0.945 total time=   0.1s\n",
      "[CV 1/5] END algorithm=ball_tree, leaf_size=30, n_neighbors=10, p=2;, score=0.945 total time=   0.1s\n",
      "[CV 2/5] END algorithm=ball_tree, leaf_size=30, n_neighbors=10, p=2;, score=0.951 total time=   0.1s\n",
      "[CV 3/5] END algorithm=ball_tree, leaf_size=30, n_neighbors=10, p=2;, score=0.941 total time=   0.1s\n",
      "[CV 4/5] END algorithm=ball_tree, leaf_size=30, n_neighbors=10, p=2;, score=0.939 total time=   0.1s\n",
      "[CV 5/5] END algorithm=ball_tree, leaf_size=30, n_neighbors=10, p=2;, score=0.949 total time=   0.1s\n",
      "[CV 1/5] END algorithm=ball_tree, leaf_size=30, n_neighbors=11, p=1;, score=0.945 total time=   0.1s\n",
      "[CV 2/5] END algorithm=ball_tree, leaf_size=30, n_neighbors=11, p=1;, score=0.949 total time=   0.1s\n",
      "[CV 3/5] END algorithm=ball_tree, leaf_size=30, n_neighbors=11, p=1;, score=0.934 total time=   0.1s\n",
      "[CV 4/5] END algorithm=ball_tree, leaf_size=30, n_neighbors=11, p=1;, score=0.936 total time=   0.1s\n",
      "[CV 5/5] END algorithm=ball_tree, leaf_size=30, n_neighbors=11, p=1;, score=0.941 total time=   0.1s\n",
      "[CV 1/5] END algorithm=ball_tree, leaf_size=30, n_neighbors=11, p=2;, score=0.945 total time=   0.1s\n",
      "[CV 2/5] END algorithm=ball_tree, leaf_size=30, n_neighbors=11, p=2;, score=0.949 total time=   0.1s\n",
      "[CV 3/5] END algorithm=ball_tree, leaf_size=30, n_neighbors=11, p=2;, score=0.938 total time=   0.1s\n",
      "[CV 4/5] END algorithm=ball_tree, leaf_size=30, n_neighbors=11, p=2;, score=0.939 total time=   0.1s\n",
      "[CV 5/5] END algorithm=ball_tree, leaf_size=30, n_neighbors=11, p=2;, score=0.949 total time=   0.1s\n",
      "[CV 1/5] END algorithm=ball_tree, leaf_size=35, n_neighbors=4, p=1;, score=0.960 total time=   0.1s\n",
      "[CV 2/5] END algorithm=ball_tree, leaf_size=35, n_neighbors=4, p=1;, score=0.953 total time=   0.1s\n",
      "[CV 3/5] END algorithm=ball_tree, leaf_size=35, n_neighbors=4, p=1;, score=0.947 total time=   0.1s\n",
      "[CV 4/5] END algorithm=ball_tree, leaf_size=35, n_neighbors=4, p=1;, score=0.943 total time=   0.1s\n",
      "[CV 5/5] END algorithm=ball_tree, leaf_size=35, n_neighbors=4, p=1;, score=0.947 total time=   0.1s\n",
      "[CV 1/5] END algorithm=ball_tree, leaf_size=35, n_neighbors=4, p=2;, score=0.956 total time=   0.1s\n",
      "[CV 2/5] END algorithm=ball_tree, leaf_size=35, n_neighbors=4, p=2;, score=0.955 total time=   0.1s\n",
      "[CV 3/5] END algorithm=ball_tree, leaf_size=35, n_neighbors=4, p=2;, score=0.945 total time=   0.1s\n",
      "[CV 4/5] END algorithm=ball_tree, leaf_size=35, n_neighbors=4, p=2;, score=0.941 total time=   0.1s\n",
      "[CV 5/5] END algorithm=ball_tree, leaf_size=35, n_neighbors=4, p=2;, score=0.947 total time=   0.1s\n",
      "[CV 1/5] END algorithm=ball_tree, leaf_size=35, n_neighbors=5, p=1;, score=0.949 total time=   0.1s\n",
      "[CV 2/5] END algorithm=ball_tree, leaf_size=35, n_neighbors=5, p=1;, score=0.955 total time=   0.1s\n",
      "[CV 3/5] END algorithm=ball_tree, leaf_size=35, n_neighbors=5, p=1;, score=0.943 total time=   0.1s\n",
      "[CV 4/5] END algorithm=ball_tree, leaf_size=35, n_neighbors=5, p=1;, score=0.941 total time=   0.1s\n",
      "[CV 5/5] END algorithm=ball_tree, leaf_size=35, n_neighbors=5, p=1;, score=0.947 total time=   0.1s\n",
      "[CV 1/5] END algorithm=ball_tree, leaf_size=35, n_neighbors=5, p=2;, score=0.955 total time=   0.1s\n",
      "[CV 2/5] END algorithm=ball_tree, leaf_size=35, n_neighbors=5, p=2;, score=0.953 total time=   0.1s\n",
      "[CV 3/5] END algorithm=ball_tree, leaf_size=35, n_neighbors=5, p=2;, score=0.951 total time=   0.1s\n",
      "[CV 4/5] END algorithm=ball_tree, leaf_size=35, n_neighbors=5, p=2;, score=0.941 total time=   0.1s\n",
      "[CV 5/5] END algorithm=ball_tree, leaf_size=35, n_neighbors=5, p=2;, score=0.955 total time=   0.1s\n",
      "[CV 1/5] END algorithm=ball_tree, leaf_size=35, n_neighbors=8, p=1;, score=0.951 total time=   0.1s\n",
      "[CV 2/5] END algorithm=ball_tree, leaf_size=35, n_neighbors=8, p=1;, score=0.951 total time=   0.1s\n",
      "[CV 3/5] END algorithm=ball_tree, leaf_size=35, n_neighbors=8, p=1;, score=0.943 total time=   0.1s\n",
      "[CV 4/5] END algorithm=ball_tree, leaf_size=35, n_neighbors=8, p=1;, score=0.939 total time=   0.1s\n",
      "[CV 5/5] END algorithm=ball_tree, leaf_size=35, n_neighbors=8, p=1;, score=0.947 total time=   0.1s\n",
      "[CV 1/5] END algorithm=ball_tree, leaf_size=35, n_neighbors=8, p=2;, score=0.949 total time=   0.1s\n",
      "[CV 2/5] END algorithm=ball_tree, leaf_size=35, n_neighbors=8, p=2;, score=0.951 total time=   0.1s\n",
      "[CV 3/5] END algorithm=ball_tree, leaf_size=35, n_neighbors=8, p=2;, score=0.945 total time=   0.1s\n",
      "[CV 4/5] END algorithm=ball_tree, leaf_size=35, n_neighbors=8, p=2;, score=0.941 total time=   0.1s\n",
      "[CV 5/5] END algorithm=ball_tree, leaf_size=35, n_neighbors=8, p=2;, score=0.949 total time=   0.1s\n",
      "[CV 1/5] END algorithm=ball_tree, leaf_size=35, n_neighbors=10, p=1;, score=0.947 total time=   0.1s\n",
      "[CV 2/5] END algorithm=ball_tree, leaf_size=35, n_neighbors=10, p=1;, score=0.951 total time=   0.1s\n",
      "[CV 3/5] END algorithm=ball_tree, leaf_size=35, n_neighbors=10, p=1;, score=0.939 total time=   0.1s\n",
      "[CV 4/5] END algorithm=ball_tree, leaf_size=35, n_neighbors=10, p=1;, score=0.939 total time=   0.1s\n",
      "[CV 5/5] END algorithm=ball_tree, leaf_size=35, n_neighbors=10, p=1;, score=0.943 total time=   0.1s\n",
      "[CV 1/5] END algorithm=ball_tree, leaf_size=35, n_neighbors=10, p=2;, score=0.945 total time=   0.1s\n",
      "[CV 2/5] END algorithm=ball_tree, leaf_size=35, n_neighbors=10, p=2;, score=0.951 total time=   0.1s\n",
      "[CV 3/5] END algorithm=ball_tree, leaf_size=35, n_neighbors=10, p=2;, score=0.941 total time=   0.1s\n",
      "[CV 4/5] END algorithm=ball_tree, leaf_size=35, n_neighbors=10, p=2;, score=0.939 total time=   0.1s\n",
      "[CV 5/5] END algorithm=ball_tree, leaf_size=35, n_neighbors=10, p=2;, score=0.949 total time=   0.1s\n",
      "[CV 1/5] END algorithm=ball_tree, leaf_size=35, n_neighbors=11, p=1;, score=0.945 total time=   0.1s\n",
      "[CV 2/5] END algorithm=ball_tree, leaf_size=35, n_neighbors=11, p=1;, score=0.949 total time=   0.1s\n",
      "[CV 3/5] END algorithm=ball_tree, leaf_size=35, n_neighbors=11, p=1;, score=0.934 total time=   0.1s\n",
      "[CV 4/5] END algorithm=ball_tree, leaf_size=35, n_neighbors=11, p=1;, score=0.936 total time=   0.1s\n",
      "[CV 5/5] END algorithm=ball_tree, leaf_size=35, n_neighbors=11, p=1;, score=0.941 total time=   0.1s\n",
      "[CV 1/5] END algorithm=ball_tree, leaf_size=35, n_neighbors=11, p=2;, score=0.945 total time=   0.1s\n",
      "[CV 2/5] END algorithm=ball_tree, leaf_size=35, n_neighbors=11, p=2;, score=0.949 total time=   0.1s\n",
      "[CV 3/5] END algorithm=ball_tree, leaf_size=35, n_neighbors=11, p=2;, score=0.938 total time=   0.1s\n",
      "[CV 4/5] END algorithm=ball_tree, leaf_size=35, n_neighbors=11, p=2;, score=0.939 total time=   0.1s\n",
      "[CV 5/5] END algorithm=ball_tree, leaf_size=35, n_neighbors=11, p=2;, score=0.949 total time=   0.1s\n",
      "[CV 1/5] END algorithm=kd_tree, leaf_size=10, n_neighbors=4, p=1;, score=0.958 total time=   0.1s\n",
      "[CV 2/5] END algorithm=kd_tree, leaf_size=10, n_neighbors=4, p=1;, score=0.953 total time=   0.1s\n",
      "[CV 3/5] END algorithm=kd_tree, leaf_size=10, n_neighbors=4, p=1;, score=0.941 total time=   0.1s\n",
      "[CV 4/5] END algorithm=kd_tree, leaf_size=10, n_neighbors=4, p=1;, score=0.947 total time=   0.1s\n",
      "[CV 5/5] END algorithm=kd_tree, leaf_size=10, n_neighbors=4, p=1;, score=0.951 total time=   0.1s\n",
      "[CV 1/5] END algorithm=kd_tree, leaf_size=10, n_neighbors=4, p=2;, score=0.956 total time=   0.0s\n",
      "[CV 2/5] END algorithm=kd_tree, leaf_size=10, n_neighbors=4, p=2;, score=0.955 total time=   0.1s\n",
      "[CV 3/5] END algorithm=kd_tree, leaf_size=10, n_neighbors=4, p=2;, score=0.945 total time=   0.0s\n",
      "[CV 4/5] END algorithm=kd_tree, leaf_size=10, n_neighbors=4, p=2;, score=0.939 total time=   0.0s\n",
      "[CV 5/5] END algorithm=kd_tree, leaf_size=10, n_neighbors=4, p=2;, score=0.949 total time=   0.0s\n",
      "[CV 1/5] END algorithm=kd_tree, leaf_size=10, n_neighbors=5, p=1;, score=0.953 total time=   0.1s\n",
      "[CV 2/5] END algorithm=kd_tree, leaf_size=10, n_neighbors=5, p=1;, score=0.955 total time=   0.1s\n",
      "[CV 3/5] END algorithm=kd_tree, leaf_size=10, n_neighbors=5, p=1;, score=0.943 total time=   0.1s\n",
      "[CV 4/5] END algorithm=kd_tree, leaf_size=10, n_neighbors=5, p=1;, score=0.943 total time=   0.1s\n",
      "[CV 5/5] END algorithm=kd_tree, leaf_size=10, n_neighbors=5, p=1;, score=0.949 total time=   0.1s\n",
      "[CV 1/5] END algorithm=kd_tree, leaf_size=10, n_neighbors=5, p=2;, score=0.956 total time=   0.0s\n",
      "[CV 2/5] END algorithm=kd_tree, leaf_size=10, n_neighbors=5, p=2;, score=0.953 total time=   0.0s\n",
      "[CV 3/5] END algorithm=kd_tree, leaf_size=10, n_neighbors=5, p=2;, score=0.951 total time=   0.0s\n",
      "[CV 4/5] END algorithm=kd_tree, leaf_size=10, n_neighbors=5, p=2;, score=0.941 total time=   0.0s\n",
      "[CV 5/5] END algorithm=kd_tree, leaf_size=10, n_neighbors=5, p=2;, score=0.955 total time=   0.0s\n",
      "[CV 1/5] END algorithm=kd_tree, leaf_size=10, n_neighbors=8, p=1;, score=0.953 total time=   0.1s\n",
      "[CV 2/5] END algorithm=kd_tree, leaf_size=10, n_neighbors=8, p=1;, score=0.951 total time=   0.1s\n",
      "[CV 3/5] END algorithm=kd_tree, leaf_size=10, n_neighbors=8, p=1;, score=0.943 total time=   0.1s\n",
      "[CV 4/5] END algorithm=kd_tree, leaf_size=10, n_neighbors=8, p=1;, score=0.941 total time=   0.1s\n",
      "[CV 5/5] END algorithm=kd_tree, leaf_size=10, n_neighbors=8, p=1;, score=0.945 total time=   0.1s\n",
      "[CV 1/5] END algorithm=kd_tree, leaf_size=10, n_neighbors=8, p=2;, score=0.949 total time=   0.1s\n",
      "[CV 2/5] END algorithm=kd_tree, leaf_size=10, n_neighbors=8, p=2;, score=0.951 total time=   0.0s\n",
      "[CV 3/5] END algorithm=kd_tree, leaf_size=10, n_neighbors=8, p=2;, score=0.947 total time=   0.0s\n",
      "[CV 4/5] END algorithm=kd_tree, leaf_size=10, n_neighbors=8, p=2;, score=0.941 total time=   0.0s\n",
      "[CV 5/5] END algorithm=kd_tree, leaf_size=10, n_neighbors=8, p=2;, score=0.951 total time=   0.0s\n",
      "[CV 1/5] END algorithm=kd_tree, leaf_size=10, n_neighbors=10, p=1;, score=0.947 total time=   0.1s\n",
      "[CV 2/5] END algorithm=kd_tree, leaf_size=10, n_neighbors=10, p=1;, score=0.951 total time=   0.1s\n",
      "[CV 3/5] END algorithm=kd_tree, leaf_size=10, n_neighbors=10, p=1;, score=0.943 total time=   0.1s\n",
      "[CV 4/5] END algorithm=kd_tree, leaf_size=10, n_neighbors=10, p=1;, score=0.939 total time=   0.1s\n",
      "[CV 5/5] END algorithm=kd_tree, leaf_size=10, n_neighbors=10, p=1;, score=0.949 total time=   0.1s\n",
      "[CV 1/5] END algorithm=kd_tree, leaf_size=10, n_neighbors=10, p=2;, score=0.947 total time=   0.0s\n",
      "[CV 2/5] END algorithm=kd_tree, leaf_size=10, n_neighbors=10, p=2;, score=0.951 total time=   0.0s\n",
      "[CV 3/5] END algorithm=kd_tree, leaf_size=10, n_neighbors=10, p=2;, score=0.941 total time=   0.0s\n",
      "[CV 4/5] END algorithm=kd_tree, leaf_size=10, n_neighbors=10, p=2;, score=0.939 total time=   0.0s\n",
      "[CV 5/5] END algorithm=kd_tree, leaf_size=10, n_neighbors=10, p=2;, score=0.949 total time=   0.0s\n",
      "[CV 1/5] END algorithm=kd_tree, leaf_size=10, n_neighbors=11, p=1;, score=0.947 total time=   0.1s\n",
      "[CV 2/5] END algorithm=kd_tree, leaf_size=10, n_neighbors=11, p=1;, score=0.949 total time=   0.1s\n",
      "[CV 3/5] END algorithm=kd_tree, leaf_size=10, n_neighbors=11, p=1;, score=0.936 total time=   0.1s\n",
      "[CV 4/5] END algorithm=kd_tree, leaf_size=10, n_neighbors=11, p=1;, score=0.938 total time=   0.1s\n",
      "[CV 5/5] END algorithm=kd_tree, leaf_size=10, n_neighbors=11, p=1;, score=0.945 total time=   0.1s\n",
      "[CV 1/5] END algorithm=kd_tree, leaf_size=10, n_neighbors=11, p=2;, score=0.945 total time=   0.0s\n",
      "[CV 2/5] END algorithm=kd_tree, leaf_size=10, n_neighbors=11, p=2;, score=0.949 total time=   0.1s\n",
      "[CV 3/5] END algorithm=kd_tree, leaf_size=10, n_neighbors=11, p=2;, score=0.938 total time=   0.0s\n",
      "[CV 4/5] END algorithm=kd_tree, leaf_size=10, n_neighbors=11, p=2;, score=0.939 total time=   0.0s\n",
      "[CV 5/5] END algorithm=kd_tree, leaf_size=10, n_neighbors=11, p=2;, score=0.949 total time=   0.0s\n",
      "[CV 1/5] END algorithm=kd_tree, leaf_size=17, n_neighbors=4, p=1;, score=0.956 total time=   0.0s\n",
      "[CV 2/5] END algorithm=kd_tree, leaf_size=17, n_neighbors=4, p=1;, score=0.951 total time=   0.1s\n",
      "[CV 3/5] END algorithm=kd_tree, leaf_size=17, n_neighbors=4, p=1;, score=0.941 total time=   0.0s\n",
      "[CV 4/5] END algorithm=kd_tree, leaf_size=17, n_neighbors=4, p=1;, score=0.947 total time=   0.0s\n",
      "[CV 5/5] END algorithm=kd_tree, leaf_size=17, n_neighbors=4, p=1;, score=0.951 total time=   0.0s\n",
      "[CV 1/5] END algorithm=kd_tree, leaf_size=17, n_neighbors=4, p=2;, score=0.956 total time=   0.0s\n",
      "[CV 2/5] END algorithm=kd_tree, leaf_size=17, n_neighbors=4, p=2;, score=0.955 total time=   0.0s\n",
      "[CV 3/5] END algorithm=kd_tree, leaf_size=17, n_neighbors=4, p=2;, score=0.945 total time=   0.0s\n",
      "[CV 4/5] END algorithm=kd_tree, leaf_size=17, n_neighbors=4, p=2;, score=0.939 total time=   0.0s\n",
      "[CV 5/5] END algorithm=kd_tree, leaf_size=17, n_neighbors=4, p=2;, score=0.949 total time=   0.0s\n",
      "[CV 1/5] END algorithm=kd_tree, leaf_size=17, n_neighbors=5, p=1;, score=0.953 total time=   0.1s\n",
      "[CV 2/5] END algorithm=kd_tree, leaf_size=17, n_neighbors=5, p=1;, score=0.953 total time=   0.1s\n",
      "[CV 3/5] END algorithm=kd_tree, leaf_size=17, n_neighbors=5, p=1;, score=0.943 total time=   0.1s\n",
      "[CV 4/5] END algorithm=kd_tree, leaf_size=17, n_neighbors=5, p=1;, score=0.943 total time=   0.1s\n",
      "[CV 5/5] END algorithm=kd_tree, leaf_size=17, n_neighbors=5, p=1;, score=0.949 total time=   0.1s\n",
      "[CV 1/5] END algorithm=kd_tree, leaf_size=17, n_neighbors=5, p=2;, score=0.956 total time=   0.0s\n",
      "[CV 2/5] END algorithm=kd_tree, leaf_size=17, n_neighbors=5, p=2;, score=0.953 total time=   0.0s\n",
      "[CV 3/5] END algorithm=kd_tree, leaf_size=17, n_neighbors=5, p=2;, score=0.951 total time=   0.0s\n",
      "[CV 4/5] END algorithm=kd_tree, leaf_size=17, n_neighbors=5, p=2;, score=0.941 total time=   0.0s\n",
      "[CV 5/5] END algorithm=kd_tree, leaf_size=17, n_neighbors=5, p=2;, score=0.955 total time=   0.0s\n",
      "[CV 1/5] END algorithm=kd_tree, leaf_size=17, n_neighbors=8, p=1;, score=0.953 total time=   0.1s\n",
      "[CV 2/5] END algorithm=kd_tree, leaf_size=17, n_neighbors=8, p=1;, score=0.951 total time=   0.1s\n",
      "[CV 3/5] END algorithm=kd_tree, leaf_size=17, n_neighbors=8, p=1;, score=0.943 total time=   0.1s\n",
      "[CV 4/5] END algorithm=kd_tree, leaf_size=17, n_neighbors=8, p=1;, score=0.941 total time=   0.1s\n",
      "[CV 5/5] END algorithm=kd_tree, leaf_size=17, n_neighbors=8, p=1;, score=0.947 total time=   0.1s\n",
      "[CV 1/5] END algorithm=kd_tree, leaf_size=17, n_neighbors=8, p=2;, score=0.949 total time=   0.0s\n",
      "[CV 2/5] END algorithm=kd_tree, leaf_size=17, n_neighbors=8, p=2;, score=0.951 total time=   0.0s\n",
      "[CV 3/5] END algorithm=kd_tree, leaf_size=17, n_neighbors=8, p=2;, score=0.947 total time=   0.0s\n",
      "[CV 4/5] END algorithm=kd_tree, leaf_size=17, n_neighbors=8, p=2;, score=0.941 total time=   0.0s\n",
      "[CV 5/5] END algorithm=kd_tree, leaf_size=17, n_neighbors=8, p=2;, score=0.951 total time=   0.0s\n",
      "[CV 1/5] END algorithm=kd_tree, leaf_size=17, n_neighbors=10, p=1;, score=0.947 total time=   0.1s\n",
      "[CV 2/5] END algorithm=kd_tree, leaf_size=17, n_neighbors=10, p=1;, score=0.951 total time=   0.1s\n",
      "[CV 3/5] END algorithm=kd_tree, leaf_size=17, n_neighbors=10, p=1;, score=0.943 total time=   0.1s\n",
      "[CV 4/5] END algorithm=kd_tree, leaf_size=17, n_neighbors=10, p=1;, score=0.939 total time=   0.1s\n",
      "[CV 5/5] END algorithm=kd_tree, leaf_size=17, n_neighbors=10, p=1;, score=0.949 total time=   0.1s\n",
      "[CV 1/5] END algorithm=kd_tree, leaf_size=17, n_neighbors=10, p=2;, score=0.947 total time=   0.0s\n",
      "[CV 2/5] END algorithm=kd_tree, leaf_size=17, n_neighbors=10, p=2;, score=0.951 total time=   0.1s\n",
      "[CV 3/5] END algorithm=kd_tree, leaf_size=17, n_neighbors=10, p=2;, score=0.941 total time=   0.0s\n",
      "[CV 4/5] END algorithm=kd_tree, leaf_size=17, n_neighbors=10, p=2;, score=0.939 total time=   0.0s\n",
      "[CV 5/5] END algorithm=kd_tree, leaf_size=17, n_neighbors=10, p=2;, score=0.949 total time=   0.0s\n",
      "[CV 1/5] END algorithm=kd_tree, leaf_size=17, n_neighbors=11, p=1;, score=0.947 total time=   0.1s\n",
      "[CV 2/5] END algorithm=kd_tree, leaf_size=17, n_neighbors=11, p=1;, score=0.949 total time=   0.1s\n",
      "[CV 3/5] END algorithm=kd_tree, leaf_size=17, n_neighbors=11, p=1;, score=0.936 total time=   0.1s\n",
      "[CV 4/5] END algorithm=kd_tree, leaf_size=17, n_neighbors=11, p=1;, score=0.938 total time=   0.1s\n",
      "[CV 5/5] END algorithm=kd_tree, leaf_size=17, n_neighbors=11, p=1;, score=0.945 total time=   0.1s\n",
      "[CV 1/5] END algorithm=kd_tree, leaf_size=17, n_neighbors=11, p=2;, score=0.945 total time=   0.1s\n",
      "[CV 2/5] END algorithm=kd_tree, leaf_size=17, n_neighbors=11, p=2;, score=0.949 total time=   0.0s\n",
      "[CV 3/5] END algorithm=kd_tree, leaf_size=17, n_neighbors=11, p=2;, score=0.938 total time=   0.0s\n",
      "[CV 4/5] END algorithm=kd_tree, leaf_size=17, n_neighbors=11, p=2;, score=0.939 total time=   0.0s\n",
      "[CV 5/5] END algorithm=kd_tree, leaf_size=17, n_neighbors=11, p=2;, score=0.949 total time=   0.0s\n",
      "[CV 1/5] END algorithm=kd_tree, leaf_size=24, n_neighbors=4, p=1;, score=0.956 total time=   0.0s\n",
      "[CV 2/5] END algorithm=kd_tree, leaf_size=24, n_neighbors=4, p=1;, score=0.951 total time=   0.1s\n",
      "[CV 3/5] END algorithm=kd_tree, leaf_size=24, n_neighbors=4, p=1;, score=0.941 total time=   0.1s\n",
      "[CV 4/5] END algorithm=kd_tree, leaf_size=24, n_neighbors=4, p=1;, score=0.947 total time=   0.0s\n",
      "[CV 5/5] END algorithm=kd_tree, leaf_size=24, n_neighbors=4, p=1;, score=0.951 total time=   0.1s\n",
      "[CV 1/5] END algorithm=kd_tree, leaf_size=24, n_neighbors=4, p=2;, score=0.956 total time=   0.0s\n",
      "[CV 2/5] END algorithm=kd_tree, leaf_size=24, n_neighbors=4, p=2;, score=0.955 total time=   0.0s\n",
      "[CV 3/5] END algorithm=kd_tree, leaf_size=24, n_neighbors=4, p=2;, score=0.945 total time=   0.0s\n",
      "[CV 4/5] END algorithm=kd_tree, leaf_size=24, n_neighbors=4, p=2;, score=0.939 total time=   0.0s\n",
      "[CV 5/5] END algorithm=kd_tree, leaf_size=24, n_neighbors=4, p=2;, score=0.949 total time=   0.0s\n",
      "[CV 1/5] END algorithm=kd_tree, leaf_size=24, n_neighbors=5, p=1;, score=0.953 total time=   0.0s\n",
      "[CV 2/5] END algorithm=kd_tree, leaf_size=24, n_neighbors=5, p=1;, score=0.953 total time=   0.0s\n",
      "[CV 3/5] END algorithm=kd_tree, leaf_size=24, n_neighbors=5, p=1;, score=0.943 total time=   0.0s\n",
      "[CV 4/5] END algorithm=kd_tree, leaf_size=24, n_neighbors=5, p=1;, score=0.943 total time=   0.0s\n",
      "[CV 5/5] END algorithm=kd_tree, leaf_size=24, n_neighbors=5, p=1;, score=0.949 total time=   0.0s\n",
      "[CV 1/5] END algorithm=kd_tree, leaf_size=24, n_neighbors=5, p=2;, score=0.956 total time=   0.0s\n",
      "[CV 2/5] END algorithm=kd_tree, leaf_size=24, n_neighbors=5, p=2;, score=0.953 total time=   0.0s\n",
      "[CV 3/5] END algorithm=kd_tree, leaf_size=24, n_neighbors=5, p=2;, score=0.951 total time=   0.0s\n",
      "[CV 4/5] END algorithm=kd_tree, leaf_size=24, n_neighbors=5, p=2;, score=0.941 total time=   0.0s\n",
      "[CV 5/5] END algorithm=kd_tree, leaf_size=24, n_neighbors=5, p=2;, score=0.955 total time=   0.0s\n",
      "[CV 1/5] END algorithm=kd_tree, leaf_size=24, n_neighbors=8, p=1;, score=0.953 total time=   0.1s\n",
      "[CV 2/5] END algorithm=kd_tree, leaf_size=24, n_neighbors=8, p=1;, score=0.951 total time=   0.1s\n",
      "[CV 3/5] END algorithm=kd_tree, leaf_size=24, n_neighbors=8, p=1;, score=0.943 total time=   0.1s\n",
      "[CV 4/5] END algorithm=kd_tree, leaf_size=24, n_neighbors=8, p=1;, score=0.941 total time=   0.1s\n",
      "[CV 5/5] END algorithm=kd_tree, leaf_size=24, n_neighbors=8, p=1;, score=0.947 total time=   0.1s\n",
      "[CV 1/5] END algorithm=kd_tree, leaf_size=24, n_neighbors=8, p=2;, score=0.949 total time=   0.0s\n",
      "[CV 2/5] END algorithm=kd_tree, leaf_size=24, n_neighbors=8, p=2;, score=0.951 total time=   0.0s\n",
      "[CV 3/5] END algorithm=kd_tree, leaf_size=24, n_neighbors=8, p=2;, score=0.947 total time=   0.0s\n",
      "[CV 4/5] END algorithm=kd_tree, leaf_size=24, n_neighbors=8, p=2;, score=0.941 total time=   0.0s\n",
      "[CV 5/5] END algorithm=kd_tree, leaf_size=24, n_neighbors=8, p=2;, score=0.951 total time=   0.0s\n",
      "[CV 1/5] END algorithm=kd_tree, leaf_size=24, n_neighbors=10, p=1;, score=0.947 total time=   0.1s\n",
      "[CV 2/5] END algorithm=kd_tree, leaf_size=24, n_neighbors=10, p=1;, score=0.951 total time=   0.1s\n",
      "[CV 3/5] END algorithm=kd_tree, leaf_size=24, n_neighbors=10, p=1;, score=0.943 total time=   0.1s\n",
      "[CV 4/5] END algorithm=kd_tree, leaf_size=24, n_neighbors=10, p=1;, score=0.939 total time=   0.1s\n",
      "[CV 5/5] END algorithm=kd_tree, leaf_size=24, n_neighbors=10, p=1;, score=0.949 total time=   0.1s\n",
      "[CV 1/5] END algorithm=kd_tree, leaf_size=24, n_neighbors=10, p=2;, score=0.947 total time=   0.0s\n",
      "[CV 2/5] END algorithm=kd_tree, leaf_size=24, n_neighbors=10, p=2;, score=0.951 total time=   0.0s\n",
      "[CV 3/5] END algorithm=kd_tree, leaf_size=24, n_neighbors=10, p=2;, score=0.941 total time=   0.0s\n",
      "[CV 4/5] END algorithm=kd_tree, leaf_size=24, n_neighbors=10, p=2;, score=0.939 total time=   0.0s\n",
      "[CV 5/5] END algorithm=kd_tree, leaf_size=24, n_neighbors=10, p=2;, score=0.949 total time=   0.0s\n",
      "[CV 1/5] END algorithm=kd_tree, leaf_size=24, n_neighbors=11, p=1;, score=0.947 total time=   0.1s\n",
      "[CV 2/5] END algorithm=kd_tree, leaf_size=24, n_neighbors=11, p=1;, score=0.949 total time=   0.1s\n",
      "[CV 3/5] END algorithm=kd_tree, leaf_size=24, n_neighbors=11, p=1;, score=0.936 total time=   0.1s\n",
      "[CV 4/5] END algorithm=kd_tree, leaf_size=24, n_neighbors=11, p=1;, score=0.938 total time=   0.1s\n",
      "[CV 5/5] END algorithm=kd_tree, leaf_size=24, n_neighbors=11, p=1;, score=0.945 total time=   0.1s\n",
      "[CV 1/5] END algorithm=kd_tree, leaf_size=24, n_neighbors=11, p=2;, score=0.945 total time=   0.0s\n",
      "[CV 2/5] END algorithm=kd_tree, leaf_size=24, n_neighbors=11, p=2;, score=0.949 total time=   0.1s\n",
      "[CV 3/5] END algorithm=kd_tree, leaf_size=24, n_neighbors=11, p=2;, score=0.938 total time=   0.0s\n",
      "[CV 4/5] END algorithm=kd_tree, leaf_size=24, n_neighbors=11, p=2;, score=0.939 total time=   0.0s\n",
      "[CV 5/5] END algorithm=kd_tree, leaf_size=24, n_neighbors=11, p=2;, score=0.949 total time=   0.0s\n",
      "[CV 1/5] END algorithm=kd_tree, leaf_size=28, n_neighbors=4, p=1;, score=0.956 total time=   0.0s\n",
      "[CV 2/5] END algorithm=kd_tree, leaf_size=28, n_neighbors=4, p=1;, score=0.951 total time=   0.0s\n",
      "[CV 3/5] END algorithm=kd_tree, leaf_size=28, n_neighbors=4, p=1;, score=0.941 total time=   0.0s\n",
      "[CV 4/5] END algorithm=kd_tree, leaf_size=28, n_neighbors=4, p=1;, score=0.947 total time=   0.0s\n",
      "[CV 5/5] END algorithm=kd_tree, leaf_size=28, n_neighbors=4, p=1;, score=0.951 total time=   0.0s\n",
      "[CV 1/5] END algorithm=kd_tree, leaf_size=28, n_neighbors=4, p=2;, score=0.956 total time=   0.0s\n",
      "[CV 2/5] END algorithm=kd_tree, leaf_size=28, n_neighbors=4, p=2;, score=0.955 total time=   0.0s\n",
      "[CV 3/5] END algorithm=kd_tree, leaf_size=28, n_neighbors=4, p=2;, score=0.945 total time=   0.0s\n",
      "[CV 4/5] END algorithm=kd_tree, leaf_size=28, n_neighbors=4, p=2;, score=0.939 total time=   0.0s\n",
      "[CV 5/5] END algorithm=kd_tree, leaf_size=28, n_neighbors=4, p=2;, score=0.949 total time=   0.0s\n",
      "[CV 1/5] END algorithm=kd_tree, leaf_size=28, n_neighbors=5, p=1;, score=0.953 total time=   0.0s\n",
      "[CV 2/5] END algorithm=kd_tree, leaf_size=28, n_neighbors=5, p=1;, score=0.953 total time=   0.0s\n",
      "[CV 3/5] END algorithm=kd_tree, leaf_size=28, n_neighbors=5, p=1;, score=0.943 total time=   0.1s\n",
      "[CV 4/5] END algorithm=kd_tree, leaf_size=28, n_neighbors=5, p=1;, score=0.943 total time=   0.0s\n",
      "[CV 5/5] END algorithm=kd_tree, leaf_size=28, n_neighbors=5, p=1;, score=0.949 total time=   0.1s\n",
      "[CV 1/5] END algorithm=kd_tree, leaf_size=28, n_neighbors=5, p=2;, score=0.956 total time=   0.0s\n",
      "[CV 2/5] END algorithm=kd_tree, leaf_size=28, n_neighbors=5, p=2;, score=0.953 total time=   0.1s\n",
      "[CV 3/5] END algorithm=kd_tree, leaf_size=28, n_neighbors=5, p=2;, score=0.951 total time=   0.0s\n",
      "[CV 4/5] END algorithm=kd_tree, leaf_size=28, n_neighbors=5, p=2;, score=0.941 total time=   0.0s\n",
      "[CV 5/5] END algorithm=kd_tree, leaf_size=28, n_neighbors=5, p=2;, score=0.955 total time=   0.0s\n",
      "[CV 1/5] END algorithm=kd_tree, leaf_size=28, n_neighbors=8, p=1;, score=0.953 total time=   0.1s\n",
      "[CV 2/5] END algorithm=kd_tree, leaf_size=28, n_neighbors=8, p=1;, score=0.951 total time=   0.1s\n",
      "[CV 3/5] END algorithm=kd_tree, leaf_size=28, n_neighbors=8, p=1;, score=0.943 total time=   0.1s\n",
      "[CV 4/5] END algorithm=kd_tree, leaf_size=28, n_neighbors=8, p=1;, score=0.941 total time=   0.1s\n",
      "[CV 5/5] END algorithm=kd_tree, leaf_size=28, n_neighbors=8, p=1;, score=0.947 total time=   0.1s\n",
      "[CV 1/5] END algorithm=kd_tree, leaf_size=28, n_neighbors=8, p=2;, score=0.949 total time=   0.0s\n",
      "[CV 2/5] END algorithm=kd_tree, leaf_size=28, n_neighbors=8, p=2;, score=0.951 total time=   0.0s\n",
      "[CV 3/5] END algorithm=kd_tree, leaf_size=28, n_neighbors=8, p=2;, score=0.947 total time=   0.0s\n",
      "[CV 4/5] END algorithm=kd_tree, leaf_size=28, n_neighbors=8, p=2;, score=0.941 total time=   0.0s\n",
      "[CV 5/5] END algorithm=kd_tree, leaf_size=28, n_neighbors=8, p=2;, score=0.951 total time=   0.0s\n",
      "[CV 1/5] END algorithm=kd_tree, leaf_size=28, n_neighbors=10, p=1;, score=0.947 total time=   0.1s\n",
      "[CV 2/5] END algorithm=kd_tree, leaf_size=28, n_neighbors=10, p=1;, score=0.951 total time=   0.1s\n",
      "[CV 3/5] END algorithm=kd_tree, leaf_size=28, n_neighbors=10, p=1;, score=0.943 total time=   0.1s\n",
      "[CV 4/5] END algorithm=kd_tree, leaf_size=28, n_neighbors=10, p=1;, score=0.939 total time=   0.1s\n",
      "[CV 5/5] END algorithm=kd_tree, leaf_size=28, n_neighbors=10, p=1;, score=0.949 total time=   0.1s\n",
      "[CV 1/5] END algorithm=kd_tree, leaf_size=28, n_neighbors=10, p=2;, score=0.947 total time=   0.1s\n",
      "[CV 2/5] END algorithm=kd_tree, leaf_size=28, n_neighbors=10, p=2;, score=0.951 total time=   0.0s\n",
      "[CV 3/5] END algorithm=kd_tree, leaf_size=28, n_neighbors=10, p=2;, score=0.941 total time=   0.0s\n",
      "[CV 4/5] END algorithm=kd_tree, leaf_size=28, n_neighbors=10, p=2;, score=0.939 total time=   0.0s\n",
      "[CV 5/5] END algorithm=kd_tree, leaf_size=28, n_neighbors=10, p=2;, score=0.949 total time=   0.0s\n",
      "[CV 1/5] END algorithm=kd_tree, leaf_size=28, n_neighbors=11, p=1;, score=0.947 total time=   0.1s\n",
      "[CV 2/5] END algorithm=kd_tree, leaf_size=28, n_neighbors=11, p=1;, score=0.949 total time=   0.1s\n",
      "[CV 3/5] END algorithm=kd_tree, leaf_size=28, n_neighbors=11, p=1;, score=0.936 total time=   0.1s\n",
      "[CV 4/5] END algorithm=kd_tree, leaf_size=28, n_neighbors=11, p=1;, score=0.938 total time=   0.1s\n",
      "[CV 5/5] END algorithm=kd_tree, leaf_size=28, n_neighbors=11, p=1;, score=0.945 total time=   0.1s\n",
      "[CV 1/5] END algorithm=kd_tree, leaf_size=28, n_neighbors=11, p=2;, score=0.945 total time=   0.0s\n",
      "[CV 2/5] END algorithm=kd_tree, leaf_size=28, n_neighbors=11, p=2;, score=0.949 total time=   0.0s\n",
      "[CV 3/5] END algorithm=kd_tree, leaf_size=28, n_neighbors=11, p=2;, score=0.938 total time=   0.0s\n",
      "[CV 4/5] END algorithm=kd_tree, leaf_size=28, n_neighbors=11, p=2;, score=0.939 total time=   0.0s\n",
      "[CV 5/5] END algorithm=kd_tree, leaf_size=28, n_neighbors=11, p=2;, score=0.949 total time=   0.0s\n",
      "[CV 1/5] END algorithm=kd_tree, leaf_size=30, n_neighbors=4, p=1;, score=0.956 total time=   0.0s\n",
      "[CV 2/5] END algorithm=kd_tree, leaf_size=30, n_neighbors=4, p=1;, score=0.951 total time=   0.0s\n",
      "[CV 3/5] END algorithm=kd_tree, leaf_size=30, n_neighbors=4, p=1;, score=0.941 total time=   0.0s\n",
      "[CV 4/5] END algorithm=kd_tree, leaf_size=30, n_neighbors=4, p=1;, score=0.947 total time=   0.0s\n",
      "[CV 5/5] END algorithm=kd_tree, leaf_size=30, n_neighbors=4, p=1;, score=0.951 total time=   0.0s\n",
      "[CV 1/5] END algorithm=kd_tree, leaf_size=30, n_neighbors=4, p=2;, score=0.956 total time=   0.0s\n",
      "[CV 2/5] END algorithm=kd_tree, leaf_size=30, n_neighbors=4, p=2;, score=0.955 total time=   0.0s\n",
      "[CV 3/5] END algorithm=kd_tree, leaf_size=30, n_neighbors=4, p=2;, score=0.945 total time=   0.0s\n",
      "[CV 4/5] END algorithm=kd_tree, leaf_size=30, n_neighbors=4, p=2;, score=0.939 total time=   0.0s\n",
      "[CV 5/5] END algorithm=kd_tree, leaf_size=30, n_neighbors=4, p=2;, score=0.949 total time=   0.0s\n",
      "[CV 1/5] END algorithm=kd_tree, leaf_size=30, n_neighbors=5, p=1;, score=0.953 total time=   0.0s\n",
      "[CV 2/5] END algorithm=kd_tree, leaf_size=30, n_neighbors=5, p=1;, score=0.953 total time=   0.0s\n",
      "[CV 3/5] END algorithm=kd_tree, leaf_size=30, n_neighbors=5, p=1;, score=0.943 total time=   0.0s\n",
      "[CV 4/5] END algorithm=kd_tree, leaf_size=30, n_neighbors=5, p=1;, score=0.943 total time=   0.0s\n",
      "[CV 5/5] END algorithm=kd_tree, leaf_size=30, n_neighbors=5, p=1;, score=0.949 total time=   0.0s\n",
      "[CV 1/5] END algorithm=kd_tree, leaf_size=30, n_neighbors=5, p=2;, score=0.956 total time=   0.0s\n",
      "[CV 2/5] END algorithm=kd_tree, leaf_size=30, n_neighbors=5, p=2;, score=0.953 total time=   0.0s\n",
      "[CV 3/5] END algorithm=kd_tree, leaf_size=30, n_neighbors=5, p=2;, score=0.951 total time=   0.0s\n",
      "[CV 4/5] END algorithm=kd_tree, leaf_size=30, n_neighbors=5, p=2;, score=0.941 total time=   0.0s\n",
      "[CV 5/5] END algorithm=kd_tree, leaf_size=30, n_neighbors=5, p=2;, score=0.955 total time=   0.1s\n",
      "[CV 1/5] END algorithm=kd_tree, leaf_size=30, n_neighbors=8, p=1;, score=0.953 total time=   0.1s\n",
      "[CV 2/5] END algorithm=kd_tree, leaf_size=30, n_neighbors=8, p=1;, score=0.951 total time=   0.1s\n",
      "[CV 3/5] END algorithm=kd_tree, leaf_size=30, n_neighbors=8, p=1;, score=0.943 total time=   0.1s\n",
      "[CV 4/5] END algorithm=kd_tree, leaf_size=30, n_neighbors=8, p=1;, score=0.941 total time=   0.1s\n",
      "[CV 5/5] END algorithm=kd_tree, leaf_size=30, n_neighbors=8, p=1;, score=0.947 total time=   0.1s\n",
      "[CV 1/5] END algorithm=kd_tree, leaf_size=30, n_neighbors=8, p=2;, score=0.949 total time=   0.0s\n",
      "[CV 2/5] END algorithm=kd_tree, leaf_size=30, n_neighbors=8, p=2;, score=0.951 total time=   0.0s\n",
      "[CV 3/5] END algorithm=kd_tree, leaf_size=30, n_neighbors=8, p=2;, score=0.947 total time=   0.0s\n",
      "[CV 4/5] END algorithm=kd_tree, leaf_size=30, n_neighbors=8, p=2;, score=0.941 total time=   0.0s\n",
      "[CV 5/5] END algorithm=kd_tree, leaf_size=30, n_neighbors=8, p=2;, score=0.951 total time=   0.0s\n",
      "[CV 1/5] END algorithm=kd_tree, leaf_size=30, n_neighbors=10, p=1;, score=0.947 total time=   0.1s\n",
      "[CV 2/5] END algorithm=kd_tree, leaf_size=30, n_neighbors=10, p=1;, score=0.951 total time=   0.1s\n",
      "[CV 3/5] END algorithm=kd_tree, leaf_size=30, n_neighbors=10, p=1;, score=0.943 total time=   0.1s\n",
      "[CV 4/5] END algorithm=kd_tree, leaf_size=30, n_neighbors=10, p=1;, score=0.939 total time=   0.1s\n",
      "[CV 5/5] END algorithm=kd_tree, leaf_size=30, n_neighbors=10, p=1;, score=0.949 total time=   0.1s\n",
      "[CV 1/5] END algorithm=kd_tree, leaf_size=30, n_neighbors=10, p=2;, score=0.947 total time=   0.0s\n",
      "[CV 2/5] END algorithm=kd_tree, leaf_size=30, n_neighbors=10, p=2;, score=0.951 total time=   0.0s\n",
      "[CV 3/5] END algorithm=kd_tree, leaf_size=30, n_neighbors=10, p=2;, score=0.941 total time=   0.0s\n",
      "[CV 4/5] END algorithm=kd_tree, leaf_size=30, n_neighbors=10, p=2;, score=0.939 total time=   0.0s\n",
      "[CV 5/5] END algorithm=kd_tree, leaf_size=30, n_neighbors=10, p=2;, score=0.949 total time=   0.0s\n",
      "[CV 1/5] END algorithm=kd_tree, leaf_size=30, n_neighbors=11, p=1;, score=0.947 total time=   0.1s\n",
      "[CV 2/5] END algorithm=kd_tree, leaf_size=30, n_neighbors=11, p=1;, score=0.949 total time=   0.1s\n",
      "[CV 3/5] END algorithm=kd_tree, leaf_size=30, n_neighbors=11, p=1;, score=0.936 total time=   0.1s\n",
      "[CV 4/5] END algorithm=kd_tree, leaf_size=30, n_neighbors=11, p=1;, score=0.938 total time=   0.1s\n",
      "[CV 5/5] END algorithm=kd_tree, leaf_size=30, n_neighbors=11, p=1;, score=0.945 total time=   0.1s\n",
      "[CV 1/5] END algorithm=kd_tree, leaf_size=30, n_neighbors=11, p=2;, score=0.945 total time=   0.0s\n",
      "[CV 2/5] END algorithm=kd_tree, leaf_size=30, n_neighbors=11, p=2;, score=0.949 total time=   0.0s\n",
      "[CV 3/5] END algorithm=kd_tree, leaf_size=30, n_neighbors=11, p=2;, score=0.938 total time=   0.1s\n",
      "[CV 4/5] END algorithm=kd_tree, leaf_size=30, n_neighbors=11, p=2;, score=0.939 total time=   0.0s\n",
      "[CV 5/5] END algorithm=kd_tree, leaf_size=30, n_neighbors=11, p=2;, score=0.949 total time=   0.0s\n",
      "[CV 1/5] END algorithm=kd_tree, leaf_size=35, n_neighbors=4, p=1;, score=0.956 total time=   0.0s\n",
      "[CV 2/5] END algorithm=kd_tree, leaf_size=35, n_neighbors=4, p=1;, score=0.953 total time=   0.0s\n",
      "[CV 3/5] END algorithm=kd_tree, leaf_size=35, n_neighbors=4, p=1;, score=0.941 total time=   0.0s\n",
      "[CV 4/5] END algorithm=kd_tree, leaf_size=35, n_neighbors=4, p=1;, score=0.947 total time=   0.0s\n",
      "[CV 5/5] END algorithm=kd_tree, leaf_size=35, n_neighbors=4, p=1;, score=0.951 total time=   0.0s\n",
      "[CV 1/5] END algorithm=kd_tree, leaf_size=35, n_neighbors=4, p=2;, score=0.956 total time=   0.0s\n",
      "[CV 2/5] END algorithm=kd_tree, leaf_size=35, n_neighbors=4, p=2;, score=0.955 total time=   0.0s\n",
      "[CV 3/5] END algorithm=kd_tree, leaf_size=35, n_neighbors=4, p=2;, score=0.945 total time=   0.0s\n",
      "[CV 4/5] END algorithm=kd_tree, leaf_size=35, n_neighbors=4, p=2;, score=0.939 total time=   0.0s\n",
      "[CV 5/5] END algorithm=kd_tree, leaf_size=35, n_neighbors=4, p=2;, score=0.949 total time=   0.0s\n",
      "[CV 1/5] END algorithm=kd_tree, leaf_size=35, n_neighbors=5, p=1;, score=0.955 total time=   0.0s\n",
      "[CV 2/5] END algorithm=kd_tree, leaf_size=35, n_neighbors=5, p=1;, score=0.955 total time=   0.0s\n",
      "[CV 3/5] END algorithm=kd_tree, leaf_size=35, n_neighbors=5, p=1;, score=0.943 total time=   0.0s\n",
      "[CV 4/5] END algorithm=kd_tree, leaf_size=35, n_neighbors=5, p=1;, score=0.943 total time=   0.0s\n",
      "[CV 5/5] END algorithm=kd_tree, leaf_size=35, n_neighbors=5, p=1;, score=0.949 total time=   0.0s\n",
      "[CV 1/5] END algorithm=kd_tree, leaf_size=35, n_neighbors=5, p=2;, score=0.956 total time=   0.0s\n",
      "[CV 2/5] END algorithm=kd_tree, leaf_size=35, n_neighbors=5, p=2;, score=0.953 total time=   0.0s\n",
      "[CV 3/5] END algorithm=kd_tree, leaf_size=35, n_neighbors=5, p=2;, score=0.951 total time=   0.0s\n",
      "[CV 4/5] END algorithm=kd_tree, leaf_size=35, n_neighbors=5, p=2;, score=0.941 total time=   0.0s\n",
      "[CV 5/5] END algorithm=kd_tree, leaf_size=35, n_neighbors=5, p=2;, score=0.955 total time=   0.0s\n",
      "[CV 1/5] END algorithm=kd_tree, leaf_size=35, n_neighbors=8, p=1;, score=0.953 total time=   0.1s\n",
      "[CV 2/5] END algorithm=kd_tree, leaf_size=35, n_neighbors=8, p=1;, score=0.953 total time=   0.1s\n",
      "[CV 3/5] END algorithm=kd_tree, leaf_size=35, n_neighbors=8, p=1;, score=0.943 total time=   0.1s\n",
      "[CV 4/5] END algorithm=kd_tree, leaf_size=35, n_neighbors=8, p=1;, score=0.941 total time=   0.1s\n",
      "[CV 5/5] END algorithm=kd_tree, leaf_size=35, n_neighbors=8, p=1;, score=0.947 total time=   0.1s\n",
      "[CV 1/5] END algorithm=kd_tree, leaf_size=35, n_neighbors=8, p=2;, score=0.949 total time=   0.0s\n",
      "[CV 2/5] END algorithm=kd_tree, leaf_size=35, n_neighbors=8, p=2;, score=0.951 total time=   0.0s\n",
      "[CV 3/5] END algorithm=kd_tree, leaf_size=35, n_neighbors=8, p=2;, score=0.947 total time=   0.0s\n",
      "[CV 4/5] END algorithm=kd_tree, leaf_size=35, n_neighbors=8, p=2;, score=0.941 total time=   0.0s\n",
      "[CV 5/5] END algorithm=kd_tree, leaf_size=35, n_neighbors=8, p=2;, score=0.951 total time=   0.0s\n",
      "[CV 1/5] END algorithm=kd_tree, leaf_size=35, n_neighbors=10, p=1;, score=0.949 total time=   0.1s\n",
      "[CV 2/5] END algorithm=kd_tree, leaf_size=35, n_neighbors=10, p=1;, score=0.951 total time=   0.1s\n",
      "[CV 3/5] END algorithm=kd_tree, leaf_size=35, n_neighbors=10, p=1;, score=0.941 total time=   0.1s\n",
      "[CV 4/5] END algorithm=kd_tree, leaf_size=35, n_neighbors=10, p=1;, score=0.939 total time=   0.1s\n",
      "[CV 5/5] END algorithm=kd_tree, leaf_size=35, n_neighbors=10, p=1;, score=0.949 total time=   0.1s\n",
      "[CV 1/5] END algorithm=kd_tree, leaf_size=35, n_neighbors=10, p=2;, score=0.947 total time=   0.0s\n",
      "[CV 2/5] END algorithm=kd_tree, leaf_size=35, n_neighbors=10, p=2;, score=0.951 total time=   0.0s\n",
      "[CV 3/5] END algorithm=kd_tree, leaf_size=35, n_neighbors=10, p=2;, score=0.941 total time=   0.0s\n",
      "[CV 4/5] END algorithm=kd_tree, leaf_size=35, n_neighbors=10, p=2;, score=0.939 total time=   0.0s\n",
      "[CV 5/5] END algorithm=kd_tree, leaf_size=35, n_neighbors=10, p=2;, score=0.949 total time=   0.0s\n",
      "[CV 1/5] END algorithm=kd_tree, leaf_size=35, n_neighbors=11, p=1;, score=0.947 total time=   0.1s\n",
      "[CV 2/5] END algorithm=kd_tree, leaf_size=35, n_neighbors=11, p=1;, score=0.949 total time=   0.1s\n",
      "[CV 3/5] END algorithm=kd_tree, leaf_size=35, n_neighbors=11, p=1;, score=0.936 total time=   0.1s\n",
      "[CV 4/5] END algorithm=kd_tree, leaf_size=35, n_neighbors=11, p=1;, score=0.938 total time=   0.1s\n",
      "[CV 5/5] END algorithm=kd_tree, leaf_size=35, n_neighbors=11, p=1;, score=0.945 total time=   0.1s\n",
      "[CV 1/5] END algorithm=kd_tree, leaf_size=35, n_neighbors=11, p=2;, score=0.945 total time=   0.0s\n",
      "[CV 2/5] END algorithm=kd_tree, leaf_size=35, n_neighbors=11, p=2;, score=0.949 total time=   0.0s\n",
      "[CV 3/5] END algorithm=kd_tree, leaf_size=35, n_neighbors=11, p=2;, score=0.938 total time=   0.0s\n",
      "[CV 4/5] END algorithm=kd_tree, leaf_size=35, n_neighbors=11, p=2;, score=0.939 total time=   0.0s\n",
      "[CV 5/5] END algorithm=kd_tree, leaf_size=35, n_neighbors=11, p=2;, score=0.949 total time=   0.0s\n",
      "[CV 1/5] END algorithm=brute, leaf_size=10, n_neighbors=4, p=1;, score=0.958 total time=   0.2s\n",
      "[CV 2/5] END algorithm=brute, leaf_size=10, n_neighbors=4, p=1;, score=0.949 total time=   0.1s\n",
      "[CV 3/5] END algorithm=brute, leaf_size=10, n_neighbors=4, p=1;, score=0.941 total time=   0.1s\n",
      "[CV 4/5] END algorithm=brute, leaf_size=10, n_neighbors=4, p=1;, score=0.943 total time=   0.1s\n",
      "[CV 5/5] END algorithm=brute, leaf_size=10, n_neighbors=4, p=1;, score=0.949 total time=   0.1s\n",
      "[CV 1/5] END algorithm=brute, leaf_size=10, n_neighbors=4, p=2;, score=0.956 total time=   0.1s\n",
      "[CV 2/5] END algorithm=brute, leaf_size=10, n_neighbors=4, p=2;, score=0.955 total time=   0.1s\n",
      "[CV 3/5] END algorithm=brute, leaf_size=10, n_neighbors=4, p=2;, score=0.945 total time=   0.1s\n",
      "[CV 4/5] END algorithm=brute, leaf_size=10, n_neighbors=4, p=2;, score=0.939 total time=   0.1s\n",
      "[CV 5/5] END algorithm=brute, leaf_size=10, n_neighbors=4, p=2;, score=0.947 total time=   0.1s\n",
      "[CV 1/5] END algorithm=brute, leaf_size=10, n_neighbors=5, p=1;, score=0.949 total time=   0.1s\n",
      "[CV 2/5] END algorithm=brute, leaf_size=10, n_neighbors=5, p=1;, score=0.955 total time=   0.1s\n",
      "[CV 3/5] END algorithm=brute, leaf_size=10, n_neighbors=5, p=1;, score=0.943 total time=   0.1s\n",
      "[CV 4/5] END algorithm=brute, leaf_size=10, n_neighbors=5, p=1;, score=0.941 total time=   0.1s\n",
      "[CV 5/5] END algorithm=brute, leaf_size=10, n_neighbors=5, p=1;, score=0.947 total time=   0.1s\n",
      "[CV 1/5] END algorithm=brute, leaf_size=10, n_neighbors=5, p=2;, score=0.955 total time=   0.1s\n",
      "[CV 2/5] END algorithm=brute, leaf_size=10, n_neighbors=5, p=2;, score=0.953 total time=   0.1s\n",
      "[CV 3/5] END algorithm=brute, leaf_size=10, n_neighbors=5, p=2;, score=0.951 total time=   0.1s\n",
      "[CV 4/5] END algorithm=brute, leaf_size=10, n_neighbors=5, p=2;, score=0.941 total time=   0.1s\n",
      "[CV 5/5] END algorithm=brute, leaf_size=10, n_neighbors=5, p=2;, score=0.955 total time=   0.1s\n",
      "[CV 1/5] END algorithm=brute, leaf_size=10, n_neighbors=8, p=1;, score=0.953 total time=   0.1s\n",
      "[CV 2/5] END algorithm=brute, leaf_size=10, n_neighbors=8, p=1;, score=0.951 total time=   0.1s\n",
      "[CV 3/5] END algorithm=brute, leaf_size=10, n_neighbors=8, p=1;, score=0.943 total time=   0.1s\n",
      "[CV 4/5] END algorithm=brute, leaf_size=10, n_neighbors=8, p=1;, score=0.939 total time=   0.1s\n",
      "[CV 5/5] END algorithm=brute, leaf_size=10, n_neighbors=8, p=1;, score=0.947 total time=   0.1s\n",
      "[CV 1/5] END algorithm=brute, leaf_size=10, n_neighbors=8, p=2;, score=0.949 total time=   0.1s\n",
      "[CV 2/5] END algorithm=brute, leaf_size=10, n_neighbors=8, p=2;, score=0.951 total time=   0.1s\n",
      "[CV 3/5] END algorithm=brute, leaf_size=10, n_neighbors=8, p=2;, score=0.947 total time=   0.1s\n",
      "[CV 4/5] END algorithm=brute, leaf_size=10, n_neighbors=8, p=2;, score=0.941 total time=   0.1s\n",
      "[CV 5/5] END algorithm=brute, leaf_size=10, n_neighbors=8, p=2;, score=0.949 total time=   0.1s\n",
      "[CV 1/5] END algorithm=brute, leaf_size=10, n_neighbors=10, p=1;, score=0.947 total time=   0.1s\n",
      "[CV 2/5] END algorithm=brute, leaf_size=10, n_neighbors=10, p=1;, score=0.951 total time=   0.1s\n",
      "[CV 3/5] END algorithm=brute, leaf_size=10, n_neighbors=10, p=1;, score=0.939 total time=   0.1s\n",
      "[CV 4/5] END algorithm=brute, leaf_size=10, n_neighbors=10, p=1;, score=0.939 total time=   0.1s\n",
      "[CV 5/5] END algorithm=brute, leaf_size=10, n_neighbors=10, p=1;, score=0.947 total time=   0.1s\n",
      "[CV 1/5] END algorithm=brute, leaf_size=10, n_neighbors=10, p=2;, score=0.947 total time=   0.1s\n",
      "[CV 2/5] END algorithm=brute, leaf_size=10, n_neighbors=10, p=2;, score=0.951 total time=   0.1s\n",
      "[CV 3/5] END algorithm=brute, leaf_size=10, n_neighbors=10, p=2;, score=0.941 total time=   0.1s\n",
      "[CV 4/5] END algorithm=brute, leaf_size=10, n_neighbors=10, p=2;, score=0.939 total time=   0.1s\n",
      "[CV 5/5] END algorithm=brute, leaf_size=10, n_neighbors=10, p=2;, score=0.949 total time=   0.1s\n",
      "[CV 1/5] END algorithm=brute, leaf_size=10, n_neighbors=11, p=1;, score=0.945 total time=   0.1s\n",
      "[CV 2/5] END algorithm=brute, leaf_size=10, n_neighbors=11, p=1;, score=0.949 total time=   0.1s\n",
      "[CV 3/5] END algorithm=brute, leaf_size=10, n_neighbors=11, p=1;, score=0.934 total time=   0.1s\n",
      "[CV 4/5] END algorithm=brute, leaf_size=10, n_neighbors=11, p=1;, score=0.936 total time=   0.1s\n",
      "[CV 5/5] END algorithm=brute, leaf_size=10, n_neighbors=11, p=1;, score=0.941 total time=   0.1s\n",
      "[CV 1/5] END algorithm=brute, leaf_size=10, n_neighbors=11, p=2;, score=0.945 total time=   0.1s\n",
      "[CV 2/5] END algorithm=brute, leaf_size=10, n_neighbors=11, p=2;, score=0.949 total time=   0.1s\n",
      "[CV 3/5] END algorithm=brute, leaf_size=10, n_neighbors=11, p=2;, score=0.938 total time=   0.1s\n",
      "[CV 4/5] END algorithm=brute, leaf_size=10, n_neighbors=11, p=2;, score=0.939 total time=   0.1s\n",
      "[CV 5/5] END algorithm=brute, leaf_size=10, n_neighbors=11, p=2;, score=0.949 total time=   0.1s\n",
      "[CV 1/5] END algorithm=brute, leaf_size=17, n_neighbors=4, p=1;, score=0.958 total time=   0.1s\n",
      "[CV 2/5] END algorithm=brute, leaf_size=17, n_neighbors=4, p=1;, score=0.949 total time=   0.1s\n",
      "[CV 3/5] END algorithm=brute, leaf_size=17, n_neighbors=4, p=1;, score=0.941 total time=   0.1s\n",
      "[CV 4/5] END algorithm=brute, leaf_size=17, n_neighbors=4, p=1;, score=0.943 total time=   0.1s\n",
      "[CV 5/5] END algorithm=brute, leaf_size=17, n_neighbors=4, p=1;, score=0.949 total time=   0.1s\n",
      "[CV 1/5] END algorithm=brute, leaf_size=17, n_neighbors=4, p=2;, score=0.956 total time=   0.1s\n",
      "[CV 2/5] END algorithm=brute, leaf_size=17, n_neighbors=4, p=2;, score=0.955 total time=   0.1s\n",
      "[CV 3/5] END algorithm=brute, leaf_size=17, n_neighbors=4, p=2;, score=0.945 total time=   0.1s\n",
      "[CV 4/5] END algorithm=brute, leaf_size=17, n_neighbors=4, p=2;, score=0.939 total time=   0.1s\n",
      "[CV 5/5] END algorithm=brute, leaf_size=17, n_neighbors=4, p=2;, score=0.947 total time=   0.1s\n",
      "[CV 1/5] END algorithm=brute, leaf_size=17, n_neighbors=5, p=1;, score=0.949 total time=   0.1s\n",
      "[CV 2/5] END algorithm=brute, leaf_size=17, n_neighbors=5, p=1;, score=0.955 total time=   0.1s\n",
      "[CV 3/5] END algorithm=brute, leaf_size=17, n_neighbors=5, p=1;, score=0.943 total time=   0.1s\n",
      "[CV 4/5] END algorithm=brute, leaf_size=17, n_neighbors=5, p=1;, score=0.941 total time=   0.1s\n",
      "[CV 5/5] END algorithm=brute, leaf_size=17, n_neighbors=5, p=1;, score=0.947 total time=   0.1s\n",
      "[CV 1/5] END algorithm=brute, leaf_size=17, n_neighbors=5, p=2;, score=0.955 total time=   0.1s\n",
      "[CV 2/5] END algorithm=brute, leaf_size=17, n_neighbors=5, p=2;, score=0.953 total time=   0.1s\n",
      "[CV 3/5] END algorithm=brute, leaf_size=17, n_neighbors=5, p=2;, score=0.951 total time=   0.1s\n",
      "[CV 4/5] END algorithm=brute, leaf_size=17, n_neighbors=5, p=2;, score=0.941 total time=   0.1s\n",
      "[CV 5/5] END algorithm=brute, leaf_size=17, n_neighbors=5, p=2;, score=0.955 total time=   0.1s\n",
      "[CV 1/5] END algorithm=brute, leaf_size=17, n_neighbors=8, p=1;, score=0.953 total time=   0.1s\n",
      "[CV 2/5] END algorithm=brute, leaf_size=17, n_neighbors=8, p=1;, score=0.951 total time=   0.1s\n",
      "[CV 3/5] END algorithm=brute, leaf_size=17, n_neighbors=8, p=1;, score=0.943 total time=   0.1s\n",
      "[CV 4/5] END algorithm=brute, leaf_size=17, n_neighbors=8, p=1;, score=0.939 total time=   0.1s\n",
      "[CV 5/5] END algorithm=brute, leaf_size=17, n_neighbors=8, p=1;, score=0.947 total time=   0.1s\n",
      "[CV 1/5] END algorithm=brute, leaf_size=17, n_neighbors=8, p=2;, score=0.949 total time=   0.1s\n",
      "[CV 2/5] END algorithm=brute, leaf_size=17, n_neighbors=8, p=2;, score=0.951 total time=   0.1s\n",
      "[CV 3/5] END algorithm=brute, leaf_size=17, n_neighbors=8, p=2;, score=0.947 total time=   0.1s\n",
      "[CV 4/5] END algorithm=brute, leaf_size=17, n_neighbors=8, p=2;, score=0.941 total time=   0.1s\n",
      "[CV 5/5] END algorithm=brute, leaf_size=17, n_neighbors=8, p=2;, score=0.949 total time=   0.1s\n",
      "[CV 1/5] END algorithm=brute, leaf_size=17, n_neighbors=10, p=1;, score=0.947 total time=   0.1s\n",
      "[CV 2/5] END algorithm=brute, leaf_size=17, n_neighbors=10, p=1;, score=0.951 total time=   0.1s\n",
      "[CV 3/5] END algorithm=brute, leaf_size=17, n_neighbors=10, p=1;, score=0.939 total time=   0.1s\n",
      "[CV 4/5] END algorithm=brute, leaf_size=17, n_neighbors=10, p=1;, score=0.939 total time=   0.1s\n",
      "[CV 5/5] END algorithm=brute, leaf_size=17, n_neighbors=10, p=1;, score=0.947 total time=   0.1s\n",
      "[CV 1/5] END algorithm=brute, leaf_size=17, n_neighbors=10, p=2;, score=0.947 total time=   0.1s\n",
      "[CV 2/5] END algorithm=brute, leaf_size=17, n_neighbors=10, p=2;, score=0.951 total time=   0.1s\n",
      "[CV 3/5] END algorithm=brute, leaf_size=17, n_neighbors=10, p=2;, score=0.941 total time=   0.1s\n",
      "[CV 4/5] END algorithm=brute, leaf_size=17, n_neighbors=10, p=2;, score=0.939 total time=   0.1s\n",
      "[CV 5/5] END algorithm=brute, leaf_size=17, n_neighbors=10, p=2;, score=0.949 total time=   0.1s\n",
      "[CV 1/5] END algorithm=brute, leaf_size=17, n_neighbors=11, p=1;, score=0.945 total time=   0.1s\n",
      "[CV 2/5] END algorithm=brute, leaf_size=17, n_neighbors=11, p=1;, score=0.949 total time=   0.1s\n",
      "[CV 3/5] END algorithm=brute, leaf_size=17, n_neighbors=11, p=1;, score=0.934 total time=   0.1s\n",
      "[CV 4/5] END algorithm=brute, leaf_size=17, n_neighbors=11, p=1;, score=0.936 total time=   0.1s\n",
      "[CV 5/5] END algorithm=brute, leaf_size=17, n_neighbors=11, p=1;, score=0.941 total time=   0.1s\n",
      "[CV 1/5] END algorithm=brute, leaf_size=17, n_neighbors=11, p=2;, score=0.945 total time=   0.1s\n",
      "[CV 2/5] END algorithm=brute, leaf_size=17, n_neighbors=11, p=2;, score=0.949 total time=   0.1s\n",
      "[CV 3/5] END algorithm=brute, leaf_size=17, n_neighbors=11, p=2;, score=0.938 total time=   0.1s\n",
      "[CV 4/5] END algorithm=brute, leaf_size=17, n_neighbors=11, p=2;, score=0.939 total time=   0.1s\n",
      "[CV 5/5] END algorithm=brute, leaf_size=17, n_neighbors=11, p=2;, score=0.949 total time=   0.1s\n",
      "[CV 1/5] END algorithm=brute, leaf_size=24, n_neighbors=4, p=1;, score=0.958 total time=   0.1s\n",
      "[CV 2/5] END algorithm=brute, leaf_size=24, n_neighbors=4, p=1;, score=0.949 total time=   0.1s\n",
      "[CV 3/5] END algorithm=brute, leaf_size=24, n_neighbors=4, p=1;, score=0.941 total time=   0.1s\n",
      "[CV 4/5] END algorithm=brute, leaf_size=24, n_neighbors=4, p=1;, score=0.943 total time=   0.1s\n",
      "[CV 5/5] END algorithm=brute, leaf_size=24, n_neighbors=4, p=1;, score=0.949 total time=   0.1s\n",
      "[CV 1/5] END algorithm=brute, leaf_size=24, n_neighbors=4, p=2;, score=0.956 total time=   0.1s\n",
      "[CV 2/5] END algorithm=brute, leaf_size=24, n_neighbors=4, p=2;, score=0.955 total time=   0.1s\n",
      "[CV 3/5] END algorithm=brute, leaf_size=24, n_neighbors=4, p=2;, score=0.945 total time=   0.1s\n",
      "[CV 4/5] END algorithm=brute, leaf_size=24, n_neighbors=4, p=2;, score=0.939 total time=   0.1s\n",
      "[CV 5/5] END algorithm=brute, leaf_size=24, n_neighbors=4, p=2;, score=0.947 total time=   0.1s\n",
      "[CV 1/5] END algorithm=brute, leaf_size=24, n_neighbors=5, p=1;, score=0.949 total time=   0.1s\n",
      "[CV 2/5] END algorithm=brute, leaf_size=24, n_neighbors=5, p=1;, score=0.955 total time=   0.1s\n",
      "[CV 3/5] END algorithm=brute, leaf_size=24, n_neighbors=5, p=1;, score=0.943 total time=   0.1s\n",
      "[CV 4/5] END algorithm=brute, leaf_size=24, n_neighbors=5, p=1;, score=0.941 total time=   0.1s\n",
      "[CV 5/5] END algorithm=brute, leaf_size=24, n_neighbors=5, p=1;, score=0.947 total time=   0.1s\n",
      "[CV 1/5] END algorithm=brute, leaf_size=24, n_neighbors=5, p=2;, score=0.955 total time=   0.1s\n",
      "[CV 2/5] END algorithm=brute, leaf_size=24, n_neighbors=5, p=2;, score=0.953 total time=   0.1s\n",
      "[CV 3/5] END algorithm=brute, leaf_size=24, n_neighbors=5, p=2;, score=0.951 total time=   0.1s\n",
      "[CV 4/5] END algorithm=brute, leaf_size=24, n_neighbors=5, p=2;, score=0.941 total time=   0.1s\n",
      "[CV 5/5] END algorithm=brute, leaf_size=24, n_neighbors=5, p=2;, score=0.955 total time=   0.1s\n",
      "[CV 1/5] END algorithm=brute, leaf_size=24, n_neighbors=8, p=1;, score=0.953 total time=   0.1s\n",
      "[CV 2/5] END algorithm=brute, leaf_size=24, n_neighbors=8, p=1;, score=0.951 total time=   0.1s\n",
      "[CV 3/5] END algorithm=brute, leaf_size=24, n_neighbors=8, p=1;, score=0.943 total time=   0.1s\n",
      "[CV 4/5] END algorithm=brute, leaf_size=24, n_neighbors=8, p=1;, score=0.939 total time=   0.1s\n",
      "[CV 5/5] END algorithm=brute, leaf_size=24, n_neighbors=8, p=1;, score=0.947 total time=   0.1s\n",
      "[CV 1/5] END algorithm=brute, leaf_size=24, n_neighbors=8, p=2;, score=0.949 total time=   0.1s\n",
      "[CV 2/5] END algorithm=brute, leaf_size=24, n_neighbors=8, p=2;, score=0.951 total time=   0.1s\n",
      "[CV 3/5] END algorithm=brute, leaf_size=24, n_neighbors=8, p=2;, score=0.947 total time=   0.1s\n",
      "[CV 4/5] END algorithm=brute, leaf_size=24, n_neighbors=8, p=2;, score=0.941 total time=   0.1s\n",
      "[CV 5/5] END algorithm=brute, leaf_size=24, n_neighbors=8, p=2;, score=0.949 total time=   0.1s\n",
      "[CV 1/5] END algorithm=brute, leaf_size=24, n_neighbors=10, p=1;, score=0.947 total time=   0.1s\n",
      "[CV 2/5] END algorithm=brute, leaf_size=24, n_neighbors=10, p=1;, score=0.951 total time=   0.1s\n",
      "[CV 3/5] END algorithm=brute, leaf_size=24, n_neighbors=10, p=1;, score=0.939 total time=   0.1s\n",
      "[CV 4/5] END algorithm=brute, leaf_size=24, n_neighbors=10, p=1;, score=0.939 total time=   0.1s\n",
      "[CV 5/5] END algorithm=brute, leaf_size=24, n_neighbors=10, p=1;, score=0.947 total time=   0.1s\n",
      "[CV 1/5] END algorithm=brute, leaf_size=24, n_neighbors=10, p=2;, score=0.947 total time=   0.1s\n",
      "[CV 2/5] END algorithm=brute, leaf_size=24, n_neighbors=10, p=2;, score=0.951 total time=   0.1s\n",
      "[CV 3/5] END algorithm=brute, leaf_size=24, n_neighbors=10, p=2;, score=0.941 total time=   0.1s\n",
      "[CV 4/5] END algorithm=brute, leaf_size=24, n_neighbors=10, p=2;, score=0.939 total time=   0.1s\n",
      "[CV 5/5] END algorithm=brute, leaf_size=24, n_neighbors=10, p=2;, score=0.949 total time=   0.1s\n",
      "[CV 1/5] END algorithm=brute, leaf_size=24, n_neighbors=11, p=1;, score=0.945 total time=   0.1s\n",
      "[CV 2/5] END algorithm=brute, leaf_size=24, n_neighbors=11, p=1;, score=0.949 total time=   0.1s\n",
      "[CV 3/5] END algorithm=brute, leaf_size=24, n_neighbors=11, p=1;, score=0.934 total time=   0.1s\n",
      "[CV 4/5] END algorithm=brute, leaf_size=24, n_neighbors=11, p=1;, score=0.936 total time=   0.1s\n",
      "[CV 5/5] END algorithm=brute, leaf_size=24, n_neighbors=11, p=1;, score=0.941 total time=   0.1s\n",
      "[CV 1/5] END algorithm=brute, leaf_size=24, n_neighbors=11, p=2;, score=0.945 total time=   0.1s\n",
      "[CV 2/5] END algorithm=brute, leaf_size=24, n_neighbors=11, p=2;, score=0.949 total time=   0.1s\n",
      "[CV 3/5] END algorithm=brute, leaf_size=24, n_neighbors=11, p=2;, score=0.938 total time=   0.1s\n",
      "[CV 4/5] END algorithm=brute, leaf_size=24, n_neighbors=11, p=2;, score=0.939 total time=   0.1s\n",
      "[CV 5/5] END algorithm=brute, leaf_size=24, n_neighbors=11, p=2;, score=0.949 total time=   0.1s\n",
      "[CV 1/5] END algorithm=brute, leaf_size=28, n_neighbors=4, p=1;, score=0.958 total time=   0.1s\n",
      "[CV 2/5] END algorithm=brute, leaf_size=28, n_neighbors=4, p=1;, score=0.949 total time=   0.1s\n",
      "[CV 3/5] END algorithm=brute, leaf_size=28, n_neighbors=4, p=1;, score=0.941 total time=   0.1s\n",
      "[CV 4/5] END algorithm=brute, leaf_size=28, n_neighbors=4, p=1;, score=0.943 total time=   0.1s\n",
      "[CV 5/5] END algorithm=brute, leaf_size=28, n_neighbors=4, p=1;, score=0.949 total time=   0.1s\n",
      "[CV 1/5] END algorithm=brute, leaf_size=28, n_neighbors=4, p=2;, score=0.956 total time=   0.1s\n",
      "[CV 2/5] END algorithm=brute, leaf_size=28, n_neighbors=4, p=2;, score=0.955 total time=   0.1s\n",
      "[CV 3/5] END algorithm=brute, leaf_size=28, n_neighbors=4, p=2;, score=0.945 total time=   0.1s\n",
      "[CV 4/5] END algorithm=brute, leaf_size=28, n_neighbors=4, p=2;, score=0.939 total time=   0.1s\n",
      "[CV 5/5] END algorithm=brute, leaf_size=28, n_neighbors=4, p=2;, score=0.947 total time=   0.1s\n",
      "[CV 1/5] END algorithm=brute, leaf_size=28, n_neighbors=5, p=1;, score=0.949 total time=   0.1s\n",
      "[CV 2/5] END algorithm=brute, leaf_size=28, n_neighbors=5, p=1;, score=0.955 total time=   0.1s\n",
      "[CV 3/5] END algorithm=brute, leaf_size=28, n_neighbors=5, p=1;, score=0.943 total time=   0.1s\n",
      "[CV 4/5] END algorithm=brute, leaf_size=28, n_neighbors=5, p=1;, score=0.941 total time=   0.1s\n",
      "[CV 5/5] END algorithm=brute, leaf_size=28, n_neighbors=5, p=1;, score=0.947 total time=   0.1s\n",
      "[CV 1/5] END algorithm=brute, leaf_size=28, n_neighbors=5, p=2;, score=0.955 total time=   0.1s\n",
      "[CV 2/5] END algorithm=brute, leaf_size=28, n_neighbors=5, p=2;, score=0.953 total time=   0.1s\n",
      "[CV 3/5] END algorithm=brute, leaf_size=28, n_neighbors=5, p=2;, score=0.951 total time=   0.1s\n",
      "[CV 4/5] END algorithm=brute, leaf_size=28, n_neighbors=5, p=2;, score=0.941 total time=   0.1s\n",
      "[CV 5/5] END algorithm=brute, leaf_size=28, n_neighbors=5, p=2;, score=0.955 total time=   0.1s\n",
      "[CV 1/5] END algorithm=brute, leaf_size=28, n_neighbors=8, p=1;, score=0.953 total time=   0.1s\n",
      "[CV 2/5] END algorithm=brute, leaf_size=28, n_neighbors=8, p=1;, score=0.951 total time=   0.1s\n",
      "[CV 3/5] END algorithm=brute, leaf_size=28, n_neighbors=8, p=1;, score=0.943 total time=   0.1s\n",
      "[CV 4/5] END algorithm=brute, leaf_size=28, n_neighbors=8, p=1;, score=0.939 total time=   0.1s\n",
      "[CV 5/5] END algorithm=brute, leaf_size=28, n_neighbors=8, p=1;, score=0.947 total time=   0.1s\n",
      "[CV 1/5] END algorithm=brute, leaf_size=28, n_neighbors=8, p=2;, score=0.949 total time=   0.1s\n",
      "[CV 2/5] END algorithm=brute, leaf_size=28, n_neighbors=8, p=2;, score=0.951 total time=   0.1s\n",
      "[CV 3/5] END algorithm=brute, leaf_size=28, n_neighbors=8, p=2;, score=0.947 total time=   0.1s\n",
      "[CV 4/5] END algorithm=brute, leaf_size=28, n_neighbors=8, p=2;, score=0.941 total time=   0.1s\n",
      "[CV 5/5] END algorithm=brute, leaf_size=28, n_neighbors=8, p=2;, score=0.949 total time=   0.1s\n",
      "[CV 1/5] END algorithm=brute, leaf_size=28, n_neighbors=10, p=1;, score=0.947 total time=   0.1s\n",
      "[CV 2/5] END algorithm=brute, leaf_size=28, n_neighbors=10, p=1;, score=0.951 total time=   0.1s\n",
      "[CV 3/5] END algorithm=brute, leaf_size=28, n_neighbors=10, p=1;, score=0.939 total time=   0.1s\n",
      "[CV 4/5] END algorithm=brute, leaf_size=28, n_neighbors=10, p=1;, score=0.939 total time=   0.1s\n",
      "[CV 5/5] END algorithm=brute, leaf_size=28, n_neighbors=10, p=1;, score=0.947 total time=   0.1s\n",
      "[CV 1/5] END algorithm=brute, leaf_size=28, n_neighbors=10, p=2;, score=0.947 total time=   0.1s\n",
      "[CV 2/5] END algorithm=brute, leaf_size=28, n_neighbors=10, p=2;, score=0.951 total time=   0.1s\n",
      "[CV 3/5] END algorithm=brute, leaf_size=28, n_neighbors=10, p=2;, score=0.941 total time=   0.1s\n",
      "[CV 4/5] END algorithm=brute, leaf_size=28, n_neighbors=10, p=2;, score=0.939 total time=   0.1s\n",
      "[CV 5/5] END algorithm=brute, leaf_size=28, n_neighbors=10, p=2;, score=0.949 total time=   0.1s\n",
      "[CV 1/5] END algorithm=brute, leaf_size=28, n_neighbors=11, p=1;, score=0.945 total time=   0.1s\n",
      "[CV 2/5] END algorithm=brute, leaf_size=28, n_neighbors=11, p=1;, score=0.949 total time=   0.1s\n",
      "[CV 3/5] END algorithm=brute, leaf_size=28, n_neighbors=11, p=1;, score=0.934 total time=   0.1s\n",
      "[CV 4/5] END algorithm=brute, leaf_size=28, n_neighbors=11, p=1;, score=0.936 total time=   0.1s\n",
      "[CV 5/5] END algorithm=brute, leaf_size=28, n_neighbors=11, p=1;, score=0.941 total time=   0.1s\n",
      "[CV 1/5] END algorithm=brute, leaf_size=28, n_neighbors=11, p=2;, score=0.945 total time=   0.1s\n",
      "[CV 2/5] END algorithm=brute, leaf_size=28, n_neighbors=11, p=2;, score=0.949 total time=   0.1s\n",
      "[CV 3/5] END algorithm=brute, leaf_size=28, n_neighbors=11, p=2;, score=0.938 total time=   0.1s\n",
      "[CV 4/5] END algorithm=brute, leaf_size=28, n_neighbors=11, p=2;, score=0.939 total time=   0.1s\n",
      "[CV 5/5] END algorithm=brute, leaf_size=28, n_neighbors=11, p=2;, score=0.949 total time=   0.1s\n",
      "[CV 1/5] END algorithm=brute, leaf_size=30, n_neighbors=4, p=1;, score=0.958 total time=   0.1s\n",
      "[CV 2/5] END algorithm=brute, leaf_size=30, n_neighbors=4, p=1;, score=0.949 total time=   0.1s\n",
      "[CV 3/5] END algorithm=brute, leaf_size=30, n_neighbors=4, p=1;, score=0.941 total time=   0.1s\n",
      "[CV 4/5] END algorithm=brute, leaf_size=30, n_neighbors=4, p=1;, score=0.943 total time=   0.1s\n",
      "[CV 5/5] END algorithm=brute, leaf_size=30, n_neighbors=4, p=1;, score=0.949 total time=   0.1s\n",
      "[CV 1/5] END algorithm=brute, leaf_size=30, n_neighbors=4, p=2;, score=0.956 total time=   0.1s\n",
      "[CV 2/5] END algorithm=brute, leaf_size=30, n_neighbors=4, p=2;, score=0.955 total time=   0.1s\n",
      "[CV 3/5] END algorithm=brute, leaf_size=30, n_neighbors=4, p=2;, score=0.945 total time=   0.1s\n",
      "[CV 4/5] END algorithm=brute, leaf_size=30, n_neighbors=4, p=2;, score=0.939 total time=   0.1s\n",
      "[CV 5/5] END algorithm=brute, leaf_size=30, n_neighbors=4, p=2;, score=0.947 total time=   0.1s\n",
      "[CV 1/5] END algorithm=brute, leaf_size=30, n_neighbors=5, p=1;, score=0.949 total time=   0.1s\n",
      "[CV 2/5] END algorithm=brute, leaf_size=30, n_neighbors=5, p=1;, score=0.955 total time=   0.1s\n",
      "[CV 3/5] END algorithm=brute, leaf_size=30, n_neighbors=5, p=1;, score=0.943 total time=   0.1s\n",
      "[CV 4/5] END algorithm=brute, leaf_size=30, n_neighbors=5, p=1;, score=0.941 total time=   0.1s\n",
      "[CV 5/5] END algorithm=brute, leaf_size=30, n_neighbors=5, p=1;, score=0.947 total time=   0.1s\n",
      "[CV 1/5] END algorithm=brute, leaf_size=30, n_neighbors=5, p=2;, score=0.955 total time=   0.1s\n",
      "[CV 2/5] END algorithm=brute, leaf_size=30, n_neighbors=5, p=2;, score=0.953 total time=   0.1s\n",
      "[CV 3/5] END algorithm=brute, leaf_size=30, n_neighbors=5, p=2;, score=0.951 total time=   0.1s\n",
      "[CV 4/5] END algorithm=brute, leaf_size=30, n_neighbors=5, p=2;, score=0.941 total time=   0.1s\n",
      "[CV 5/5] END algorithm=brute, leaf_size=30, n_neighbors=5, p=2;, score=0.955 total time=   0.1s\n",
      "[CV 1/5] END algorithm=brute, leaf_size=30, n_neighbors=8, p=1;, score=0.953 total time=   0.1s\n",
      "[CV 2/5] END algorithm=brute, leaf_size=30, n_neighbors=8, p=1;, score=0.951 total time=   0.1s\n",
      "[CV 3/5] END algorithm=brute, leaf_size=30, n_neighbors=8, p=1;, score=0.943 total time=   0.1s\n",
      "[CV 4/5] END algorithm=brute, leaf_size=30, n_neighbors=8, p=1;, score=0.939 total time=   0.1s\n",
      "[CV 5/5] END algorithm=brute, leaf_size=30, n_neighbors=8, p=1;, score=0.947 total time=   0.1s\n",
      "[CV 1/5] END algorithm=brute, leaf_size=30, n_neighbors=8, p=2;, score=0.949 total time=   0.1s\n",
      "[CV 2/5] END algorithm=brute, leaf_size=30, n_neighbors=8, p=2;, score=0.951 total time=   0.1s\n",
      "[CV 3/5] END algorithm=brute, leaf_size=30, n_neighbors=8, p=2;, score=0.947 total time=   0.1s\n",
      "[CV 4/5] END algorithm=brute, leaf_size=30, n_neighbors=8, p=2;, score=0.941 total time=   0.1s\n",
      "[CV 5/5] END algorithm=brute, leaf_size=30, n_neighbors=8, p=2;, score=0.949 total time=   0.1s\n",
      "[CV 1/5] END algorithm=brute, leaf_size=30, n_neighbors=10, p=1;, score=0.947 total time=   0.1s\n",
      "[CV 2/5] END algorithm=brute, leaf_size=30, n_neighbors=10, p=1;, score=0.951 total time=   0.1s\n",
      "[CV 3/5] END algorithm=brute, leaf_size=30, n_neighbors=10, p=1;, score=0.939 total time=   0.1s\n",
      "[CV 4/5] END algorithm=brute, leaf_size=30, n_neighbors=10, p=1;, score=0.939 total time=   0.1s\n",
      "[CV 5/5] END algorithm=brute, leaf_size=30, n_neighbors=10, p=1;, score=0.947 total time=   0.1s\n",
      "[CV 1/5] END algorithm=brute, leaf_size=30, n_neighbors=10, p=2;, score=0.947 total time=   0.1s\n",
      "[CV 2/5] END algorithm=brute, leaf_size=30, n_neighbors=10, p=2;, score=0.951 total time=   0.1s\n",
      "[CV 3/5] END algorithm=brute, leaf_size=30, n_neighbors=10, p=2;, score=0.941 total time=   0.1s\n",
      "[CV 4/5] END algorithm=brute, leaf_size=30, n_neighbors=10, p=2;, score=0.939 total time=   0.1s\n",
      "[CV 5/5] END algorithm=brute, leaf_size=30, n_neighbors=10, p=2;, score=0.949 total time=   0.1s\n",
      "[CV 1/5] END algorithm=brute, leaf_size=30, n_neighbors=11, p=1;, score=0.945 total time=   0.1s\n",
      "[CV 2/5] END algorithm=brute, leaf_size=30, n_neighbors=11, p=1;, score=0.949 total time=   0.1s\n",
      "[CV 3/5] END algorithm=brute, leaf_size=30, n_neighbors=11, p=1;, score=0.934 total time=   0.1s\n",
      "[CV 4/5] END algorithm=brute, leaf_size=30, n_neighbors=11, p=1;, score=0.936 total time=   0.1s\n",
      "[CV 5/5] END algorithm=brute, leaf_size=30, n_neighbors=11, p=1;, score=0.941 total time=   0.1s\n",
      "[CV 1/5] END algorithm=brute, leaf_size=30, n_neighbors=11, p=2;, score=0.945 total time=   0.1s\n",
      "[CV 2/5] END algorithm=brute, leaf_size=30, n_neighbors=11, p=2;, score=0.949 total time=   0.1s\n",
      "[CV 3/5] END algorithm=brute, leaf_size=30, n_neighbors=11, p=2;, score=0.938 total time=   0.1s\n",
      "[CV 4/5] END algorithm=brute, leaf_size=30, n_neighbors=11, p=2;, score=0.939 total time=   0.1s\n",
      "[CV 5/5] END algorithm=brute, leaf_size=30, n_neighbors=11, p=2;, score=0.949 total time=   0.1s\n",
      "[CV 1/5] END algorithm=brute, leaf_size=35, n_neighbors=4, p=1;, score=0.958 total time=   0.1s\n",
      "[CV 2/5] END algorithm=brute, leaf_size=35, n_neighbors=4, p=1;, score=0.949 total time=   0.1s\n",
      "[CV 3/5] END algorithm=brute, leaf_size=35, n_neighbors=4, p=1;, score=0.941 total time=   0.1s\n",
      "[CV 4/5] END algorithm=brute, leaf_size=35, n_neighbors=4, p=1;, score=0.943 total time=   0.1s\n",
      "[CV 5/5] END algorithm=brute, leaf_size=35, n_neighbors=4, p=1;, score=0.949 total time=   0.1s\n",
      "[CV 1/5] END algorithm=brute, leaf_size=35, n_neighbors=4, p=2;, score=0.956 total time=   0.1s\n",
      "[CV 2/5] END algorithm=brute, leaf_size=35, n_neighbors=4, p=2;, score=0.955 total time=   0.1s\n",
      "[CV 3/5] END algorithm=brute, leaf_size=35, n_neighbors=4, p=2;, score=0.945 total time=   0.1s\n",
      "[CV 4/5] END algorithm=brute, leaf_size=35, n_neighbors=4, p=2;, score=0.939 total time=   0.1s\n",
      "[CV 5/5] END algorithm=brute, leaf_size=35, n_neighbors=4, p=2;, score=0.947 total time=   0.1s\n",
      "[CV 1/5] END algorithm=brute, leaf_size=35, n_neighbors=5, p=1;, score=0.949 total time=   0.1s\n",
      "[CV 2/5] END algorithm=brute, leaf_size=35, n_neighbors=5, p=1;, score=0.955 total time=   0.1s\n",
      "[CV 3/5] END algorithm=brute, leaf_size=35, n_neighbors=5, p=1;, score=0.943 total time=   0.1s\n",
      "[CV 4/5] END algorithm=brute, leaf_size=35, n_neighbors=5, p=1;, score=0.941 total time=   0.1s\n",
      "[CV 5/5] END algorithm=brute, leaf_size=35, n_neighbors=5, p=1;, score=0.947 total time=   0.1s\n",
      "[CV 1/5] END algorithm=brute, leaf_size=35, n_neighbors=5, p=2;, score=0.955 total time=   0.1s\n",
      "[CV 2/5] END algorithm=brute, leaf_size=35, n_neighbors=5, p=2;, score=0.953 total time=   0.1s\n",
      "[CV 3/5] END algorithm=brute, leaf_size=35, n_neighbors=5, p=2;, score=0.951 total time=   0.1s\n",
      "[CV 4/5] END algorithm=brute, leaf_size=35, n_neighbors=5, p=2;, score=0.941 total time=   0.1s\n",
      "[CV 5/5] END algorithm=brute, leaf_size=35, n_neighbors=5, p=2;, score=0.955 total time=   0.1s\n",
      "[CV 1/5] END algorithm=brute, leaf_size=35, n_neighbors=8, p=1;, score=0.953 total time=   0.1s\n",
      "[CV 2/5] END algorithm=brute, leaf_size=35, n_neighbors=8, p=1;, score=0.951 total time=   0.1s\n",
      "[CV 3/5] END algorithm=brute, leaf_size=35, n_neighbors=8, p=1;, score=0.943 total time=   0.1s\n",
      "[CV 4/5] END algorithm=brute, leaf_size=35, n_neighbors=8, p=1;, score=0.939 total time=   0.1s\n",
      "[CV 5/5] END algorithm=brute, leaf_size=35, n_neighbors=8, p=1;, score=0.947 total time=   0.1s\n",
      "[CV 1/5] END algorithm=brute, leaf_size=35, n_neighbors=8, p=2;, score=0.949 total time=   0.1s\n",
      "[CV 2/5] END algorithm=brute, leaf_size=35, n_neighbors=8, p=2;, score=0.951 total time=   0.1s\n",
      "[CV 3/5] END algorithm=brute, leaf_size=35, n_neighbors=8, p=2;, score=0.947 total time=   0.1s\n",
      "[CV 4/5] END algorithm=brute, leaf_size=35, n_neighbors=8, p=2;, score=0.941 total time=   0.1s\n",
      "[CV 5/5] END algorithm=brute, leaf_size=35, n_neighbors=8, p=2;, score=0.949 total time=   0.1s\n",
      "[CV 1/5] END algorithm=brute, leaf_size=35, n_neighbors=10, p=1;, score=0.947 total time=   0.1s\n",
      "[CV 2/5] END algorithm=brute, leaf_size=35, n_neighbors=10, p=1;, score=0.951 total time=   0.1s\n",
      "[CV 3/5] END algorithm=brute, leaf_size=35, n_neighbors=10, p=1;, score=0.939 total time=   0.1s\n",
      "[CV 4/5] END algorithm=brute, leaf_size=35, n_neighbors=10, p=1;, score=0.939 total time=   0.1s\n",
      "[CV 5/5] END algorithm=brute, leaf_size=35, n_neighbors=10, p=1;, score=0.947 total time=   0.1s\n",
      "[CV 1/5] END algorithm=brute, leaf_size=35, n_neighbors=10, p=2;, score=0.947 total time=   0.1s\n",
      "[CV 2/5] END algorithm=brute, leaf_size=35, n_neighbors=10, p=2;, score=0.951 total time=   0.1s\n",
      "[CV 3/5] END algorithm=brute, leaf_size=35, n_neighbors=10, p=2;, score=0.941 total time=   0.1s\n",
      "[CV 4/5] END algorithm=brute, leaf_size=35, n_neighbors=10, p=2;, score=0.939 total time=   0.1s\n",
      "[CV 5/5] END algorithm=brute, leaf_size=35, n_neighbors=10, p=2;, score=0.949 total time=   0.1s\n",
      "[CV 1/5] END algorithm=brute, leaf_size=35, n_neighbors=11, p=1;, score=0.945 total time=   0.1s\n",
      "[CV 2/5] END algorithm=brute, leaf_size=35, n_neighbors=11, p=1;, score=0.949 total time=   0.1s\n",
      "[CV 3/5] END algorithm=brute, leaf_size=35, n_neighbors=11, p=1;, score=0.934 total time=   0.1s\n",
      "[CV 4/5] END algorithm=brute, leaf_size=35, n_neighbors=11, p=1;, score=0.936 total time=   0.1s\n",
      "[CV 5/5] END algorithm=brute, leaf_size=35, n_neighbors=11, p=1;, score=0.941 total time=   0.1s\n",
      "[CV 1/5] END algorithm=brute, leaf_size=35, n_neighbors=11, p=2;, score=0.945 total time=   0.1s\n",
      "[CV 2/5] END algorithm=brute, leaf_size=35, n_neighbors=11, p=2;, score=0.949 total time=   0.1s\n",
      "[CV 3/5] END algorithm=brute, leaf_size=35, n_neighbors=11, p=2;, score=0.938 total time=   0.1s\n",
      "[CV 4/5] END algorithm=brute, leaf_size=35, n_neighbors=11, p=2;, score=0.939 total time=   0.1s\n",
      "[CV 5/5] END algorithm=brute, leaf_size=35, n_neighbors=11, p=2;, score=0.949 total time=   0.1s\n"
     ]
    },
    {
     "data": {
      "text/html": [
       "<style>#sk-container-id-1 {color: black;background-color: white;}#sk-container-id-1 pre{padding: 0;}#sk-container-id-1 div.sk-toggleable {background-color: white;}#sk-container-id-1 label.sk-toggleable__label {cursor: pointer;display: block;width: 100%;margin-bottom: 0;padding: 0.3em;box-sizing: border-box;text-align: center;}#sk-container-id-1 label.sk-toggleable__label-arrow:before {content: \"▸\";float: left;margin-right: 0.25em;color: #696969;}#sk-container-id-1 label.sk-toggleable__label-arrow:hover:before {color: black;}#sk-container-id-1 div.sk-estimator:hover label.sk-toggleable__label-arrow:before {color: black;}#sk-container-id-1 div.sk-toggleable__content {max-height: 0;max-width: 0;overflow: hidden;text-align: left;background-color: #f0f8ff;}#sk-container-id-1 div.sk-toggleable__content pre {margin: 0.2em;color: black;border-radius: 0.25em;background-color: #f0f8ff;}#sk-container-id-1 input.sk-toggleable__control:checked~div.sk-toggleable__content {max-height: 200px;max-width: 100%;overflow: auto;}#sk-container-id-1 input.sk-toggleable__control:checked~label.sk-toggleable__label-arrow:before {content: \"▾\";}#sk-container-id-1 div.sk-estimator input.sk-toggleable__control:checked~label.sk-toggleable__label {background-color: #d4ebff;}#sk-container-id-1 div.sk-label input.sk-toggleable__control:checked~label.sk-toggleable__label {background-color: #d4ebff;}#sk-container-id-1 input.sk-hidden--visually {border: 0;clip: rect(1px 1px 1px 1px);clip: rect(1px, 1px, 1px, 1px);height: 1px;margin: -1px;overflow: hidden;padding: 0;position: absolute;width: 1px;}#sk-container-id-1 div.sk-estimator {font-family: monospace;background-color: #f0f8ff;border: 1px dotted black;border-radius: 0.25em;box-sizing: border-box;margin-bottom: 0.5em;}#sk-container-id-1 div.sk-estimator:hover {background-color: #d4ebff;}#sk-container-id-1 div.sk-parallel-item::after {content: \"\";width: 100%;border-bottom: 1px solid gray;flex-grow: 1;}#sk-container-id-1 div.sk-label:hover label.sk-toggleable__label {background-color: #d4ebff;}#sk-container-id-1 div.sk-serial::before {content: \"\";position: absolute;border-left: 1px solid gray;box-sizing: border-box;top: 0;bottom: 0;left: 50%;z-index: 0;}#sk-container-id-1 div.sk-serial {display: flex;flex-direction: column;align-items: center;background-color: white;padding-right: 0.2em;padding-left: 0.2em;position: relative;}#sk-container-id-1 div.sk-item {position: relative;z-index: 1;}#sk-container-id-1 div.sk-parallel {display: flex;align-items: stretch;justify-content: center;background-color: white;position: relative;}#sk-container-id-1 div.sk-item::before, #sk-container-id-1 div.sk-parallel-item::before {content: \"\";position: absolute;border-left: 1px solid gray;box-sizing: border-box;top: 0;bottom: 0;left: 50%;z-index: -1;}#sk-container-id-1 div.sk-parallel-item {display: flex;flex-direction: column;z-index: 1;position: relative;background-color: white;}#sk-container-id-1 div.sk-parallel-item:first-child::after {align-self: flex-end;width: 50%;}#sk-container-id-1 div.sk-parallel-item:last-child::after {align-self: flex-start;width: 50%;}#sk-container-id-1 div.sk-parallel-item:only-child::after {width: 0;}#sk-container-id-1 div.sk-dashed-wrapped {border: 1px dashed gray;margin: 0 0.4em 0.5em 0.4em;box-sizing: border-box;padding-bottom: 0.4em;background-color: white;}#sk-container-id-1 div.sk-label label {font-family: monospace;font-weight: bold;display: inline-block;line-height: 1.2em;}#sk-container-id-1 div.sk-label-container {text-align: center;}#sk-container-id-1 div.sk-container {/* jupyter's `normalize.less` sets `[hidden] { display: none; }` but bootstrap.min.css set `[hidden] { display: none !important; }` so we also need the `!important` here to be able to override the default hidden behavior on the sphinx rendered scikit-learn.org. See: https://github.com/scikit-learn/scikit-learn/issues/21755 */display: inline-block !important;position: relative;}#sk-container-id-1 div.sk-text-repr-fallback {display: none;}</style><div id=\"sk-container-id-1\" class=\"sk-top-container\"><div class=\"sk-text-repr-fallback\"><pre>GridSearchCV(cv=5, estimator=KNeighborsClassifier(),\n",
       "             param_grid={&#x27;algorithm&#x27;: [&#x27;ball_tree&#x27;, &#x27;kd_tree&#x27;, &#x27;brute&#x27;],\n",
       "                         &#x27;leaf_size&#x27;: [10, 17, 24, 28, 30, 35],\n",
       "                         &#x27;n_neighbors&#x27;: [4, 5, 8, 10, 11], &#x27;p&#x27;: [1, 2]},\n",
       "             verbose=3)</pre><b>In a Jupyter environment, please rerun this cell to show the HTML representation or trust the notebook. <br />On GitHub, the HTML representation is unable to render, please try loading this page with nbviewer.org.</b></div><div class=\"sk-container\" hidden><div class=\"sk-item sk-dashed-wrapped\"><div class=\"sk-label-container\"><div class=\"sk-label sk-toggleable\"><input class=\"sk-toggleable__control sk-hidden--visually\" id=\"sk-estimator-id-1\" type=\"checkbox\" ><label for=\"sk-estimator-id-1\" class=\"sk-toggleable__label sk-toggleable__label-arrow\">GridSearchCV</label><div class=\"sk-toggleable__content\"><pre>GridSearchCV(cv=5, estimator=KNeighborsClassifier(),\n",
       "             param_grid={&#x27;algorithm&#x27;: [&#x27;ball_tree&#x27;, &#x27;kd_tree&#x27;, &#x27;brute&#x27;],\n",
       "                         &#x27;leaf_size&#x27;: [10, 17, 24, 28, 30, 35],\n",
       "                         &#x27;n_neighbors&#x27;: [4, 5, 8, 10, 11], &#x27;p&#x27;: [1, 2]},\n",
       "             verbose=3)</pre></div></div></div><div class=\"sk-parallel\"><div class=\"sk-parallel-item\"><div class=\"sk-item\"><div class=\"sk-label-container\"><div class=\"sk-label sk-toggleable\"><input class=\"sk-toggleable__control sk-hidden--visually\" id=\"sk-estimator-id-2\" type=\"checkbox\" ><label for=\"sk-estimator-id-2\" class=\"sk-toggleable__label sk-toggleable__label-arrow\">estimator: KNeighborsClassifier</label><div class=\"sk-toggleable__content\"><pre>KNeighborsClassifier()</pre></div></div></div><div class=\"sk-serial\"><div class=\"sk-item\"><div class=\"sk-estimator sk-toggleable\"><input class=\"sk-toggleable__control sk-hidden--visually\" id=\"sk-estimator-id-3\" type=\"checkbox\" ><label for=\"sk-estimator-id-3\" class=\"sk-toggleable__label sk-toggleable__label-arrow\">KNeighborsClassifier</label><div class=\"sk-toggleable__content\"><pre>KNeighborsClassifier()</pre></div></div></div></div></div></div></div></div></div></div>"
      ],
      "text/plain": [
       "GridSearchCV(cv=5, estimator=KNeighborsClassifier(),\n",
       "             param_grid={'algorithm': ['ball_tree', 'kd_tree', 'brute'],\n",
       "                         'leaf_size': [10, 17, 24, 28, 30, 35],\n",
       "                         'n_neighbors': [4, 5, 8, 10, 11], 'p': [1, 2]},\n",
       "             verbose=3)"
      ]
     },
     "execution_count": 46,
     "metadata": {},
     "output_type": "execute_result"
    }
   ],
   "source": [
    "grid.fit(X_train,y_train)"
   ]
  },
  {
   "cell_type": "code",
   "execution_count": 47,
   "metadata": {},
   "outputs": [
    {
     "name": "stdout",
     "output_type": "stream",
     "text": [
      "kd_tree\n",
      "10\n",
      "5\n",
      "2\n"
     ]
    }
   ],
   "source": [
    "algorithm = grid.best_params_['algorithm']\n",
    "leaf_size = grid.best_params_['leaf_size']\n",
    "n_neighbors = grid.best_params_['n_neighbors']\n",
    "p  = grid.best_params_['p']\n",
    "print(algorithm)\n",
    "print(leaf_size)\n",
    "print(n_neighbors)\n",
    "print(p)"
   ]
  },
  {
   "cell_type": "code",
   "execution_count": 49,
   "metadata": {},
   "outputs": [
    {
     "data": {
      "text/html": [
       "<style>#sk-container-id-2 {color: black;background-color: white;}#sk-container-id-2 pre{padding: 0;}#sk-container-id-2 div.sk-toggleable {background-color: white;}#sk-container-id-2 label.sk-toggleable__label {cursor: pointer;display: block;width: 100%;margin-bottom: 0;padding: 0.3em;box-sizing: border-box;text-align: center;}#sk-container-id-2 label.sk-toggleable__label-arrow:before {content: \"▸\";float: left;margin-right: 0.25em;color: #696969;}#sk-container-id-2 label.sk-toggleable__label-arrow:hover:before {color: black;}#sk-container-id-2 div.sk-estimator:hover label.sk-toggleable__label-arrow:before {color: black;}#sk-container-id-2 div.sk-toggleable__content {max-height: 0;max-width: 0;overflow: hidden;text-align: left;background-color: #f0f8ff;}#sk-container-id-2 div.sk-toggleable__content pre {margin: 0.2em;color: black;border-radius: 0.25em;background-color: #f0f8ff;}#sk-container-id-2 input.sk-toggleable__control:checked~div.sk-toggleable__content {max-height: 200px;max-width: 100%;overflow: auto;}#sk-container-id-2 input.sk-toggleable__control:checked~label.sk-toggleable__label-arrow:before {content: \"▾\";}#sk-container-id-2 div.sk-estimator input.sk-toggleable__control:checked~label.sk-toggleable__label {background-color: #d4ebff;}#sk-container-id-2 div.sk-label input.sk-toggleable__control:checked~label.sk-toggleable__label {background-color: #d4ebff;}#sk-container-id-2 input.sk-hidden--visually {border: 0;clip: rect(1px 1px 1px 1px);clip: rect(1px, 1px, 1px, 1px);height: 1px;margin: -1px;overflow: hidden;padding: 0;position: absolute;width: 1px;}#sk-container-id-2 div.sk-estimator {font-family: monospace;background-color: #f0f8ff;border: 1px dotted black;border-radius: 0.25em;box-sizing: border-box;margin-bottom: 0.5em;}#sk-container-id-2 div.sk-estimator:hover {background-color: #d4ebff;}#sk-container-id-2 div.sk-parallel-item::after {content: \"\";width: 100%;border-bottom: 1px solid gray;flex-grow: 1;}#sk-container-id-2 div.sk-label:hover label.sk-toggleable__label {background-color: #d4ebff;}#sk-container-id-2 div.sk-serial::before {content: \"\";position: absolute;border-left: 1px solid gray;box-sizing: border-box;top: 0;bottom: 0;left: 50%;z-index: 0;}#sk-container-id-2 div.sk-serial {display: flex;flex-direction: column;align-items: center;background-color: white;padding-right: 0.2em;padding-left: 0.2em;position: relative;}#sk-container-id-2 div.sk-item {position: relative;z-index: 1;}#sk-container-id-2 div.sk-parallel {display: flex;align-items: stretch;justify-content: center;background-color: white;position: relative;}#sk-container-id-2 div.sk-item::before, #sk-container-id-2 div.sk-parallel-item::before {content: \"\";position: absolute;border-left: 1px solid gray;box-sizing: border-box;top: 0;bottom: 0;left: 50%;z-index: -1;}#sk-container-id-2 div.sk-parallel-item {display: flex;flex-direction: column;z-index: 1;position: relative;background-color: white;}#sk-container-id-2 div.sk-parallel-item:first-child::after {align-self: flex-end;width: 50%;}#sk-container-id-2 div.sk-parallel-item:last-child::after {align-self: flex-start;width: 50%;}#sk-container-id-2 div.sk-parallel-item:only-child::after {width: 0;}#sk-container-id-2 div.sk-dashed-wrapped {border: 1px dashed gray;margin: 0 0.4em 0.5em 0.4em;box-sizing: border-box;padding-bottom: 0.4em;background-color: white;}#sk-container-id-2 div.sk-label label {font-family: monospace;font-weight: bold;display: inline-block;line-height: 1.2em;}#sk-container-id-2 div.sk-label-container {text-align: center;}#sk-container-id-2 div.sk-container {/* jupyter's `normalize.less` sets `[hidden] { display: none; }` but bootstrap.min.css set `[hidden] { display: none !important; }` so we also need the `!important` here to be able to override the default hidden behavior on the sphinx rendered scikit-learn.org. See: https://github.com/scikit-learn/scikit-learn/issues/21755 */display: inline-block !important;position: relative;}#sk-container-id-2 div.sk-text-repr-fallback {display: none;}</style><div id=\"sk-container-id-2\" class=\"sk-top-container\"><div class=\"sk-text-repr-fallback\"><pre>KNeighborsClassifier(algorithm=&#x27;kd_tree&#x27;, leaf_size=10, n_jobs=-1)</pre><b>In a Jupyter environment, please rerun this cell to show the HTML representation or trust the notebook. <br />On GitHub, the HTML representation is unable to render, please try loading this page with nbviewer.org.</b></div><div class=\"sk-container\" hidden><div class=\"sk-item\"><div class=\"sk-estimator sk-toggleable\"><input class=\"sk-toggleable__control sk-hidden--visually\" id=\"sk-estimator-id-4\" type=\"checkbox\" checked><label for=\"sk-estimator-id-4\" class=\"sk-toggleable__label sk-toggleable__label-arrow\">KNeighborsClassifier</label><div class=\"sk-toggleable__content\"><pre>KNeighborsClassifier(algorithm=&#x27;kd_tree&#x27;, leaf_size=10, n_jobs=-1)</pre></div></div></div></div></div>"
      ],
      "text/plain": [
       "KNeighborsClassifier(algorithm='kd_tree', leaf_size=10, n_jobs=-1)"
      ]
     },
     "execution_count": 49,
     "metadata": {},
     "output_type": "execute_result"
    }
   ],
   "source": [
    "knn = KNeighborsClassifier(algorithm=\"kd_tree\", leaf_size=10, n_neighbors=5,p=2,n_jobs=-1)\n",
    "knn.fit(X_train,y_train)"
   ]
  },
  {
   "cell_type": "code",
   "execution_count": 50,
   "metadata": {},
   "outputs": [],
   "source": [
    "#Now trying to find the best params for Random classifier\n",
    "rcf = RandomForestClassifier()\n",
    "param_grid = {\"n_estimators\": [10, 50, 100, 130], \"criterion\": ['gini', 'entropy'],\n",
    "                               \"max_depth\": range(2, 4, 1), \"max_features\": ['auto', 'log2']}"
   ]
  },
  {
   "cell_type": "code",
   "execution_count": 53,
   "metadata": {},
   "outputs": [],
   "source": [
    "grid_rcf = GridSearchCV(estimator=rcf, param_grid=param_grid, cv=5, verbose=3)"
   ]
  },
  {
   "cell_type": "code",
   "execution_count": 54,
   "metadata": {},
   "outputs": [
    {
     "name": "stdout",
     "output_type": "stream",
     "text": [
      "Fitting 5 folds for each of 32 candidates, totalling 160 fits\n",
      "[CV 1/5] END criterion=gini, max_depth=2, max_features=auto, n_estimators=10;, score=0.930 total time=   0.0s\n",
      "[CV 2/5] END criterion=gini, max_depth=2, max_features=auto, n_estimators=10;, score=0.932 total time=   0.0s\n",
      "[CV 3/5] END criterion=gini, max_depth=2, max_features=auto, n_estimators=10;, score=0.930 total time=   0.0s\n",
      "[CV 4/5] END criterion=gini, max_depth=2, max_features=auto, n_estimators=10;, score=0.930 total time=   0.0s\n",
      "[CV 5/5] END criterion=gini, max_depth=2, max_features=auto, n_estimators=10;, score=0.936 total time=   0.0s\n"
     ]
    },
    {
     "name": "stderr",
     "output_type": "stream",
     "text": [
      "/config/.local/lib/python3.8/site-packages/sklearn/model_selection/_split.py:700: UserWarning: The least populated class in y has only 2 members, which is less than n_splits=5.\n",
      "  warnings.warn(\n",
      "/config/.local/lib/python3.8/site-packages/sklearn/ensemble/_forest.py:425: FutureWarning: `max_features='auto'` has been deprecated in 1.1 and will be removed in 1.3. To keep the past behaviour, explicitly set `max_features='sqrt'` or remove this parameter as it is also the default value for RandomForestClassifiers and ExtraTreesClassifiers.\n",
      "  warn(\n",
      "/config/.local/lib/python3.8/site-packages/sklearn/ensemble/_forest.py:425: FutureWarning: `max_features='auto'` has been deprecated in 1.1 and will be removed in 1.3. To keep the past behaviour, explicitly set `max_features='sqrt'` or remove this parameter as it is also the default value for RandomForestClassifiers and ExtraTreesClassifiers.\n",
      "  warn(\n",
      "/config/.local/lib/python3.8/site-packages/sklearn/ensemble/_forest.py:425: FutureWarning: `max_features='auto'` has been deprecated in 1.1 and will be removed in 1.3. To keep the past behaviour, explicitly set `max_features='sqrt'` or remove this parameter as it is also the default value for RandomForestClassifiers and ExtraTreesClassifiers.\n",
      "  warn(\n",
      "/config/.local/lib/python3.8/site-packages/sklearn/ensemble/_forest.py:425: FutureWarning: `max_features='auto'` has been deprecated in 1.1 and will be removed in 1.3. To keep the past behaviour, explicitly set `max_features='sqrt'` or remove this parameter as it is also the default value for RandomForestClassifiers and ExtraTreesClassifiers.\n",
      "  warn(\n",
      "/config/.local/lib/python3.8/site-packages/sklearn/ensemble/_forest.py:425: FutureWarning: `max_features='auto'` has been deprecated in 1.1 and will be removed in 1.3. To keep the past behaviour, explicitly set `max_features='sqrt'` or remove this parameter as it is also the default value for RandomForestClassifiers and ExtraTreesClassifiers.\n",
      "  warn(\n",
      "/config/.local/lib/python3.8/site-packages/sklearn/ensemble/_forest.py:425: FutureWarning: `max_features='auto'` has been deprecated in 1.1 and will be removed in 1.3. To keep the past behaviour, explicitly set `max_features='sqrt'` or remove this parameter as it is also the default value for RandomForestClassifiers and ExtraTreesClassifiers.\n",
      "  warn(\n"
     ]
    },
    {
     "name": "stdout",
     "output_type": "stream",
     "text": [
      "[CV 1/5] END criterion=gini, max_depth=2, max_features=auto, n_estimators=50;, score=0.930 total time=   0.1s\n",
      "[CV 2/5] END criterion=gini, max_depth=2, max_features=auto, n_estimators=50;, score=0.936 total time=   0.1s\n"
     ]
    },
    {
     "name": "stderr",
     "output_type": "stream",
     "text": [
      "/config/.local/lib/python3.8/site-packages/sklearn/ensemble/_forest.py:425: FutureWarning: `max_features='auto'` has been deprecated in 1.1 and will be removed in 1.3. To keep the past behaviour, explicitly set `max_features='sqrt'` or remove this parameter as it is also the default value for RandomForestClassifiers and ExtraTreesClassifiers.\n",
      "  warn(\n",
      "/config/.local/lib/python3.8/site-packages/sklearn/ensemble/_forest.py:425: FutureWarning: `max_features='auto'` has been deprecated in 1.1 and will be removed in 1.3. To keep the past behaviour, explicitly set `max_features='sqrt'` or remove this parameter as it is also the default value for RandomForestClassifiers and ExtraTreesClassifiers.\n",
      "  warn(\n"
     ]
    },
    {
     "name": "stdout",
     "output_type": "stream",
     "text": [
      "[CV 3/5] END criterion=gini, max_depth=2, max_features=auto, n_estimators=50;, score=0.920 total time=   0.1s\n",
      "[CV 4/5] END criterion=gini, max_depth=2, max_features=auto, n_estimators=50;, score=0.936 total time=   0.1s\n"
     ]
    },
    {
     "name": "stderr",
     "output_type": "stream",
     "text": [
      "/config/.local/lib/python3.8/site-packages/sklearn/ensemble/_forest.py:425: FutureWarning: `max_features='auto'` has been deprecated in 1.1 and will be removed in 1.3. To keep the past behaviour, explicitly set `max_features='sqrt'` or remove this parameter as it is also the default value for RandomForestClassifiers and ExtraTreesClassifiers.\n",
      "  warn(\n",
      "/config/.local/lib/python3.8/site-packages/sklearn/ensemble/_forest.py:425: FutureWarning: `max_features='auto'` has been deprecated in 1.1 and will be removed in 1.3. To keep the past behaviour, explicitly set `max_features='sqrt'` or remove this parameter as it is also the default value for RandomForestClassifiers and ExtraTreesClassifiers.\n",
      "  warn(\n"
     ]
    },
    {
     "name": "stdout",
     "output_type": "stream",
     "text": [
      "[CV 5/5] END criterion=gini, max_depth=2, max_features=auto, n_estimators=50;, score=0.934 total time=   0.1s\n"
     ]
    },
    {
     "name": "stderr",
     "output_type": "stream",
     "text": [
      "/config/.local/lib/python3.8/site-packages/sklearn/ensemble/_forest.py:425: FutureWarning: `max_features='auto'` has been deprecated in 1.1 and will be removed in 1.3. To keep the past behaviour, explicitly set `max_features='sqrt'` or remove this parameter as it is also the default value for RandomForestClassifiers and ExtraTreesClassifiers.\n",
      "  warn(\n"
     ]
    },
    {
     "name": "stdout",
     "output_type": "stream",
     "text": [
      "[CV 1/5] END criterion=gini, max_depth=2, max_features=auto, n_estimators=100;, score=0.932 total time=   0.2s\n"
     ]
    },
    {
     "name": "stderr",
     "output_type": "stream",
     "text": [
      "/config/.local/lib/python3.8/site-packages/sklearn/ensemble/_forest.py:425: FutureWarning: `max_features='auto'` has been deprecated in 1.1 and will be removed in 1.3. To keep the past behaviour, explicitly set `max_features='sqrt'` or remove this parameter as it is also the default value for RandomForestClassifiers and ExtraTreesClassifiers.\n",
      "  warn(\n"
     ]
    },
    {
     "name": "stdout",
     "output_type": "stream",
     "text": [
      "[CV 2/5] END criterion=gini, max_depth=2, max_features=auto, n_estimators=100;, score=0.936 total time=   0.2s\n"
     ]
    },
    {
     "name": "stderr",
     "output_type": "stream",
     "text": [
      "/config/.local/lib/python3.8/site-packages/sklearn/ensemble/_forest.py:425: FutureWarning: `max_features='auto'` has been deprecated in 1.1 and will be removed in 1.3. To keep the past behaviour, explicitly set `max_features='sqrt'` or remove this parameter as it is also the default value for RandomForestClassifiers and ExtraTreesClassifiers.\n",
      "  warn(\n"
     ]
    },
    {
     "name": "stdout",
     "output_type": "stream",
     "text": [
      "[CV 3/5] END criterion=gini, max_depth=2, max_features=auto, n_estimators=100;, score=0.930 total time=   0.2s\n"
     ]
    },
    {
     "name": "stderr",
     "output_type": "stream",
     "text": [
      "/config/.local/lib/python3.8/site-packages/sklearn/ensemble/_forest.py:425: FutureWarning: `max_features='auto'` has been deprecated in 1.1 and will be removed in 1.3. To keep the past behaviour, explicitly set `max_features='sqrt'` or remove this parameter as it is also the default value for RandomForestClassifiers and ExtraTreesClassifiers.\n",
      "  warn(\n"
     ]
    },
    {
     "name": "stdout",
     "output_type": "stream",
     "text": [
      "[CV 4/5] END criterion=gini, max_depth=2, max_features=auto, n_estimators=100;, score=0.934 total time=   0.2s\n"
     ]
    },
    {
     "name": "stderr",
     "output_type": "stream",
     "text": [
      "/config/.local/lib/python3.8/site-packages/sklearn/ensemble/_forest.py:425: FutureWarning: `max_features='auto'` has been deprecated in 1.1 and will be removed in 1.3. To keep the past behaviour, explicitly set `max_features='sqrt'` or remove this parameter as it is also the default value for RandomForestClassifiers and ExtraTreesClassifiers.\n",
      "  warn(\n"
     ]
    },
    {
     "name": "stdout",
     "output_type": "stream",
     "text": [
      "[CV 5/5] END criterion=gini, max_depth=2, max_features=auto, n_estimators=100;, score=0.930 total time=   0.2s\n"
     ]
    },
    {
     "name": "stderr",
     "output_type": "stream",
     "text": [
      "/config/.local/lib/python3.8/site-packages/sklearn/ensemble/_forest.py:425: FutureWarning: `max_features='auto'` has been deprecated in 1.1 and will be removed in 1.3. To keep the past behaviour, explicitly set `max_features='sqrt'` or remove this parameter as it is also the default value for RandomForestClassifiers and ExtraTreesClassifiers.\n",
      "  warn(\n"
     ]
    },
    {
     "name": "stdout",
     "output_type": "stream",
     "text": [
      "[CV 1/5] END criterion=gini, max_depth=2, max_features=auto, n_estimators=130;, score=0.932 total time=   0.3s\n"
     ]
    },
    {
     "name": "stderr",
     "output_type": "stream",
     "text": [
      "/config/.local/lib/python3.8/site-packages/sklearn/ensemble/_forest.py:425: FutureWarning: `max_features='auto'` has been deprecated in 1.1 and will be removed in 1.3. To keep the past behaviour, explicitly set `max_features='sqrt'` or remove this parameter as it is also the default value for RandomForestClassifiers and ExtraTreesClassifiers.\n",
      "  warn(\n"
     ]
    },
    {
     "name": "stdout",
     "output_type": "stream",
     "text": [
      "[CV 2/5] END criterion=gini, max_depth=2, max_features=auto, n_estimators=130;, score=0.934 total time=   0.3s\n"
     ]
    },
    {
     "name": "stderr",
     "output_type": "stream",
     "text": [
      "/config/.local/lib/python3.8/site-packages/sklearn/ensemble/_forest.py:425: FutureWarning: `max_features='auto'` has been deprecated in 1.1 and will be removed in 1.3. To keep the past behaviour, explicitly set `max_features='sqrt'` or remove this parameter as it is also the default value for RandomForestClassifiers and ExtraTreesClassifiers.\n",
      "  warn(\n"
     ]
    },
    {
     "name": "stdout",
     "output_type": "stream",
     "text": [
      "[CV 3/5] END criterion=gini, max_depth=2, max_features=auto, n_estimators=130;, score=0.926 total time=   0.3s\n"
     ]
    },
    {
     "name": "stderr",
     "output_type": "stream",
     "text": [
      "/config/.local/lib/python3.8/site-packages/sklearn/ensemble/_forest.py:425: FutureWarning: `max_features='auto'` has been deprecated in 1.1 and will be removed in 1.3. To keep the past behaviour, explicitly set `max_features='sqrt'` or remove this parameter as it is also the default value for RandomForestClassifiers and ExtraTreesClassifiers.\n",
      "  warn(\n"
     ]
    },
    {
     "name": "stdout",
     "output_type": "stream",
     "text": [
      "[CV 4/5] END criterion=gini, max_depth=2, max_features=auto, n_estimators=130;, score=0.930 total time=   0.3s\n"
     ]
    },
    {
     "name": "stderr",
     "output_type": "stream",
     "text": [
      "/config/.local/lib/python3.8/site-packages/sklearn/ensemble/_forest.py:425: FutureWarning: `max_features='auto'` has been deprecated in 1.1 and will be removed in 1.3. To keep the past behaviour, explicitly set `max_features='sqrt'` or remove this parameter as it is also the default value for RandomForestClassifiers and ExtraTreesClassifiers.\n",
      "  warn(\n"
     ]
    },
    {
     "name": "stdout",
     "output_type": "stream",
     "text": [
      "[CV 5/5] END criterion=gini, max_depth=2, max_features=auto, n_estimators=130;, score=0.934 total time=   0.3s\n",
      "[CV 1/5] END criterion=gini, max_depth=2, max_features=log2, n_estimators=10;, score=0.930 total time=   0.0s\n",
      "[CV 2/5] END criterion=gini, max_depth=2, max_features=log2, n_estimators=10;, score=0.922 total time=   0.0s\n",
      "[CV 3/5] END criterion=gini, max_depth=2, max_features=log2, n_estimators=10;, score=0.920 total time=   0.0s\n",
      "[CV 4/5] END criterion=gini, max_depth=2, max_features=log2, n_estimators=10;, score=0.930 total time=   0.0s\n",
      "[CV 5/5] END criterion=gini, max_depth=2, max_features=log2, n_estimators=10;, score=0.936 total time=   0.0s\n",
      "[CV 1/5] END criterion=gini, max_depth=2, max_features=log2, n_estimators=50;, score=0.928 total time=   0.1s\n",
      "[CV 2/5] END criterion=gini, max_depth=2, max_features=log2, n_estimators=50;, score=0.934 total time=   0.1s\n",
      "[CV 3/5] END criterion=gini, max_depth=2, max_features=log2, n_estimators=50;, score=0.922 total time=   0.1s\n",
      "[CV 4/5] END criterion=gini, max_depth=2, max_features=log2, n_estimators=50;, score=0.928 total time=   0.1s\n",
      "[CV 5/5] END criterion=gini, max_depth=2, max_features=log2, n_estimators=50;, score=0.936 total time=   0.1s\n",
      "[CV 1/5] END criterion=gini, max_depth=2, max_features=log2, n_estimators=100;, score=0.930 total time=   0.2s\n",
      "[CV 2/5] END criterion=gini, max_depth=2, max_features=log2, n_estimators=100;, score=0.934 total time=   0.2s\n",
      "[CV 3/5] END criterion=gini, max_depth=2, max_features=log2, n_estimators=100;, score=0.922 total time=   0.2s\n",
      "[CV 4/5] END criterion=gini, max_depth=2, max_features=log2, n_estimators=100;, score=0.930 total time=   0.2s\n",
      "[CV 5/5] END criterion=gini, max_depth=2, max_features=log2, n_estimators=100;, score=0.930 total time=   0.2s\n",
      "[CV 1/5] END criterion=gini, max_depth=2, max_features=log2, n_estimators=130;, score=0.928 total time=   0.3s\n",
      "[CV 2/5] END criterion=gini, max_depth=2, max_features=log2, n_estimators=130;, score=0.934 total time=   0.3s\n",
      "[CV 3/5] END criterion=gini, max_depth=2, max_features=log2, n_estimators=130;, score=0.920 total time=   0.3s\n",
      "[CV 4/5] END criterion=gini, max_depth=2, max_features=log2, n_estimators=130;, score=0.920 total time=   0.3s\n",
      "[CV 5/5] END criterion=gini, max_depth=2, max_features=log2, n_estimators=130;, score=0.922 total time=   0.3s\n",
      "[CV 1/5] END criterion=gini, max_depth=3, max_features=auto, n_estimators=10;, score=0.936 total time=   0.0s\n",
      "[CV 2/5] END criterion=gini, max_depth=3, max_features=auto, n_estimators=10;, score=0.936 total time=   0.0s\n",
      "[CV 3/5] END criterion=gini, max_depth=3, max_features=auto, n_estimators=10;, score=0.941 total time=   0.0s\n",
      "[CV 4/5] END criterion=gini, max_depth=3, max_features=auto, n_estimators=10;, score=0.936 total time=   0.0s\n",
      "[CV 5/5] END criterion=gini, max_depth=3, max_features=auto, n_estimators=10;, score=0.938 total time=   0.0s\n"
     ]
    },
    {
     "name": "stderr",
     "output_type": "stream",
     "text": [
      "/config/.local/lib/python3.8/site-packages/sklearn/ensemble/_forest.py:425: FutureWarning: `max_features='auto'` has been deprecated in 1.1 and will be removed in 1.3. To keep the past behaviour, explicitly set `max_features='sqrt'` or remove this parameter as it is also the default value for RandomForestClassifiers and ExtraTreesClassifiers.\n",
      "  warn(\n",
      "/config/.local/lib/python3.8/site-packages/sklearn/ensemble/_forest.py:425: FutureWarning: `max_features='auto'` has been deprecated in 1.1 and will be removed in 1.3. To keep the past behaviour, explicitly set `max_features='sqrt'` or remove this parameter as it is also the default value for RandomForestClassifiers and ExtraTreesClassifiers.\n",
      "  warn(\n",
      "/config/.local/lib/python3.8/site-packages/sklearn/ensemble/_forest.py:425: FutureWarning: `max_features='auto'` has been deprecated in 1.1 and will be removed in 1.3. To keep the past behaviour, explicitly set `max_features='sqrt'` or remove this parameter as it is also the default value for RandomForestClassifiers and ExtraTreesClassifiers.\n",
      "  warn(\n",
      "/config/.local/lib/python3.8/site-packages/sklearn/ensemble/_forest.py:425: FutureWarning: `max_features='auto'` has been deprecated in 1.1 and will be removed in 1.3. To keep the past behaviour, explicitly set `max_features='sqrt'` or remove this parameter as it is also the default value for RandomForestClassifiers and ExtraTreesClassifiers.\n",
      "  warn(\n",
      "/config/.local/lib/python3.8/site-packages/sklearn/ensemble/_forest.py:425: FutureWarning: `max_features='auto'` has been deprecated in 1.1 and will be removed in 1.3. To keep the past behaviour, explicitly set `max_features='sqrt'` or remove this parameter as it is also the default value for RandomForestClassifiers and ExtraTreesClassifiers.\n",
      "  warn(\n",
      "/config/.local/lib/python3.8/site-packages/sklearn/ensemble/_forest.py:425: FutureWarning: `max_features='auto'` has been deprecated in 1.1 and will be removed in 1.3. To keep the past behaviour, explicitly set `max_features='sqrt'` or remove this parameter as it is also the default value for RandomForestClassifiers and ExtraTreesClassifiers.\n",
      "  warn(\n"
     ]
    },
    {
     "name": "stdout",
     "output_type": "stream",
     "text": [
      "[CV 1/5] END criterion=gini, max_depth=3, max_features=auto, n_estimators=50;, score=0.939 total time=   0.1s\n",
      "[CV 2/5] END criterion=gini, max_depth=3, max_features=auto, n_estimators=50;, score=0.936 total time=   0.1s\n"
     ]
    },
    {
     "name": "stderr",
     "output_type": "stream",
     "text": [
      "/config/.local/lib/python3.8/site-packages/sklearn/ensemble/_forest.py:425: FutureWarning: `max_features='auto'` has been deprecated in 1.1 and will be removed in 1.3. To keep the past behaviour, explicitly set `max_features='sqrt'` or remove this parameter as it is also the default value for RandomForestClassifiers and ExtraTreesClassifiers.\n",
      "  warn(\n",
      "/config/.local/lib/python3.8/site-packages/sklearn/ensemble/_forest.py:425: FutureWarning: `max_features='auto'` has been deprecated in 1.1 and will be removed in 1.3. To keep the past behaviour, explicitly set `max_features='sqrt'` or remove this parameter as it is also the default value for RandomForestClassifiers and ExtraTreesClassifiers.\n",
      "  warn(\n"
     ]
    },
    {
     "name": "stdout",
     "output_type": "stream",
     "text": [
      "[CV 3/5] END criterion=gini, max_depth=3, max_features=auto, n_estimators=50;, score=0.932 total time=   0.1s\n",
      "[CV 4/5] END criterion=gini, max_depth=3, max_features=auto, n_estimators=50;, score=0.936 total time=   0.1s\n"
     ]
    },
    {
     "name": "stderr",
     "output_type": "stream",
     "text": [
      "/config/.local/lib/python3.8/site-packages/sklearn/ensemble/_forest.py:425: FutureWarning: `max_features='auto'` has been deprecated in 1.1 and will be removed in 1.3. To keep the past behaviour, explicitly set `max_features='sqrt'` or remove this parameter as it is also the default value for RandomForestClassifiers and ExtraTreesClassifiers.\n",
      "  warn(\n",
      "/config/.local/lib/python3.8/site-packages/sklearn/ensemble/_forest.py:425: FutureWarning: `max_features='auto'` has been deprecated in 1.1 and will be removed in 1.3. To keep the past behaviour, explicitly set `max_features='sqrt'` or remove this parameter as it is also the default value for RandomForestClassifiers and ExtraTreesClassifiers.\n",
      "  warn(\n"
     ]
    },
    {
     "name": "stdout",
     "output_type": "stream",
     "text": [
      "[CV 5/5] END criterion=gini, max_depth=3, max_features=auto, n_estimators=50;, score=0.939 total time=   0.1s\n"
     ]
    },
    {
     "name": "stderr",
     "output_type": "stream",
     "text": [
      "/config/.local/lib/python3.8/site-packages/sklearn/ensemble/_forest.py:425: FutureWarning: `max_features='auto'` has been deprecated in 1.1 and will be removed in 1.3. To keep the past behaviour, explicitly set `max_features='sqrt'` or remove this parameter as it is also the default value for RandomForestClassifiers and ExtraTreesClassifiers.\n",
      "  warn(\n"
     ]
    },
    {
     "name": "stdout",
     "output_type": "stream",
     "text": [
      "[CV 1/5] END criterion=gini, max_depth=3, max_features=auto, n_estimators=100;, score=0.943 total time=   0.2s\n"
     ]
    },
    {
     "name": "stderr",
     "output_type": "stream",
     "text": [
      "/config/.local/lib/python3.8/site-packages/sklearn/ensemble/_forest.py:425: FutureWarning: `max_features='auto'` has been deprecated in 1.1 and will be removed in 1.3. To keep the past behaviour, explicitly set `max_features='sqrt'` or remove this parameter as it is also the default value for RandomForestClassifiers and ExtraTreesClassifiers.\n",
      "  warn(\n"
     ]
    },
    {
     "name": "stdout",
     "output_type": "stream",
     "text": [
      "[CV 2/5] END criterion=gini, max_depth=3, max_features=auto, n_estimators=100;, score=0.936 total time=   0.2s\n"
     ]
    },
    {
     "name": "stderr",
     "output_type": "stream",
     "text": [
      "/config/.local/lib/python3.8/site-packages/sklearn/ensemble/_forest.py:425: FutureWarning: `max_features='auto'` has been deprecated in 1.1 and will be removed in 1.3. To keep the past behaviour, explicitly set `max_features='sqrt'` or remove this parameter as it is also the default value for RandomForestClassifiers and ExtraTreesClassifiers.\n",
      "  warn(\n"
     ]
    },
    {
     "name": "stdout",
     "output_type": "stream",
     "text": [
      "[CV 3/5] END criterion=gini, max_depth=3, max_features=auto, n_estimators=100;, score=0.932 total time=   0.2s\n"
     ]
    },
    {
     "name": "stderr",
     "output_type": "stream",
     "text": [
      "/config/.local/lib/python3.8/site-packages/sklearn/ensemble/_forest.py:425: FutureWarning: `max_features='auto'` has been deprecated in 1.1 and will be removed in 1.3. To keep the past behaviour, explicitly set `max_features='sqrt'` or remove this parameter as it is also the default value for RandomForestClassifiers and ExtraTreesClassifiers.\n",
      "  warn(\n"
     ]
    },
    {
     "name": "stdout",
     "output_type": "stream",
     "text": [
      "[CV 4/5] END criterion=gini, max_depth=3, max_features=auto, n_estimators=100;, score=0.936 total time=   0.2s\n"
     ]
    },
    {
     "name": "stderr",
     "output_type": "stream",
     "text": [
      "/config/.local/lib/python3.8/site-packages/sklearn/ensemble/_forest.py:425: FutureWarning: `max_features='auto'` has been deprecated in 1.1 and will be removed in 1.3. To keep the past behaviour, explicitly set `max_features='sqrt'` or remove this parameter as it is also the default value for RandomForestClassifiers and ExtraTreesClassifiers.\n",
      "  warn(\n"
     ]
    },
    {
     "name": "stdout",
     "output_type": "stream",
     "text": [
      "[CV 5/5] END criterion=gini, max_depth=3, max_features=auto, n_estimators=100;, score=0.939 total time=   0.2s\n"
     ]
    },
    {
     "name": "stderr",
     "output_type": "stream",
     "text": [
      "/config/.local/lib/python3.8/site-packages/sklearn/ensemble/_forest.py:425: FutureWarning: `max_features='auto'` has been deprecated in 1.1 and will be removed in 1.3. To keep the past behaviour, explicitly set `max_features='sqrt'` or remove this parameter as it is also the default value for RandomForestClassifiers and ExtraTreesClassifiers.\n",
      "  warn(\n"
     ]
    },
    {
     "name": "stdout",
     "output_type": "stream",
     "text": [
      "[CV 1/5] END criterion=gini, max_depth=3, max_features=auto, n_estimators=130;, score=0.939 total time=   0.3s\n"
     ]
    },
    {
     "name": "stderr",
     "output_type": "stream",
     "text": [
      "/config/.local/lib/python3.8/site-packages/sklearn/ensemble/_forest.py:425: FutureWarning: `max_features='auto'` has been deprecated in 1.1 and will be removed in 1.3. To keep the past behaviour, explicitly set `max_features='sqrt'` or remove this parameter as it is also the default value for RandomForestClassifiers and ExtraTreesClassifiers.\n",
      "  warn(\n"
     ]
    },
    {
     "name": "stdout",
     "output_type": "stream",
     "text": [
      "[CV 2/5] END criterion=gini, max_depth=3, max_features=auto, n_estimators=130;, score=0.936 total time=   0.3s\n"
     ]
    },
    {
     "name": "stderr",
     "output_type": "stream",
     "text": [
      "/config/.local/lib/python3.8/site-packages/sklearn/ensemble/_forest.py:425: FutureWarning: `max_features='auto'` has been deprecated in 1.1 and will be removed in 1.3. To keep the past behaviour, explicitly set `max_features='sqrt'` or remove this parameter as it is also the default value for RandomForestClassifiers and ExtraTreesClassifiers.\n",
      "  warn(\n"
     ]
    },
    {
     "name": "stdout",
     "output_type": "stream",
     "text": [
      "[CV 3/5] END criterion=gini, max_depth=3, max_features=auto, n_estimators=130;, score=0.932 total time=   0.3s\n"
     ]
    },
    {
     "name": "stderr",
     "output_type": "stream",
     "text": [
      "/config/.local/lib/python3.8/site-packages/sklearn/ensemble/_forest.py:425: FutureWarning: `max_features='auto'` has been deprecated in 1.1 and will be removed in 1.3. To keep the past behaviour, explicitly set `max_features='sqrt'` or remove this parameter as it is also the default value for RandomForestClassifiers and ExtraTreesClassifiers.\n",
      "  warn(\n"
     ]
    },
    {
     "name": "stdout",
     "output_type": "stream",
     "text": [
      "[CV 4/5] END criterion=gini, max_depth=3, max_features=auto, n_estimators=130;, score=0.936 total time=   0.3s\n"
     ]
    },
    {
     "name": "stderr",
     "output_type": "stream",
     "text": [
      "/config/.local/lib/python3.8/site-packages/sklearn/ensemble/_forest.py:425: FutureWarning: `max_features='auto'` has been deprecated in 1.1 and will be removed in 1.3. To keep the past behaviour, explicitly set `max_features='sqrt'` or remove this parameter as it is also the default value for RandomForestClassifiers and ExtraTreesClassifiers.\n",
      "  warn(\n"
     ]
    },
    {
     "name": "stdout",
     "output_type": "stream",
     "text": [
      "[CV 5/5] END criterion=gini, max_depth=3, max_features=auto, n_estimators=130;, score=0.938 total time=   0.3s\n",
      "[CV 1/5] END criterion=gini, max_depth=3, max_features=log2, n_estimators=10;, score=0.934 total time=   0.0s\n",
      "[CV 2/5] END criterion=gini, max_depth=3, max_features=log2, n_estimators=10;, score=0.928 total time=   0.0s\n",
      "[CV 3/5] END criterion=gini, max_depth=3, max_features=log2, n_estimators=10;, score=0.934 total time=   0.0s\n",
      "[CV 4/5] END criterion=gini, max_depth=3, max_features=log2, n_estimators=10;, score=0.932 total time=   0.0s\n",
      "[CV 5/5] END criterion=gini, max_depth=3, max_features=log2, n_estimators=10;, score=0.920 total time=   0.0s\n",
      "[CV 1/5] END criterion=gini, max_depth=3, max_features=log2, n_estimators=50;, score=0.934 total time=   0.1s\n",
      "[CV 2/5] END criterion=gini, max_depth=3, max_features=log2, n_estimators=50;, score=0.934 total time=   0.1s\n",
      "[CV 3/5] END criterion=gini, max_depth=3, max_features=log2, n_estimators=50;, score=0.932 total time=   0.1s\n",
      "[CV 4/5] END criterion=gini, max_depth=3, max_features=log2, n_estimators=50;, score=0.936 total time=   0.1s\n",
      "[CV 5/5] END criterion=gini, max_depth=3, max_features=log2, n_estimators=50;, score=0.936 total time=   0.1s\n",
      "[CV 1/5] END criterion=gini, max_depth=3, max_features=log2, n_estimators=100;, score=0.936 total time=   0.2s\n",
      "[CV 2/5] END criterion=gini, max_depth=3, max_features=log2, n_estimators=100;, score=0.934 total time=   0.2s\n",
      "[CV 3/5] END criterion=gini, max_depth=3, max_features=log2, n_estimators=100;, score=0.932 total time=   0.2s\n",
      "[CV 4/5] END criterion=gini, max_depth=3, max_features=log2, n_estimators=100;, score=0.936 total time=   0.2s\n",
      "[CV 5/5] END criterion=gini, max_depth=3, max_features=log2, n_estimators=100;, score=0.936 total time=   0.2s\n",
      "[CV 1/5] END criterion=gini, max_depth=3, max_features=log2, n_estimators=130;, score=0.936 total time=   0.3s\n",
      "[CV 2/5] END criterion=gini, max_depth=3, max_features=log2, n_estimators=130;, score=0.934 total time=   0.3s\n",
      "[CV 3/5] END criterion=gini, max_depth=3, max_features=log2, n_estimators=130;, score=0.930 total time=   0.3s\n",
      "[CV 4/5] END criterion=gini, max_depth=3, max_features=log2, n_estimators=130;, score=0.936 total time=   0.3s\n",
      "[CV 5/5] END criterion=gini, max_depth=3, max_features=log2, n_estimators=130;, score=0.936 total time=   0.3s\n",
      "[CV 1/5] END criterion=entropy, max_depth=2, max_features=auto, n_estimators=10;, score=0.926 total time=   0.0s\n",
      "[CV 2/5] END criterion=entropy, max_depth=2, max_features=auto, n_estimators=10;, score=0.934 total time=   0.0s\n",
      "[CV 3/5] END criterion=entropy, max_depth=2, max_features=auto, n_estimators=10;, score=0.920 total time=   0.0s\n",
      "[CV 4/5] END criterion=entropy, max_depth=2, max_features=auto, n_estimators=10;, score=0.938 total time=   0.0s\n",
      "[CV 5/5] END criterion=entropy, max_depth=2, max_features=auto, n_estimators=10;, score=0.930 total time=   0.0s\n"
     ]
    },
    {
     "name": "stderr",
     "output_type": "stream",
     "text": [
      "/config/.local/lib/python3.8/site-packages/sklearn/ensemble/_forest.py:425: FutureWarning: `max_features='auto'` has been deprecated in 1.1 and will be removed in 1.3. To keep the past behaviour, explicitly set `max_features='sqrt'` or remove this parameter as it is also the default value for RandomForestClassifiers and ExtraTreesClassifiers.\n",
      "  warn(\n",
      "/config/.local/lib/python3.8/site-packages/sklearn/ensemble/_forest.py:425: FutureWarning: `max_features='auto'` has been deprecated in 1.1 and will be removed in 1.3. To keep the past behaviour, explicitly set `max_features='sqrt'` or remove this parameter as it is also the default value for RandomForestClassifiers and ExtraTreesClassifiers.\n",
      "  warn(\n",
      "/config/.local/lib/python3.8/site-packages/sklearn/ensemble/_forest.py:425: FutureWarning: `max_features='auto'` has been deprecated in 1.1 and will be removed in 1.3. To keep the past behaviour, explicitly set `max_features='sqrt'` or remove this parameter as it is also the default value for RandomForestClassifiers and ExtraTreesClassifiers.\n",
      "  warn(\n",
      "/config/.local/lib/python3.8/site-packages/sklearn/ensemble/_forest.py:425: FutureWarning: `max_features='auto'` has been deprecated in 1.1 and will be removed in 1.3. To keep the past behaviour, explicitly set `max_features='sqrt'` or remove this parameter as it is also the default value for RandomForestClassifiers and ExtraTreesClassifiers.\n",
      "  warn(\n",
      "/config/.local/lib/python3.8/site-packages/sklearn/ensemble/_forest.py:425: FutureWarning: `max_features='auto'` has been deprecated in 1.1 and will be removed in 1.3. To keep the past behaviour, explicitly set `max_features='sqrt'` or remove this parameter as it is also the default value for RandomForestClassifiers and ExtraTreesClassifiers.\n",
      "  warn(\n",
      "/config/.local/lib/python3.8/site-packages/sklearn/ensemble/_forest.py:425: FutureWarning: `max_features='auto'` has been deprecated in 1.1 and will be removed in 1.3. To keep the past behaviour, explicitly set `max_features='sqrt'` or remove this parameter as it is also the default value for RandomForestClassifiers and ExtraTreesClassifiers.\n",
      "  warn(\n"
     ]
    },
    {
     "name": "stdout",
     "output_type": "stream",
     "text": [
      "[CV 1/5] END criterion=entropy, max_depth=2, max_features=auto, n_estimators=50;, score=0.930 total time=   0.1s\n",
      "[CV 2/5] END criterion=entropy, max_depth=2, max_features=auto, n_estimators=50;, score=0.932 total time=   0.1s\n"
     ]
    },
    {
     "name": "stderr",
     "output_type": "stream",
     "text": [
      "/config/.local/lib/python3.8/site-packages/sklearn/ensemble/_forest.py:425: FutureWarning: `max_features='auto'` has been deprecated in 1.1 and will be removed in 1.3. To keep the past behaviour, explicitly set `max_features='sqrt'` or remove this parameter as it is also the default value for RandomForestClassifiers and ExtraTreesClassifiers.\n",
      "  warn(\n",
      "/config/.local/lib/python3.8/site-packages/sklearn/ensemble/_forest.py:425: FutureWarning: `max_features='auto'` has been deprecated in 1.1 and will be removed in 1.3. To keep the past behaviour, explicitly set `max_features='sqrt'` or remove this parameter as it is also the default value for RandomForestClassifiers and ExtraTreesClassifiers.\n",
      "  warn(\n"
     ]
    },
    {
     "name": "stdout",
     "output_type": "stream",
     "text": [
      "[CV 3/5] END criterion=entropy, max_depth=2, max_features=auto, n_estimators=50;, score=0.926 total time=   0.1s\n",
      "[CV 4/5] END criterion=entropy, max_depth=2, max_features=auto, n_estimators=50;, score=0.930 total time=   0.1s\n"
     ]
    },
    {
     "name": "stderr",
     "output_type": "stream",
     "text": [
      "/config/.local/lib/python3.8/site-packages/sklearn/ensemble/_forest.py:425: FutureWarning: `max_features='auto'` has been deprecated in 1.1 and will be removed in 1.3. To keep the past behaviour, explicitly set `max_features='sqrt'` or remove this parameter as it is also the default value for RandomForestClassifiers and ExtraTreesClassifiers.\n",
      "  warn(\n",
      "/config/.local/lib/python3.8/site-packages/sklearn/ensemble/_forest.py:425: FutureWarning: `max_features='auto'` has been deprecated in 1.1 and will be removed in 1.3. To keep the past behaviour, explicitly set `max_features='sqrt'` or remove this parameter as it is also the default value for RandomForestClassifiers and ExtraTreesClassifiers.\n",
      "  warn(\n"
     ]
    },
    {
     "name": "stdout",
     "output_type": "stream",
     "text": [
      "[CV 5/5] END criterion=entropy, max_depth=2, max_features=auto, n_estimators=50;, score=0.932 total time=   0.1s\n"
     ]
    },
    {
     "name": "stderr",
     "output_type": "stream",
     "text": [
      "/config/.local/lib/python3.8/site-packages/sklearn/ensemble/_forest.py:425: FutureWarning: `max_features='auto'` has been deprecated in 1.1 and will be removed in 1.3. To keep the past behaviour, explicitly set `max_features='sqrt'` or remove this parameter as it is also the default value for RandomForestClassifiers and ExtraTreesClassifiers.\n",
      "  warn(\n"
     ]
    },
    {
     "name": "stdout",
     "output_type": "stream",
     "text": [
      "[CV 1/5] END criterion=entropy, max_depth=2, max_features=auto, n_estimators=100;, score=0.930 total time=   0.2s\n"
     ]
    },
    {
     "name": "stderr",
     "output_type": "stream",
     "text": [
      "/config/.local/lib/python3.8/site-packages/sklearn/ensemble/_forest.py:425: FutureWarning: `max_features='auto'` has been deprecated in 1.1 and will be removed in 1.3. To keep the past behaviour, explicitly set `max_features='sqrt'` or remove this parameter as it is also the default value for RandomForestClassifiers and ExtraTreesClassifiers.\n",
      "  warn(\n"
     ]
    },
    {
     "name": "stdout",
     "output_type": "stream",
     "text": [
      "[CV 2/5] END criterion=entropy, max_depth=2, max_features=auto, n_estimators=100;, score=0.930 total time=   0.2s\n"
     ]
    },
    {
     "name": "stderr",
     "output_type": "stream",
     "text": [
      "/config/.local/lib/python3.8/site-packages/sklearn/ensemble/_forest.py:425: FutureWarning: `max_features='auto'` has been deprecated in 1.1 and will be removed in 1.3. To keep the past behaviour, explicitly set `max_features='sqrt'` or remove this parameter as it is also the default value for RandomForestClassifiers and ExtraTreesClassifiers.\n",
      "  warn(\n"
     ]
    },
    {
     "name": "stdout",
     "output_type": "stream",
     "text": [
      "[CV 3/5] END criterion=entropy, max_depth=2, max_features=auto, n_estimators=100;, score=0.930 total time=   0.2s\n"
     ]
    },
    {
     "name": "stderr",
     "output_type": "stream",
     "text": [
      "/config/.local/lib/python3.8/site-packages/sklearn/ensemble/_forest.py:425: FutureWarning: `max_features='auto'` has been deprecated in 1.1 and will be removed in 1.3. To keep the past behaviour, explicitly set `max_features='sqrt'` or remove this parameter as it is also the default value for RandomForestClassifiers and ExtraTreesClassifiers.\n",
      "  warn(\n"
     ]
    },
    {
     "name": "stdout",
     "output_type": "stream",
     "text": [
      "[CV 4/5] END criterion=entropy, max_depth=2, max_features=auto, n_estimators=100;, score=0.930 total time=   0.2s\n"
     ]
    },
    {
     "name": "stderr",
     "output_type": "stream",
     "text": [
      "/config/.local/lib/python3.8/site-packages/sklearn/ensemble/_forest.py:425: FutureWarning: `max_features='auto'` has been deprecated in 1.1 and will be removed in 1.3. To keep the past behaviour, explicitly set `max_features='sqrt'` or remove this parameter as it is also the default value for RandomForestClassifiers and ExtraTreesClassifiers.\n",
      "  warn(\n"
     ]
    },
    {
     "name": "stdout",
     "output_type": "stream",
     "text": [
      "[CV 5/5] END criterion=entropy, max_depth=2, max_features=auto, n_estimators=100;, score=0.932 total time=   0.2s\n"
     ]
    },
    {
     "name": "stderr",
     "output_type": "stream",
     "text": [
      "/config/.local/lib/python3.8/site-packages/sklearn/ensemble/_forest.py:425: FutureWarning: `max_features='auto'` has been deprecated in 1.1 and will be removed in 1.3. To keep the past behaviour, explicitly set `max_features='sqrt'` or remove this parameter as it is also the default value for RandomForestClassifiers and ExtraTreesClassifiers.\n",
      "  warn(\n"
     ]
    },
    {
     "name": "stdout",
     "output_type": "stream",
     "text": [
      "[CV 1/5] END criterion=entropy, max_depth=2, max_features=auto, n_estimators=130;, score=0.932 total time=   0.3s\n"
     ]
    },
    {
     "name": "stderr",
     "output_type": "stream",
     "text": [
      "/config/.local/lib/python3.8/site-packages/sklearn/ensemble/_forest.py:425: FutureWarning: `max_features='auto'` has been deprecated in 1.1 and will be removed in 1.3. To keep the past behaviour, explicitly set `max_features='sqrt'` or remove this parameter as it is also the default value for RandomForestClassifiers and ExtraTreesClassifiers.\n",
      "  warn(\n"
     ]
    },
    {
     "name": "stdout",
     "output_type": "stream",
     "text": [
      "[CV 2/5] END criterion=entropy, max_depth=2, max_features=auto, n_estimators=130;, score=0.934 total time=   0.3s\n"
     ]
    },
    {
     "name": "stderr",
     "output_type": "stream",
     "text": [
      "/config/.local/lib/python3.8/site-packages/sklearn/ensemble/_forest.py:425: FutureWarning: `max_features='auto'` has been deprecated in 1.1 and will be removed in 1.3. To keep the past behaviour, explicitly set `max_features='sqrt'` or remove this parameter as it is also the default value for RandomForestClassifiers and ExtraTreesClassifiers.\n",
      "  warn(\n"
     ]
    },
    {
     "name": "stdout",
     "output_type": "stream",
     "text": [
      "[CV 3/5] END criterion=entropy, max_depth=2, max_features=auto, n_estimators=130;, score=0.932 total time=   0.3s\n"
     ]
    },
    {
     "name": "stderr",
     "output_type": "stream",
     "text": [
      "/config/.local/lib/python3.8/site-packages/sklearn/ensemble/_forest.py:425: FutureWarning: `max_features='auto'` has been deprecated in 1.1 and will be removed in 1.3. To keep the past behaviour, explicitly set `max_features='sqrt'` or remove this parameter as it is also the default value for RandomForestClassifiers and ExtraTreesClassifiers.\n",
      "  warn(\n"
     ]
    },
    {
     "name": "stdout",
     "output_type": "stream",
     "text": [
      "[CV 4/5] END criterion=entropy, max_depth=2, max_features=auto, n_estimators=130;, score=0.934 total time=   0.3s\n"
     ]
    },
    {
     "name": "stderr",
     "output_type": "stream",
     "text": [
      "/config/.local/lib/python3.8/site-packages/sklearn/ensemble/_forest.py:425: FutureWarning: `max_features='auto'` has been deprecated in 1.1 and will be removed in 1.3. To keep the past behaviour, explicitly set `max_features='sqrt'` or remove this parameter as it is also the default value for RandomForestClassifiers and ExtraTreesClassifiers.\n",
      "  warn(\n"
     ]
    },
    {
     "name": "stdout",
     "output_type": "stream",
     "text": [
      "[CV 5/5] END criterion=entropy, max_depth=2, max_features=auto, n_estimators=130;, score=0.936 total time=   0.3s\n",
      "[CV 1/5] END criterion=entropy, max_depth=2, max_features=log2, n_estimators=10;, score=0.938 total time=   0.0s\n",
      "[CV 2/5] END criterion=entropy, max_depth=2, max_features=log2, n_estimators=10;, score=0.922 total time=   0.0s\n",
      "[CV 3/5] END criterion=entropy, max_depth=2, max_features=log2, n_estimators=10;, score=0.928 total time=   0.0s\n",
      "[CV 4/5] END criterion=entropy, max_depth=2, max_features=log2, n_estimators=10;, score=0.930 total time=   0.0s\n",
      "[CV 5/5] END criterion=entropy, max_depth=2, max_features=log2, n_estimators=10;, score=0.920 total time=   0.0s\n",
      "[CV 1/5] END criterion=entropy, max_depth=2, max_features=log2, n_estimators=50;, score=0.922 total time=   0.1s\n",
      "[CV 2/5] END criterion=entropy, max_depth=2, max_features=log2, n_estimators=50;, score=0.922 total time=   0.1s\n",
      "[CV 3/5] END criterion=entropy, max_depth=2, max_features=log2, n_estimators=50;, score=0.920 total time=   0.1s\n",
      "[CV 4/5] END criterion=entropy, max_depth=2, max_features=log2, n_estimators=50;, score=0.920 total time=   0.1s\n",
      "[CV 5/5] END criterion=entropy, max_depth=2, max_features=log2, n_estimators=50;, score=0.920 total time=   0.1s\n",
      "[CV 1/5] END criterion=entropy, max_depth=2, max_features=log2, n_estimators=100;, score=0.922 total time=   0.2s\n",
      "[CV 2/5] END criterion=entropy, max_depth=2, max_features=log2, n_estimators=100;, score=0.922 total time=   0.2s\n",
      "[CV 3/5] END criterion=entropy, max_depth=2, max_features=log2, n_estimators=100;, score=0.920 total time=   0.2s\n",
      "[CV 4/5] END criterion=entropy, max_depth=2, max_features=log2, n_estimators=100;, score=0.922 total time=   0.2s\n",
      "[CV 5/5] END criterion=entropy, max_depth=2, max_features=log2, n_estimators=100;, score=0.920 total time=   0.2s\n",
      "[CV 1/5] END criterion=entropy, max_depth=2, max_features=log2, n_estimators=130;, score=0.922 total time=   0.3s\n",
      "[CV 2/5] END criterion=entropy, max_depth=2, max_features=log2, n_estimators=130;, score=0.922 total time=   0.3s\n",
      "[CV 3/5] END criterion=entropy, max_depth=2, max_features=log2, n_estimators=130;, score=0.920 total time=   0.3s\n",
      "[CV 4/5] END criterion=entropy, max_depth=2, max_features=log2, n_estimators=130;, score=0.930 total time=   0.3s\n",
      "[CV 5/5] END criterion=entropy, max_depth=2, max_features=log2, n_estimators=130;, score=0.928 total time=   0.3s\n",
      "[CV 1/5] END criterion=entropy, max_depth=3, max_features=auto, n_estimators=10;, score=0.943 total time=   0.0s\n",
      "[CV 2/5] END criterion=entropy, max_depth=3, max_features=auto, n_estimators=10;, score=0.924 total time=   0.0s\n",
      "[CV 3/5] END criterion=entropy, max_depth=3, max_features=auto, n_estimators=10;, score=0.936 total time=   0.0s\n",
      "[CV 4/5] END criterion=entropy, max_depth=3, max_features=auto, n_estimators=10;, score=0.947 total time=   0.0s\n",
      "[CV 5/5] END criterion=entropy, max_depth=3, max_features=auto, n_estimators=10;, score=0.939 total time=   0.0s\n"
     ]
    },
    {
     "name": "stderr",
     "output_type": "stream",
     "text": [
      "/config/.local/lib/python3.8/site-packages/sklearn/ensemble/_forest.py:425: FutureWarning: `max_features='auto'` has been deprecated in 1.1 and will be removed in 1.3. To keep the past behaviour, explicitly set `max_features='sqrt'` or remove this parameter as it is also the default value for RandomForestClassifiers and ExtraTreesClassifiers.\n",
      "  warn(\n",
      "/config/.local/lib/python3.8/site-packages/sklearn/ensemble/_forest.py:425: FutureWarning: `max_features='auto'` has been deprecated in 1.1 and will be removed in 1.3. To keep the past behaviour, explicitly set `max_features='sqrt'` or remove this parameter as it is also the default value for RandomForestClassifiers and ExtraTreesClassifiers.\n",
      "  warn(\n",
      "/config/.local/lib/python3.8/site-packages/sklearn/ensemble/_forest.py:425: FutureWarning: `max_features='auto'` has been deprecated in 1.1 and will be removed in 1.3. To keep the past behaviour, explicitly set `max_features='sqrt'` or remove this parameter as it is also the default value for RandomForestClassifiers and ExtraTreesClassifiers.\n",
      "  warn(\n",
      "/config/.local/lib/python3.8/site-packages/sklearn/ensemble/_forest.py:425: FutureWarning: `max_features='auto'` has been deprecated in 1.1 and will be removed in 1.3. To keep the past behaviour, explicitly set `max_features='sqrt'` or remove this parameter as it is also the default value for RandomForestClassifiers and ExtraTreesClassifiers.\n",
      "  warn(\n",
      "/config/.local/lib/python3.8/site-packages/sklearn/ensemble/_forest.py:425: FutureWarning: `max_features='auto'` has been deprecated in 1.1 and will be removed in 1.3. To keep the past behaviour, explicitly set `max_features='sqrt'` or remove this parameter as it is also the default value for RandomForestClassifiers and ExtraTreesClassifiers.\n",
      "  warn(\n",
      "/config/.local/lib/python3.8/site-packages/sklearn/ensemble/_forest.py:425: FutureWarning: `max_features='auto'` has been deprecated in 1.1 and will be removed in 1.3. To keep the past behaviour, explicitly set `max_features='sqrt'` or remove this parameter as it is also the default value for RandomForestClassifiers and ExtraTreesClassifiers.\n",
      "  warn(\n"
     ]
    },
    {
     "name": "stdout",
     "output_type": "stream",
     "text": [
      "[CV 1/5] END criterion=entropy, max_depth=3, max_features=auto, n_estimators=50;, score=0.939 total time=   0.1s\n",
      "[CV 2/5] END criterion=entropy, max_depth=3, max_features=auto, n_estimators=50;, score=0.936 total time=   0.1s\n"
     ]
    },
    {
     "name": "stderr",
     "output_type": "stream",
     "text": [
      "/config/.local/lib/python3.8/site-packages/sklearn/ensemble/_forest.py:425: FutureWarning: `max_features='auto'` has been deprecated in 1.1 and will be removed in 1.3. To keep the past behaviour, explicitly set `max_features='sqrt'` or remove this parameter as it is also the default value for RandomForestClassifiers and ExtraTreesClassifiers.\n",
      "  warn(\n",
      "/config/.local/lib/python3.8/site-packages/sklearn/ensemble/_forest.py:425: FutureWarning: `max_features='auto'` has been deprecated in 1.1 and will be removed in 1.3. To keep the past behaviour, explicitly set `max_features='sqrt'` or remove this parameter as it is also the default value for RandomForestClassifiers and ExtraTreesClassifiers.\n",
      "  warn(\n"
     ]
    },
    {
     "name": "stdout",
     "output_type": "stream",
     "text": [
      "[CV 3/5] END criterion=entropy, max_depth=3, max_features=auto, n_estimators=50;, score=0.934 total time=   0.1s\n",
      "[CV 4/5] END criterion=entropy, max_depth=3, max_features=auto, n_estimators=50;, score=0.936 total time=   0.1s\n"
     ]
    },
    {
     "name": "stderr",
     "output_type": "stream",
     "text": [
      "/config/.local/lib/python3.8/site-packages/sklearn/ensemble/_forest.py:425: FutureWarning: `max_features='auto'` has been deprecated in 1.1 and will be removed in 1.3. To keep the past behaviour, explicitly set `max_features='sqrt'` or remove this parameter as it is also the default value for RandomForestClassifiers and ExtraTreesClassifiers.\n",
      "  warn(\n",
      "/config/.local/lib/python3.8/site-packages/sklearn/ensemble/_forest.py:425: FutureWarning: `max_features='auto'` has been deprecated in 1.1 and will be removed in 1.3. To keep the past behaviour, explicitly set `max_features='sqrt'` or remove this parameter as it is also the default value for RandomForestClassifiers and ExtraTreesClassifiers.\n",
      "  warn(\n"
     ]
    },
    {
     "name": "stdout",
     "output_type": "stream",
     "text": [
      "[CV 5/5] END criterion=entropy, max_depth=3, max_features=auto, n_estimators=50;, score=0.936 total time=   0.1s\n"
     ]
    },
    {
     "name": "stderr",
     "output_type": "stream",
     "text": [
      "/config/.local/lib/python3.8/site-packages/sklearn/ensemble/_forest.py:425: FutureWarning: `max_features='auto'` has been deprecated in 1.1 and will be removed in 1.3. To keep the past behaviour, explicitly set `max_features='sqrt'` or remove this parameter as it is also the default value for RandomForestClassifiers and ExtraTreesClassifiers.\n",
      "  warn(\n"
     ]
    },
    {
     "name": "stdout",
     "output_type": "stream",
     "text": [
      "[CV 1/5] END criterion=entropy, max_depth=3, max_features=auto, n_estimators=100;, score=0.938 total time=   0.2s\n"
     ]
    },
    {
     "name": "stderr",
     "output_type": "stream",
     "text": [
      "/config/.local/lib/python3.8/site-packages/sklearn/ensemble/_forest.py:425: FutureWarning: `max_features='auto'` has been deprecated in 1.1 and will be removed in 1.3. To keep the past behaviour, explicitly set `max_features='sqrt'` or remove this parameter as it is also the default value for RandomForestClassifiers and ExtraTreesClassifiers.\n",
      "  warn(\n"
     ]
    },
    {
     "name": "stdout",
     "output_type": "stream",
     "text": [
      "[CV 2/5] END criterion=entropy, max_depth=3, max_features=auto, n_estimators=100;, score=0.938 total time=   0.2s\n"
     ]
    },
    {
     "name": "stderr",
     "output_type": "stream",
     "text": [
      "/config/.local/lib/python3.8/site-packages/sklearn/ensemble/_forest.py:425: FutureWarning: `max_features='auto'` has been deprecated in 1.1 and will be removed in 1.3. To keep the past behaviour, explicitly set `max_features='sqrt'` or remove this parameter as it is also the default value for RandomForestClassifiers and ExtraTreesClassifiers.\n",
      "  warn(\n"
     ]
    },
    {
     "name": "stdout",
     "output_type": "stream",
     "text": [
      "[CV 3/5] END criterion=entropy, max_depth=3, max_features=auto, n_estimators=100;, score=0.936 total time=   0.2s\n"
     ]
    },
    {
     "name": "stderr",
     "output_type": "stream",
     "text": [
      "/config/.local/lib/python3.8/site-packages/sklearn/ensemble/_forest.py:425: FutureWarning: `max_features='auto'` has been deprecated in 1.1 and will be removed in 1.3. To keep the past behaviour, explicitly set `max_features='sqrt'` or remove this parameter as it is also the default value for RandomForestClassifiers and ExtraTreesClassifiers.\n",
      "  warn(\n"
     ]
    },
    {
     "name": "stdout",
     "output_type": "stream",
     "text": [
      "[CV 4/5] END criterion=entropy, max_depth=3, max_features=auto, n_estimators=100;, score=0.936 total time=   0.2s\n"
     ]
    },
    {
     "name": "stderr",
     "output_type": "stream",
     "text": [
      "/config/.local/lib/python3.8/site-packages/sklearn/ensemble/_forest.py:425: FutureWarning: `max_features='auto'` has been deprecated in 1.1 and will be removed in 1.3. To keep the past behaviour, explicitly set `max_features='sqrt'` or remove this parameter as it is also the default value for RandomForestClassifiers and ExtraTreesClassifiers.\n",
      "  warn(\n"
     ]
    },
    {
     "name": "stdout",
     "output_type": "stream",
     "text": [
      "[CV 5/5] END criterion=entropy, max_depth=3, max_features=auto, n_estimators=100;, score=0.941 total time=   0.2s\n"
     ]
    },
    {
     "name": "stderr",
     "output_type": "stream",
     "text": [
      "/config/.local/lib/python3.8/site-packages/sklearn/ensemble/_forest.py:425: FutureWarning: `max_features='auto'` has been deprecated in 1.1 and will be removed in 1.3. To keep the past behaviour, explicitly set `max_features='sqrt'` or remove this parameter as it is also the default value for RandomForestClassifiers and ExtraTreesClassifiers.\n",
      "  warn(\n"
     ]
    },
    {
     "name": "stdout",
     "output_type": "stream",
     "text": [
      "[CV 1/5] END criterion=entropy, max_depth=3, max_features=auto, n_estimators=130;, score=0.939 total time=   0.3s\n"
     ]
    },
    {
     "name": "stderr",
     "output_type": "stream",
     "text": [
      "/config/.local/lib/python3.8/site-packages/sklearn/ensemble/_forest.py:425: FutureWarning: `max_features='auto'` has been deprecated in 1.1 and will be removed in 1.3. To keep the past behaviour, explicitly set `max_features='sqrt'` or remove this parameter as it is also the default value for RandomForestClassifiers and ExtraTreesClassifiers.\n",
      "  warn(\n"
     ]
    },
    {
     "name": "stdout",
     "output_type": "stream",
     "text": [
      "[CV 2/5] END criterion=entropy, max_depth=3, max_features=auto, n_estimators=130;, score=0.936 total time=   0.3s\n"
     ]
    },
    {
     "name": "stderr",
     "output_type": "stream",
     "text": [
      "/config/.local/lib/python3.8/site-packages/sklearn/ensemble/_forest.py:425: FutureWarning: `max_features='auto'` has been deprecated in 1.1 and will be removed in 1.3. To keep the past behaviour, explicitly set `max_features='sqrt'` or remove this parameter as it is also the default value for RandomForestClassifiers and ExtraTreesClassifiers.\n",
      "  warn(\n"
     ]
    },
    {
     "name": "stdout",
     "output_type": "stream",
     "text": [
      "[CV 3/5] END criterion=entropy, max_depth=3, max_features=auto, n_estimators=130;, score=0.934 total time=   0.3s\n"
     ]
    },
    {
     "name": "stderr",
     "output_type": "stream",
     "text": [
      "/config/.local/lib/python3.8/site-packages/sklearn/ensemble/_forest.py:425: FutureWarning: `max_features='auto'` has been deprecated in 1.1 and will be removed in 1.3. To keep the past behaviour, explicitly set `max_features='sqrt'` or remove this parameter as it is also the default value for RandomForestClassifiers and ExtraTreesClassifiers.\n",
      "  warn(\n"
     ]
    },
    {
     "name": "stdout",
     "output_type": "stream",
     "text": [
      "[CV 4/5] END criterion=entropy, max_depth=3, max_features=auto, n_estimators=130;, score=0.936 total time=   0.3s\n"
     ]
    },
    {
     "name": "stderr",
     "output_type": "stream",
     "text": [
      "/config/.local/lib/python3.8/site-packages/sklearn/ensemble/_forest.py:425: FutureWarning: `max_features='auto'` has been deprecated in 1.1 and will be removed in 1.3. To keep the past behaviour, explicitly set `max_features='sqrt'` or remove this parameter as it is also the default value for RandomForestClassifiers and ExtraTreesClassifiers.\n",
      "  warn(\n"
     ]
    },
    {
     "name": "stdout",
     "output_type": "stream",
     "text": [
      "[CV 5/5] END criterion=entropy, max_depth=3, max_features=auto, n_estimators=130;, score=0.938 total time=   0.3s\n",
      "[CV 1/5] END criterion=entropy, max_depth=3, max_features=log2, n_estimators=10;, score=0.936 total time=   0.0s\n",
      "[CV 2/5] END criterion=entropy, max_depth=3, max_features=log2, n_estimators=10;, score=0.932 total time=   0.0s\n",
      "[CV 3/5] END criterion=entropy, max_depth=3, max_features=log2, n_estimators=10;, score=0.926 total time=   0.0s\n",
      "[CV 4/5] END criterion=entropy, max_depth=3, max_features=log2, n_estimators=10;, score=0.934 total time=   0.0s\n",
      "[CV 5/5] END criterion=entropy, max_depth=3, max_features=log2, n_estimators=10;, score=0.939 total time=   0.0s\n",
      "[CV 1/5] END criterion=entropy, max_depth=3, max_features=log2, n_estimators=50;, score=0.939 total time=   0.1s\n",
      "[CV 2/5] END criterion=entropy, max_depth=3, max_features=log2, n_estimators=50;, score=0.936 total time=   0.1s\n",
      "[CV 3/5] END criterion=entropy, max_depth=3, max_features=log2, n_estimators=50;, score=0.930 total time=   0.1s\n",
      "[CV 4/5] END criterion=entropy, max_depth=3, max_features=log2, n_estimators=50;, score=0.936 total time=   0.1s\n",
      "[CV 5/5] END criterion=entropy, max_depth=3, max_features=log2, n_estimators=50;, score=0.939 total time=   0.1s\n",
      "[CV 1/5] END criterion=entropy, max_depth=3, max_features=log2, n_estimators=100;, score=0.936 total time=   0.2s\n",
      "[CV 2/5] END criterion=entropy, max_depth=3, max_features=log2, n_estimators=100;, score=0.936 total time=   0.2s\n",
      "[CV 3/5] END criterion=entropy, max_depth=3, max_features=log2, n_estimators=100;, score=0.930 total time=   0.2s\n",
      "[CV 4/5] END criterion=entropy, max_depth=3, max_features=log2, n_estimators=100;, score=0.936 total time=   0.2s\n",
      "[CV 5/5] END criterion=entropy, max_depth=3, max_features=log2, n_estimators=100;, score=0.934 total time=   0.2s\n",
      "[CV 1/5] END criterion=entropy, max_depth=3, max_features=log2, n_estimators=130;, score=0.938 total time=   0.3s\n",
      "[CV 2/5] END criterion=entropy, max_depth=3, max_features=log2, n_estimators=130;, score=0.934 total time=   0.3s\n",
      "[CV 3/5] END criterion=entropy, max_depth=3, max_features=log2, n_estimators=130;, score=0.930 total time=   0.3s\n",
      "[CV 4/5] END criterion=entropy, max_depth=3, max_features=log2, n_estimators=130;, score=0.936 total time=   0.3s\n",
      "[CV 5/5] END criterion=entropy, max_depth=3, max_features=log2, n_estimators=130;, score=0.938 total time=   0.3s\n"
     ]
    },
    {
     "name": "stderr",
     "output_type": "stream",
     "text": [
      "/config/.local/lib/python3.8/site-packages/sklearn/ensemble/_forest.py:425: FutureWarning: `max_features='auto'` has been deprecated in 1.1 and will be removed in 1.3. To keep the past behaviour, explicitly set `max_features='sqrt'` or remove this parameter as it is also the default value for RandomForestClassifiers and ExtraTreesClassifiers.\n",
      "  warn(\n"
     ]
    },
    {
     "data": {
      "text/html": [
       "<style>#sk-container-id-3 {color: black;background-color: white;}#sk-container-id-3 pre{padding: 0;}#sk-container-id-3 div.sk-toggleable {background-color: white;}#sk-container-id-3 label.sk-toggleable__label {cursor: pointer;display: block;width: 100%;margin-bottom: 0;padding: 0.3em;box-sizing: border-box;text-align: center;}#sk-container-id-3 label.sk-toggleable__label-arrow:before {content: \"▸\";float: left;margin-right: 0.25em;color: #696969;}#sk-container-id-3 label.sk-toggleable__label-arrow:hover:before {color: black;}#sk-container-id-3 div.sk-estimator:hover label.sk-toggleable__label-arrow:before {color: black;}#sk-container-id-3 div.sk-toggleable__content {max-height: 0;max-width: 0;overflow: hidden;text-align: left;background-color: #f0f8ff;}#sk-container-id-3 div.sk-toggleable__content pre {margin: 0.2em;color: black;border-radius: 0.25em;background-color: #f0f8ff;}#sk-container-id-3 input.sk-toggleable__control:checked~div.sk-toggleable__content {max-height: 200px;max-width: 100%;overflow: auto;}#sk-container-id-3 input.sk-toggleable__control:checked~label.sk-toggleable__label-arrow:before {content: \"▾\";}#sk-container-id-3 div.sk-estimator input.sk-toggleable__control:checked~label.sk-toggleable__label {background-color: #d4ebff;}#sk-container-id-3 div.sk-label input.sk-toggleable__control:checked~label.sk-toggleable__label {background-color: #d4ebff;}#sk-container-id-3 input.sk-hidden--visually {border: 0;clip: rect(1px 1px 1px 1px);clip: rect(1px, 1px, 1px, 1px);height: 1px;margin: -1px;overflow: hidden;padding: 0;position: absolute;width: 1px;}#sk-container-id-3 div.sk-estimator {font-family: monospace;background-color: #f0f8ff;border: 1px dotted black;border-radius: 0.25em;box-sizing: border-box;margin-bottom: 0.5em;}#sk-container-id-3 div.sk-estimator:hover {background-color: #d4ebff;}#sk-container-id-3 div.sk-parallel-item::after {content: \"\";width: 100%;border-bottom: 1px solid gray;flex-grow: 1;}#sk-container-id-3 div.sk-label:hover label.sk-toggleable__label {background-color: #d4ebff;}#sk-container-id-3 div.sk-serial::before {content: \"\";position: absolute;border-left: 1px solid gray;box-sizing: border-box;top: 0;bottom: 0;left: 50%;z-index: 0;}#sk-container-id-3 div.sk-serial {display: flex;flex-direction: column;align-items: center;background-color: white;padding-right: 0.2em;padding-left: 0.2em;position: relative;}#sk-container-id-3 div.sk-item {position: relative;z-index: 1;}#sk-container-id-3 div.sk-parallel {display: flex;align-items: stretch;justify-content: center;background-color: white;position: relative;}#sk-container-id-3 div.sk-item::before, #sk-container-id-3 div.sk-parallel-item::before {content: \"\";position: absolute;border-left: 1px solid gray;box-sizing: border-box;top: 0;bottom: 0;left: 50%;z-index: -1;}#sk-container-id-3 div.sk-parallel-item {display: flex;flex-direction: column;z-index: 1;position: relative;background-color: white;}#sk-container-id-3 div.sk-parallel-item:first-child::after {align-self: flex-end;width: 50%;}#sk-container-id-3 div.sk-parallel-item:last-child::after {align-self: flex-start;width: 50%;}#sk-container-id-3 div.sk-parallel-item:only-child::after {width: 0;}#sk-container-id-3 div.sk-dashed-wrapped {border: 1px dashed gray;margin: 0 0.4em 0.5em 0.4em;box-sizing: border-box;padding-bottom: 0.4em;background-color: white;}#sk-container-id-3 div.sk-label label {font-family: monospace;font-weight: bold;display: inline-block;line-height: 1.2em;}#sk-container-id-3 div.sk-label-container {text-align: center;}#sk-container-id-3 div.sk-container {/* jupyter's `normalize.less` sets `[hidden] { display: none; }` but bootstrap.min.css set `[hidden] { display: none !important; }` so we also need the `!important` here to be able to override the default hidden behavior on the sphinx rendered scikit-learn.org. See: https://github.com/scikit-learn/scikit-learn/issues/21755 */display: inline-block !important;position: relative;}#sk-container-id-3 div.sk-text-repr-fallback {display: none;}</style><div id=\"sk-container-id-3\" class=\"sk-top-container\"><div class=\"sk-text-repr-fallback\"><pre>GridSearchCV(cv=5, estimator=RandomForestClassifier(),\n",
       "             param_grid={&#x27;criterion&#x27;: [&#x27;gini&#x27;, &#x27;entropy&#x27;],\n",
       "                         &#x27;max_depth&#x27;: range(2, 4),\n",
       "                         &#x27;max_features&#x27;: [&#x27;auto&#x27;, &#x27;log2&#x27;],\n",
       "                         &#x27;n_estimators&#x27;: [10, 50, 100, 130]},\n",
       "             verbose=3)</pre><b>In a Jupyter environment, please rerun this cell to show the HTML representation or trust the notebook. <br />On GitHub, the HTML representation is unable to render, please try loading this page with nbviewer.org.</b></div><div class=\"sk-container\" hidden><div class=\"sk-item sk-dashed-wrapped\"><div class=\"sk-label-container\"><div class=\"sk-label sk-toggleable\"><input class=\"sk-toggleable__control sk-hidden--visually\" id=\"sk-estimator-id-5\" type=\"checkbox\" ><label for=\"sk-estimator-id-5\" class=\"sk-toggleable__label sk-toggleable__label-arrow\">GridSearchCV</label><div class=\"sk-toggleable__content\"><pre>GridSearchCV(cv=5, estimator=RandomForestClassifier(),\n",
       "             param_grid={&#x27;criterion&#x27;: [&#x27;gini&#x27;, &#x27;entropy&#x27;],\n",
       "                         &#x27;max_depth&#x27;: range(2, 4),\n",
       "                         &#x27;max_features&#x27;: [&#x27;auto&#x27;, &#x27;log2&#x27;],\n",
       "                         &#x27;n_estimators&#x27;: [10, 50, 100, 130]},\n",
       "             verbose=3)</pre></div></div></div><div class=\"sk-parallel\"><div class=\"sk-parallel-item\"><div class=\"sk-item\"><div class=\"sk-label-container\"><div class=\"sk-label sk-toggleable\"><input class=\"sk-toggleable__control sk-hidden--visually\" id=\"sk-estimator-id-6\" type=\"checkbox\" ><label for=\"sk-estimator-id-6\" class=\"sk-toggleable__label sk-toggleable__label-arrow\">estimator: RandomForestClassifier</label><div class=\"sk-toggleable__content\"><pre>RandomForestClassifier()</pre></div></div></div><div class=\"sk-serial\"><div class=\"sk-item\"><div class=\"sk-estimator sk-toggleable\"><input class=\"sk-toggleable__control sk-hidden--visually\" id=\"sk-estimator-id-7\" type=\"checkbox\" ><label for=\"sk-estimator-id-7\" class=\"sk-toggleable__label sk-toggleable__label-arrow\">RandomForestClassifier</label><div class=\"sk-toggleable__content\"><pre>RandomForestClassifier()</pre></div></div></div></div></div></div></div></div></div></div>"
      ],
      "text/plain": [
       "GridSearchCV(cv=5, estimator=RandomForestClassifier(),\n",
       "             param_grid={'criterion': ['gini', 'entropy'],\n",
       "                         'max_depth': range(2, 4),\n",
       "                         'max_features': ['auto', 'log2'],\n",
       "                         'n_estimators': [10, 50, 100, 130]},\n",
       "             verbose=3)"
      ]
     },
     "execution_count": 54,
     "metadata": {},
     "output_type": "execute_result"
    }
   ],
   "source": [
    "grid_rcf.fit(X_train,y_train)"
   ]
  },
  {
   "cell_type": "code",
   "execution_count": 61,
   "metadata": {},
   "outputs": [
    {
     "name": "stdout",
     "output_type": "stream",
     "text": [
      "entropy\n",
      "3\n",
      "auto\n",
      "10\n"
     ]
    }
   ],
   "source": [
    "criterion = grid_rcf.best_params_['criterion']\n",
    "max_depth = grid_rcf.best_params_['max_depth']\n",
    "max_features = grid_rcf.best_params_['max_features']\n",
    "n_estimators = grid_rcf.best_params_['n_estimators']\n",
    "print(criterion)\n",
    "print(max_depth)\n",
    "print(max_features)\n",
    "print(n_estimators)"
   ]
  },
  {
   "cell_type": "code",
   "execution_count": 62,
   "metadata": {},
   "outputs": [
    {
     "name": "stderr",
     "output_type": "stream",
     "text": [
      "/config/.local/lib/python3.8/site-packages/sklearn/ensemble/_forest.py:425: FutureWarning: `max_features='auto'` has been deprecated in 1.1 and will be removed in 1.3. To keep the past behaviour, explicitly set `max_features='sqrt'` or remove this parameter as it is also the default value for RandomForestClassifiers and ExtraTreesClassifiers.\n",
      "  warn(\n"
     ]
    },
    {
     "data": {
      "text/html": [
       "<style>#sk-container-id-4 {color: black;background-color: white;}#sk-container-id-4 pre{padding: 0;}#sk-container-id-4 div.sk-toggleable {background-color: white;}#sk-container-id-4 label.sk-toggleable__label {cursor: pointer;display: block;width: 100%;margin-bottom: 0;padding: 0.3em;box-sizing: border-box;text-align: center;}#sk-container-id-4 label.sk-toggleable__label-arrow:before {content: \"▸\";float: left;margin-right: 0.25em;color: #696969;}#sk-container-id-4 label.sk-toggleable__label-arrow:hover:before {color: black;}#sk-container-id-4 div.sk-estimator:hover label.sk-toggleable__label-arrow:before {color: black;}#sk-container-id-4 div.sk-toggleable__content {max-height: 0;max-width: 0;overflow: hidden;text-align: left;background-color: #f0f8ff;}#sk-container-id-4 div.sk-toggleable__content pre {margin: 0.2em;color: black;border-radius: 0.25em;background-color: #f0f8ff;}#sk-container-id-4 input.sk-toggleable__control:checked~div.sk-toggleable__content {max-height: 200px;max-width: 100%;overflow: auto;}#sk-container-id-4 input.sk-toggleable__control:checked~label.sk-toggleable__label-arrow:before {content: \"▾\";}#sk-container-id-4 div.sk-estimator input.sk-toggleable__control:checked~label.sk-toggleable__label {background-color: #d4ebff;}#sk-container-id-4 div.sk-label input.sk-toggleable__control:checked~label.sk-toggleable__label {background-color: #d4ebff;}#sk-container-id-4 input.sk-hidden--visually {border: 0;clip: rect(1px 1px 1px 1px);clip: rect(1px, 1px, 1px, 1px);height: 1px;margin: -1px;overflow: hidden;padding: 0;position: absolute;width: 1px;}#sk-container-id-4 div.sk-estimator {font-family: monospace;background-color: #f0f8ff;border: 1px dotted black;border-radius: 0.25em;box-sizing: border-box;margin-bottom: 0.5em;}#sk-container-id-4 div.sk-estimator:hover {background-color: #d4ebff;}#sk-container-id-4 div.sk-parallel-item::after {content: \"\";width: 100%;border-bottom: 1px solid gray;flex-grow: 1;}#sk-container-id-4 div.sk-label:hover label.sk-toggleable__label {background-color: #d4ebff;}#sk-container-id-4 div.sk-serial::before {content: \"\";position: absolute;border-left: 1px solid gray;box-sizing: border-box;top: 0;bottom: 0;left: 50%;z-index: 0;}#sk-container-id-4 div.sk-serial {display: flex;flex-direction: column;align-items: center;background-color: white;padding-right: 0.2em;padding-left: 0.2em;position: relative;}#sk-container-id-4 div.sk-item {position: relative;z-index: 1;}#sk-container-id-4 div.sk-parallel {display: flex;align-items: stretch;justify-content: center;background-color: white;position: relative;}#sk-container-id-4 div.sk-item::before, #sk-container-id-4 div.sk-parallel-item::before {content: \"\";position: absolute;border-left: 1px solid gray;box-sizing: border-box;top: 0;bottom: 0;left: 50%;z-index: -1;}#sk-container-id-4 div.sk-parallel-item {display: flex;flex-direction: column;z-index: 1;position: relative;background-color: white;}#sk-container-id-4 div.sk-parallel-item:first-child::after {align-self: flex-end;width: 50%;}#sk-container-id-4 div.sk-parallel-item:last-child::after {align-self: flex-start;width: 50%;}#sk-container-id-4 div.sk-parallel-item:only-child::after {width: 0;}#sk-container-id-4 div.sk-dashed-wrapped {border: 1px dashed gray;margin: 0 0.4em 0.5em 0.4em;box-sizing: border-box;padding-bottom: 0.4em;background-color: white;}#sk-container-id-4 div.sk-label label {font-family: monospace;font-weight: bold;display: inline-block;line-height: 1.2em;}#sk-container-id-4 div.sk-label-container {text-align: center;}#sk-container-id-4 div.sk-container {/* jupyter's `normalize.less` sets `[hidden] { display: none; }` but bootstrap.min.css set `[hidden] { display: none !important; }` so we also need the `!important` here to be able to override the default hidden behavior on the sphinx rendered scikit-learn.org. See: https://github.com/scikit-learn/scikit-learn/issues/21755 */display: inline-block !important;position: relative;}#sk-container-id-4 div.sk-text-repr-fallback {display: none;}</style><div id=\"sk-container-id-4\" class=\"sk-top-container\"><div class=\"sk-text-repr-fallback\"><pre>RandomForestClassifier(criterion=&#x27;entropy&#x27;, max_depth=3, max_features=&#x27;auto&#x27;,\n",
       "                       n_estimators=10)</pre><b>In a Jupyter environment, please rerun this cell to show the HTML representation or trust the notebook. <br />On GitHub, the HTML representation is unable to render, please try loading this page with nbviewer.org.</b></div><div class=\"sk-container\" hidden><div class=\"sk-item\"><div class=\"sk-estimator sk-toggleable\"><input class=\"sk-toggleable__control sk-hidden--visually\" id=\"sk-estimator-id-8\" type=\"checkbox\" checked><label for=\"sk-estimator-id-8\" class=\"sk-toggleable__label sk-toggleable__label-arrow\">RandomForestClassifier</label><div class=\"sk-toggleable__content\"><pre>RandomForestClassifier(criterion=&#x27;entropy&#x27;, max_depth=3, max_features=&#x27;auto&#x27;,\n",
       "                       n_estimators=10)</pre></div></div></div></div></div>"
      ],
      "text/plain": [
       "RandomForestClassifier(criterion='entropy', max_depth=3, max_features='auto',\n",
       "                       n_estimators=10)"
      ]
     },
     "execution_count": 62,
     "metadata": {},
     "output_type": "execute_result"
    }
   ],
   "source": [
    "rcf = RandomForestClassifier(n_estimators=10, criterion='entropy',\n",
    "                                              max_depth=3, max_features='auto')\n",
    "rcf.fit(X_train,y_train)"
   ]
  },
  {
   "cell_type": "code",
   "execution_count": 68,
   "metadata": {},
   "outputs": [
    {
     "name": "stdout",
     "output_type": "stream",
     "text": [
      "0.9602473498233216\n"
     ]
    }
   ],
   "source": [
    "prediction_knn = knn.predict(X_test)\n",
    "#knn_score = accuracy_score(test_y, prediction_knn)\n",
    "knn_score = accuracy_score(y_test, prediction_knn)\n",
    "print(knn_score)"
   ]
  },
  {
   "cell_type": "code",
   "execution_count": 1,
   "metadata": {},
   "outputs": [
    {
     "ename": "NameError",
     "evalue": "name 'rcf' is not defined",
     "output_type": "error",
     "traceback": [
      "\u001b[0;31m---------------------------------------------------------------------------\u001b[0m",
      "\u001b[0;31mNameError\u001b[0m                                 Traceback (most recent call last)",
      "Cell \u001b[0;32mIn[1], line 1\u001b[0m\n\u001b[0;32m----> 1\u001b[0m prediction_random_forest\u001b[38;5;241m=\u001b[39m\u001b[43mrcf\u001b[49m\u001b[38;5;241m.\u001b[39mpredict(X_test)\n\u001b[1;32m      2\u001b[0m random_forest_score \u001b[38;5;241m=\u001b[39m accuracy_score(y_test, prediction_random_forest)\n\u001b[1;32m      3\u001b[0m \u001b[38;5;28mprint\u001b[39m(random_forest_score)\n",
      "\u001b[0;31mNameError\u001b[0m: name 'rcf' is not defined"
     ]
    }
   ],
   "source": [
    "prediction_random_forest=rcf.predict(X_test)\n",
    "random_forest_score = accuracy_score(y_test, prediction_random_forest)\n",
    "print(random_forest_score)"
   ]
  },
  {
   "cell_type": "code",
   "execution_count": null,
   "metadata": {},
   "outputs": [],
   "source": []
  }
 ],
 "metadata": {
  "kernelspec": {
   "display_name": "Python 3.8.10 64-bit",
   "language": "python",
   "name": "python3"
  },
  "language_info": {
   "codemirror_mode": {
    "name": "ipython",
    "version": 3
   },
   "file_extension": ".py",
   "mimetype": "text/x-python",
   "name": "python",
   "nbconvert_exporter": "python",
   "pygments_lexer": "ipython3",
   "version": "3.8.10"
  },
  "orig_nbformat": 4,
  "vscode": {
   "interpreter": {
    "hash": "e7370f93d1d0cde622a1f8e1c04877d8463912d04d973331ad4851f04de6915a"
   }
  }
 },
 "nbformat": 4,
 "nbformat_minor": 2
}
